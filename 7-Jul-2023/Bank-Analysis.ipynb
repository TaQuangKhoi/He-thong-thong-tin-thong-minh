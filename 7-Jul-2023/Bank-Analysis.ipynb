{
 "cells": [
  {
   "cell_type": "markdown",
   "source": [
    "Để Bài: PHÂN TÍCH HÀNH VI GIAO DỊCH CỦA KHÁCH HÀNG VỚI DỮ LIỆU NGÂN\n",
    "HÀNG GỒM 5 FIELD: ID NGÂN HÀNG, KÊNH GIAO DỊCH (Mobile Banking, Internet\n",
    "Banking hoặc ATM), TỔNG SỐ TIỀN GIAO DỊCH, LOẠI GIAO DỊCH, THỜI GIAN\n",
    "GIAO DỊCH"
   ],
   "metadata": {
    "collapsed": false
   }
  },
  {
   "cell_type": "code",
   "execution_count": 37,
   "outputs": [
    {
     "data": {
      "text/plain": "  BRANCH_ID CHANNEL_ID   AMOUNT          TRAN_TYPE           TRAN_TIME\n0    BR0001     MOBILE  3020080      BOOKING ORDER 2019-01-12 01:11:00\n1    BR0002        ATM  2001100  CASH TRANSACTIONS 2019-01-12 11:01:00\n2    BR0004     MOBILE  2140140      BOOKING ORDER 2019-01-12 01:11:00\n3    BR0002   INTERNET  4293000  FINANCIAL POSTING 2019-01-12 06:50:00\n4    BR0003     MOBILE  3046430      BOOKING ORDER 2019-01-12 01:11:00",
      "text/html": "<div>\n<style scoped>\n    .dataframe tbody tr th:only-of-type {\n        vertical-align: middle;\n    }\n\n    .dataframe tbody tr th {\n        vertical-align: top;\n    }\n\n    .dataframe thead th {\n        text-align: right;\n    }\n</style>\n<table border=\"1\" class=\"dataframe\">\n  <thead>\n    <tr style=\"text-align: right;\">\n      <th></th>\n      <th>BRANCH_ID</th>\n      <th>CHANNEL_ID</th>\n      <th>AMOUNT</th>\n      <th>TRAN_TYPE</th>\n      <th>TRAN_TIME</th>\n    </tr>\n  </thead>\n  <tbody>\n    <tr>\n      <th>0</th>\n      <td>BR0001</td>\n      <td>MOBILE</td>\n      <td>3020080</td>\n      <td>BOOKING ORDER</td>\n      <td>2019-01-12 01:11:00</td>\n    </tr>\n    <tr>\n      <th>1</th>\n      <td>BR0002</td>\n      <td>ATM</td>\n      <td>2001100</td>\n      <td>CASH TRANSACTIONS</td>\n      <td>2019-01-12 11:01:00</td>\n    </tr>\n    <tr>\n      <th>2</th>\n      <td>BR0004</td>\n      <td>MOBILE</td>\n      <td>2140140</td>\n      <td>BOOKING ORDER</td>\n      <td>2019-01-12 01:11:00</td>\n    </tr>\n    <tr>\n      <th>3</th>\n      <td>BR0002</td>\n      <td>INTERNET</td>\n      <td>4293000</td>\n      <td>FINANCIAL POSTING</td>\n      <td>2019-01-12 06:50:00</td>\n    </tr>\n    <tr>\n      <th>4</th>\n      <td>BR0003</td>\n      <td>MOBILE</td>\n      <td>3046430</td>\n      <td>BOOKING ORDER</td>\n      <td>2019-01-12 01:11:00</td>\n    </tr>\n  </tbody>\n</table>\n</div>"
     },
     "execution_count": 37,
     "metadata": {},
     "output_type": "execute_result"
    }
   ],
   "source": [
    "import matplotlib.pyplot as plt\n",
    "import pandas as pd\n",
    "import numpy as np\n",
    "\n",
    "# Open file csv\n",
    "source_file = 'DataBank.xlsx'\n",
    "df = pd.read_excel(source_file)\n",
    "\n",
    "df.head(5)"
   ],
   "metadata": {
    "collapsed": false,
    "ExecuteTime": {
     "end_time": "2023-07-07T01:13:50.747733800Z",
     "start_time": "2023-07-07T01:13:50.568668500Z"
    }
   }
  },
  {
   "cell_type": "code",
   "execution_count": 38,
   "outputs": [
    {
     "name": "stdout",
     "output_type": "stream",
     "text": [
      "datetime64[ns]\n"
     ]
    }
   ],
   "source": [
    "print(df['TRAN_TIME'].dtypes)"
   ],
   "metadata": {
    "collapsed": false,
    "ExecuteTime": {
     "end_time": "2023-07-07T01:13:50.749730100Z",
     "start_time": "2023-07-07T01:13:50.651881200Z"
    }
   }
  },
  {
   "cell_type": "code",
   "execution_count": 39,
   "outputs": [
    {
     "name": "stdout",
     "output_type": "stream",
     "text": [
      "object\n"
     ]
    }
   ],
   "source": [
    "print(df['TRAN_TYPE'].dtypes)"
   ],
   "metadata": {
    "collapsed": false,
    "ExecuteTime": {
     "end_time": "2023-07-07T01:13:50.751724400Z",
     "start_time": "2023-07-07T01:13:50.667612200Z"
    }
   }
  },
  {
   "cell_type": "code",
   "execution_count": 40,
   "outputs": [
    {
     "name": "stdout",
     "output_type": "stream",
     "text": [
      "int64\n"
     ]
    }
   ],
   "source": [
    "print(df['AMOUNT'].dtypes)"
   ],
   "metadata": {
    "collapsed": false,
    "ExecuteTime": {
     "end_time": "2023-07-07T01:13:50.784825700Z",
     "start_time": "2023-07-07T01:13:50.683858Z"
    }
   }
  },
  {
   "cell_type": "code",
   "execution_count": 41,
   "outputs": [
    {
     "name": "stdout",
     "output_type": "stream",
     "text": [
      "count    5.000000e+02\n",
      "mean     3.529194e+06\n",
      "std      1.602360e+07\n",
      "min     -2.000000e+06\n",
      "25%      7.883650e+04\n",
      "50%      1.002200e+06\n",
      "75%      3.000000e+06\n",
      "max      3.000000e+08\n",
      "Name: AMOUNT, dtype: float64\n"
     ]
    }
   ],
   "source": [
    "# Overview data\n",
    "print(df['AMOUNT'].describe())"
   ],
   "metadata": {
    "collapsed": false,
    "ExecuteTime": {
     "end_time": "2023-07-07T01:13:50.785768800Z",
     "start_time": "2023-07-07T01:13:50.703115500Z"
    }
   }
  },
  {
   "cell_type": "code",
   "execution_count": 42,
   "outputs": [
    {
     "name": "stdout",
     "output_type": "stream",
     "text": [
      "mask len 500\n",
      "count    4.980000e+02\n",
      "mean     3.547383e+06\n",
      "std      1.605310e+07\n",
      "min      1.000000e+01\n",
      "25%      8.418000e+04\n",
      "50%      1.006600e+06\n",
      "75%      3.000000e+06\n",
      "max      3.000000e+08\n",
      "Name: AMOUNT, dtype: float64\n"
     ]
    },
    {
     "name": "stderr",
     "output_type": "stream",
     "text": [
      "C:\\Users\\taqua\\AppData\\Local\\Temp\\ipykernel_3912\\3989119587.py:4: UserWarning: Boolean Series key will be reindexed to match DataFrame index.\n",
      "  print(df[mask]['AMOUNT'].describe())\n"
     ]
    }
   ],
   "source": [
    "mask = df['AMOUNT'] > 0\n",
    "print('mask len', len(mask))\n",
    "df = df[mask]\n",
    "print(df[mask]['AMOUNT'].describe())"
   ],
   "metadata": {
    "collapsed": false,
    "ExecuteTime": {
     "end_time": "2023-07-07T01:13:50.787751100Z",
     "start_time": "2023-07-07T01:13:50.714567500Z"
    }
   }
  },
  {
   "cell_type": "code",
   "execution_count": 43,
   "outputs": [
    {
     "data": {
      "text/plain": "            TRAN_TIME TRAN_HOUR\n0 2019-01-12 01:11:00        01\n1 2019-01-12 11:01:00        11\n2 2019-01-12 01:11:00        01\n3 2019-01-12 06:50:00        06\n4 2019-01-12 01:11:00        01",
      "text/html": "<div>\n<style scoped>\n    .dataframe tbody tr th:only-of-type {\n        vertical-align: middle;\n    }\n\n    .dataframe tbody tr th {\n        vertical-align: top;\n    }\n\n    .dataframe thead th {\n        text-align: right;\n    }\n</style>\n<table border=\"1\" class=\"dataframe\">\n  <thead>\n    <tr style=\"text-align: right;\">\n      <th></th>\n      <th>TRAN_TIME</th>\n      <th>TRAN_HOUR</th>\n    </tr>\n  </thead>\n  <tbody>\n    <tr>\n      <th>0</th>\n      <td>2019-01-12 01:11:00</td>\n      <td>01</td>\n    </tr>\n    <tr>\n      <th>1</th>\n      <td>2019-01-12 11:01:00</td>\n      <td>11</td>\n    </tr>\n    <tr>\n      <th>2</th>\n      <td>2019-01-12 01:11:00</td>\n      <td>01</td>\n    </tr>\n    <tr>\n      <th>3</th>\n      <td>2019-01-12 06:50:00</td>\n      <td>06</td>\n    </tr>\n    <tr>\n      <th>4</th>\n      <td>2019-01-12 01:11:00</td>\n      <td>01</td>\n    </tr>\n  </tbody>\n</table>\n</div>"
     },
     "execution_count": 43,
     "metadata": {},
     "output_type": "execute_result"
    }
   ],
   "source": [
    "# Create Hour column\n",
    "df['TRAN_HOUR'] = df['TRAN_TIME'].dt.strftime('%H')\n",
    "\n",
    "# Check data\n",
    "df[['TRAN_TIME', 'TRAN_HOUR']].head(5)"
   ],
   "metadata": {
    "collapsed": false,
    "ExecuteTime": {
     "end_time": "2023-07-07T01:13:50.975682500Z",
     "start_time": "2023-07-07T01:13:50.755984Z"
    }
   }
  },
  {
   "cell_type": "markdown",
   "source": [
    "# Phân tích và biểu diễn dữ liệu"
   ],
   "metadata": {
    "collapsed": false
   }
  },
  {
   "cell_type": "markdown",
   "source": [
    "## 1 - Biểu đồ Pie"
   ],
   "metadata": {
    "collapsed": false
   }
  },
  {
   "cell_type": "code",
   "execution_count": 44,
   "outputs": [
    {
     "name": "stdout",
     "output_type": "stream",
     "text": [
      "  CHANNEL_ID  SUM_AMT_BY_CHANNEL\n",
      "0        ATM           179502250\n",
      "1   INTERNET           768629241\n",
      "2     MOBILE           818465352\n",
      "            SUM_AMT_BY_CHANNEL\n",
      "CHANNEL_ID                    \n",
      "ATM                  179502250\n",
      "INTERNET             768629241\n",
      "MOBILE               818465352\n"
     ]
    },
    {
     "data": {
      "text/plain": "<Figure size 800x800 with 1 Axes>",
      "image/png": "[encoded data removed]"
     },
     "metadata": {},
     "output_type": "display_data"
    }
   ],
   "source": [
    "sum_AMT_byChannel = df.groupby('CHANNEL_ID')['AMOUNT'].sum().reset_index(name='SUM_AMT_BY_CHANNEL')\n",
    "print(sum_AMT_byChannel)\n",
    "\n",
    "df_plot = sum_AMT_byChannel\n",
    "df_plot = df_plot.set_index('CHANNEL_ID')\n",
    "print(df_plot)\n",
    "plot = df_plot.plot.pie(y='SUM_AMT_BY_CHANNEL',\n",
    "                        subplots=True,\n",
    "                        figsize=(8, 8))\n",
    "\n",
    "plt.title(\"DOANH SỐ GIAO DỊCH THEO KÊNH\")\n",
    "plt.ylabel(\"\")\n",
    "plt.show()\n"
   ],
   "metadata": {
    "collapsed": false,
    "ExecuteTime": {
     "end_time": "2023-07-07T01:13:51.065738300Z",
     "start_time": "2023-07-07T01:13:50.775843200Z"
    }
   }
  },
  {
   "cell_type": "markdown",
   "source": [
    "## 2 - Biểu đồ Cột về số lượng và Doanh số giao dịch theo kênh"
   ],
   "metadata": {
    "collapsed": false
   }
  },
  {
   "cell_type": "markdown",
   "source": [
    "### 2.1. VE BIEU DO DOANH SO VA SỐ LƯỢNG GIAO DỊCH TRÊN CÁC KÊNH GIAO DỊCH"
   ],
   "metadata": {
    "collapsed": false
   }
  },
  {
   "cell_type": "code",
   "execution_count": 47,
   "outputs": [
    {
     "name": "stdout",
     "output_type": "stream",
     "text": [
      "  CHANNEL_ID  COUNTS\n",
      "0        ATM      98\n",
      "1   INTERNET      72\n",
      "2     MOBILE     328\n",
      "  CHANNEL_ID  SUM_AMT_BY_CHANNEL  COUNTS\n",
      "0        ATM           179502250      98\n",
      "1   INTERNET           768629241      72\n",
      "2     MOBILE           818465352     328\n",
      "            SUM_AMT_BY_CHANNEL  COUNTS\n",
      "CHANNEL_ID                            \n",
      "ATM                  179502250      98\n",
      "INTERNET             768629241      72\n",
      "MOBILE               818465352     328\n"
     ]
    }
   ],
   "source": [
    "count_byChannel = df.groupby(['CHANNEL_ID']).size().reset_index(name='COUNTS')\n",
    "print(count_byChannel)\n",
    "\n",
    "df_plot2 = sum_AMT_byChannel.merge(count_byChannel, on='CHANNEL_ID')\n",
    "print(df_plot2)\n",
    "\n",
    "df_plot2 = df_plot2.set_index('CHANNEL_ID')\n",
    "print(df_plot2)"
   ],
   "metadata": {
    "collapsed": false,
    "ExecuteTime": {
     "end_time": "2023-07-07T01:35:11.542977200Z",
     "start_time": "2023-07-07T01:35:11.513412500Z"
    }
   }
  },
  {
   "cell_type": "markdown",
   "source": [
    "### 2.2. Quy đổi dữ liệu Doanh số về phần trăm để biểu diễn tính tương quan của dữ liệu"
   ],
   "metadata": {
    "collapsed": false
   }
  },
  {
   "cell_type": "code",
   "execution_count": null,
   "outputs": [],
   "source": [
    "max_amt = df_plot2['SUM_AMT_BY_CHANNEL'].max()\n",
    "df_plot2['%_DOANHSO'] = df_plot2['SUM_AMT_BY_CHANNEL'] / max_amt * 100"
   ],
   "metadata": {
    "collapsed": false
   }
  },
  {
   "cell_type": "markdown",
   "source": [
    "### 2.3. Quy đổi dữ liệu Số lượng giao dịch về phần trăm để biểu diễn tính tương quan của dữ liệu"
   ],
   "metadata": {
    "collapsed": false
   }
  },
  {
   "cell_type": "code",
   "execution_count": null,
   "outputs": [],
   "source": [
    "max_count = df_plot2['COUNTS'].max()\n",
    "df_plot2['%_SOLUONG'] = df_plot2['COUNTS'] / max_count\n",
    "print(df_plot2)"
   ],
   "metadata": {
    "collapsed": false
   }
  }
 ],
 "metadata": {
  "kernelspec": {
   "display_name": "Python 3",
   "language": "python",
   "name": "python3"
  },
  "language_info": {
   "codemirror_mode": {
    "name": "ipython",
    "version": 2
   },
   "file_extension": ".py",
   "mimetype": "text/x-python",
   "name": "python",
   "nbconvert_exporter": "python",
   "pygments_lexer": "ipython2",
   "version": "2.7.6"
  }
 },
 "nbformat": 4,
 "nbformat_minor": 0
}
