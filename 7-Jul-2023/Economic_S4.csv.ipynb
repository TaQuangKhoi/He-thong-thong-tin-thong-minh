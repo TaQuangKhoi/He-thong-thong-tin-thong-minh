{
 "cells": [
  {
   "cell_type": "code",
   "execution_count": 1,
   "metadata": {
    "collapsed": true,
    "ExecuteTime": {
     "end_time": "2023-07-07T02:31:53.371391700Z",
     "start_time": "2023-07-07T02:31:51.293857600Z"
    }
   },
   "outputs": [],
   "source": [
    "import matplotlib.pyplot as plt\n",
    "import pandas as pd\n",
    "import numpy as np"
   ]
  },
  {
   "cell_type": "code",
   "execution_count": 3,
   "outputs": [
    {
     "data": {
      "text/plain": "    Year  Inflation  Lending_Interest_Rate  Unemployment     GDP     NPL\n0   2006   0.074182               0.111763        0.0464  0.0698  0.0188\n1   2007   0.083444               0.111812        0.0465  0.0813  0.0050\n2   2008   0.231154               0.157836        0.0464  0.0466  0.0589\n3   2009   0.067178               0.100691        0.0443  0.0512  0.0403\n4   2010   0.092075               0.131353        0.0360  0.0642  0.0238\n5   2011   0.186777               0.169538        0.0325  0.0624  0.0240\n6   2012   0.090947               0.134717        0.0396  0.0325  0.0750\n7   2013   0.065927               0.103742        0.0362  0.0542  0.0384\n8   2014   0.040846               0.086656        0.0385  0.0598  0.0323\n9   2015   0.006312               0.071175        0.0326  0.0668  0.0233\n10  2016   0.026682               0.069694        0.0353  0.0621  0.0279\n11  2017   0.035203               0.070675        0.0311  0.0681  0.0202\n12  2018   0.035396               0.073719        0.0319  0.0708  0.0137\n13  2019   0.027958               0.077075        0.0309  0.0730  0.0140\n14  2020        NaN                    NaN           NaN  0.0263     NaN\n15  2021        NaN                    NaN           NaN  0.0336     NaN\n16  2022        NaN                    NaN           NaN  0.0396     NaN\n17  2023        NaN                    NaN           NaN  0.0586     NaN",
      "text/html": "<div>\n<style scoped>\n    .dataframe tbody tr th:only-of-type {\n        vertical-align: middle;\n    }\n\n    .dataframe tbody tr th {\n        vertical-align: top;\n    }\n\n    .dataframe thead th {\n        text-align: right;\n    }\n</style>\n<table border=\"1\" class=\"dataframe\">\n  <thead>\n    <tr style=\"text-align: right;\">\n      <th></th>\n      <th>Year</th>\n      <th>Inflation</th>\n      <th>Lending_Interest_Rate</th>\n      <th>Unemployment</th>\n      <th>GDP</th>\n      <th>NPL</th>\n    </tr>\n  </thead>\n  <tbody>\n    <tr>\n      <th>0</th>\n      <td>2006</td>\n      <td>0.074182</td>\n      <td>0.111763</td>\n      <td>0.0464</td>\n      <td>0.0698</td>\n      <td>0.0188</td>\n    </tr>\n    <tr>\n      <th>1</th>\n      <td>2007</td>\n      <td>0.083444</td>\n      <td>0.111812</td>\n      <td>0.0465</td>\n      <td>0.0813</td>\n      <td>0.0050</td>\n    </tr>\n    <tr>\n      <th>2</th>\n      <td>2008</td>\n      <td>0.231154</td>\n      <td>0.157836</td>\n      <td>0.0464</td>\n      <td>0.0466</td>\n      <td>0.0589</td>\n    </tr>\n    <tr>\n      <th>3</th>\n      <td>2009</td>\n      <td>0.067178</td>\n      <td>0.100691</td>\n      <td>0.0443</td>\n      <td>0.0512</td>\n      <td>0.0403</td>\n    </tr>\n    <tr>\n      <th>4</th>\n      <td>2010</td>\n      <td>0.092075</td>\n      <td>0.131353</td>\n      <td>0.0360</td>\n      <td>0.0642</td>\n      <td>0.0238</td>\n    </tr>\n    <tr>\n      <th>5</th>\n      <td>2011</td>\n      <td>0.186777</td>\n      <td>0.169538</td>\n      <td>0.0325</td>\n      <td>0.0624</td>\n      <td>0.0240</td>\n    </tr>\n    <tr>\n      <th>6</th>\n      <td>2012</td>\n      <td>0.090947</td>\n      <td>0.134717</td>\n      <td>0.0396</td>\n      <td>0.0325</td>\n      <td>0.0750</td>\n    </tr>\n    <tr>\n      <th>7</th>\n      <td>2013</td>\n      <td>0.065927</td>\n      <td>0.103742</td>\n      <td>0.0362</td>\n      <td>0.0542</td>\n      <td>0.0384</td>\n    </tr>\n    <tr>\n      <th>8</th>\n      <td>2014</td>\n      <td>0.040846</td>\n      <td>0.086656</td>\n      <td>0.0385</td>\n      <td>0.0598</td>\n      <td>0.0323</td>\n    </tr>\n    <tr>\n      <th>9</th>\n      <td>2015</td>\n      <td>0.006312</td>\n      <td>0.071175</td>\n      <td>0.0326</td>\n      <td>0.0668</td>\n      <td>0.0233</td>\n    </tr>\n    <tr>\n      <th>10</th>\n      <td>2016</td>\n      <td>0.026682</td>\n      <td>0.069694</td>\n      <td>0.0353</td>\n      <td>0.0621</td>\n      <td>0.0279</td>\n    </tr>\n    <tr>\n      <th>11</th>\n      <td>2017</td>\n      <td>0.035203</td>\n      <td>0.070675</td>\n      <td>0.0311</td>\n      <td>0.0681</td>\n      <td>0.0202</td>\n    </tr>\n    <tr>\n      <th>12</th>\n      <td>2018</td>\n      <td>0.035396</td>\n      <td>0.073719</td>\n      <td>0.0319</td>\n      <td>0.0708</td>\n      <td>0.0137</td>\n    </tr>\n    <tr>\n      <th>13</th>\n      <td>2019</td>\n      <td>0.027958</td>\n      <td>0.077075</td>\n      <td>0.0309</td>\n      <td>0.0730</td>\n      <td>0.0140</td>\n    </tr>\n    <tr>\n      <th>14</th>\n      <td>2020</td>\n      <td>NaN</td>\n      <td>NaN</td>\n      <td>NaN</td>\n      <td>0.0263</td>\n      <td>NaN</td>\n    </tr>\n    <tr>\n      <th>15</th>\n      <td>2021</td>\n      <td>NaN</td>\n      <td>NaN</td>\n      <td>NaN</td>\n      <td>0.0336</td>\n      <td>NaN</td>\n    </tr>\n    <tr>\n      <th>16</th>\n      <td>2022</td>\n      <td>NaN</td>\n      <td>NaN</td>\n      <td>NaN</td>\n      <td>0.0396</td>\n      <td>NaN</td>\n    </tr>\n    <tr>\n      <th>17</th>\n      <td>2023</td>\n      <td>NaN</td>\n      <td>NaN</td>\n      <td>NaN</td>\n      <td>0.0586</td>\n      <td>NaN</td>\n    </tr>\n  </tbody>\n</table>\n</div>"
     },
     "execution_count": 3,
     "metadata": {},
     "output_type": "execute_result"
    }
   ],
   "source": [
    "source_file = 'Economic_S4.csv'\n",
    "df = pd.read_csv(source_file)\n",
    "df"
   ],
   "metadata": {
    "collapsed": false,
    "ExecuteTime": {
     "end_time": "2023-07-07T02:32:26.996245800Z",
     "start_time": "2023-07-07T02:32:26.962869500Z"
    }
   }
  },
  {
   "cell_type": "markdown",
   "source": [
    "# Xử lý dữ liệu\n",
    "Xóa các dòng có dữ liệu NaN"
   ],
   "metadata": {
    "collapsed": false
   }
  },
  {
   "cell_type": "code",
   "execution_count": 13,
   "outputs": [
    {
     "data": {
      "text/plain": "    Year  Inflation  Lending_Interest_Rate  Unemployment     GDP     NPL\n0   2006   0.074182               0.111763        0.0464  0.0698  0.0188\n1   2007   0.083444               0.111812        0.0465  0.0813  0.0050\n2   2008   0.231154               0.157836        0.0464  0.0466  0.0589\n3   2009   0.067178               0.100691        0.0443  0.0512  0.0403\n4   2010   0.092075               0.131353        0.0360  0.0642  0.0238\n5   2011   0.186777               0.169538        0.0325  0.0624  0.0240\n6   2012   0.090947               0.134717        0.0396  0.0325  0.0750\n7   2013   0.065927               0.103742        0.0362  0.0542  0.0384\n8   2014   0.040846               0.086656        0.0385  0.0598  0.0323\n9   2015   0.006312               0.071175        0.0326  0.0668  0.0233\n10  2016   0.026682               0.069694        0.0353  0.0621  0.0279\n11  2017   0.035203               0.070675        0.0311  0.0681  0.0202\n12  2018   0.035396               0.073719        0.0319  0.0708  0.0137\n13  2019   0.027958               0.077075        0.0309  0.0730  0.0140",
      "text/html": "<div>\n<style scoped>\n    .dataframe tbody tr th:only-of-type {\n        vertical-align: middle;\n    }\n\n    .dataframe tbody tr th {\n        vertical-align: top;\n    }\n\n    .dataframe thead th {\n        text-align: right;\n    }\n</style>\n<table border=\"1\" class=\"dataframe\">\n  <thead>\n    <tr style=\"text-align: right;\">\n      <th></th>\n      <th>Year</th>\n      <th>Inflation</th>\n      <th>Lending_Interest_Rate</th>\n      <th>Unemployment</th>\n      <th>GDP</th>\n      <th>NPL</th>\n    </tr>\n  </thead>\n  <tbody>\n    <tr>\n      <th>0</th>\n      <td>2006</td>\n      <td>0.074182</td>\n      <td>0.111763</td>\n      <td>0.0464</td>\n      <td>0.0698</td>\n      <td>0.0188</td>\n    </tr>\n    <tr>\n      <th>1</th>\n      <td>2007</td>\n      <td>0.083444</td>\n      <td>0.111812</td>\n      <td>0.0465</td>\n      <td>0.0813</td>\n      <td>0.0050</td>\n    </tr>\n    <tr>\n      <th>2</th>\n      <td>2008</td>\n      <td>0.231154</td>\n      <td>0.157836</td>\n      <td>0.0464</td>\n      <td>0.0466</td>\n      <td>0.0589</td>\n    </tr>\n    <tr>\n      <th>3</th>\n      <td>2009</td>\n      <td>0.067178</td>\n      <td>0.100691</td>\n      <td>0.0443</td>\n      <td>0.0512</td>\n      <td>0.0403</td>\n    </tr>\n    <tr>\n      <th>4</th>\n      <td>2010</td>\n      <td>0.092075</td>\n      <td>0.131353</td>\n      <td>0.0360</td>\n      <td>0.0642</td>\n      <td>0.0238</td>\n    </tr>\n    <tr>\n      <th>5</th>\n      <td>2011</td>\n      <td>0.186777</td>\n      <td>0.169538</td>\n      <td>0.0325</td>\n      <td>0.0624</td>\n      <td>0.0240</td>\n    </tr>\n    <tr>\n      <th>6</th>\n      <td>2012</td>\n      <td>0.090947</td>\n      <td>0.134717</td>\n      <td>0.0396</td>\n      <td>0.0325</td>\n      <td>0.0750</td>\n    </tr>\n    <tr>\n      <th>7</th>\n      <td>2013</td>\n      <td>0.065927</td>\n      <td>0.103742</td>\n      <td>0.0362</td>\n      <td>0.0542</td>\n      <td>0.0384</td>\n    </tr>\n    <tr>\n      <th>8</th>\n      <td>2014</td>\n      <td>0.040846</td>\n      <td>0.086656</td>\n      <td>0.0385</td>\n      <td>0.0598</td>\n      <td>0.0323</td>\n    </tr>\n    <tr>\n      <th>9</th>\n      <td>2015</td>\n      <td>0.006312</td>\n      <td>0.071175</td>\n      <td>0.0326</td>\n      <td>0.0668</td>\n      <td>0.0233</td>\n    </tr>\n    <tr>\n      <th>10</th>\n      <td>2016</td>\n      <td>0.026682</td>\n      <td>0.069694</td>\n      <td>0.0353</td>\n      <td>0.0621</td>\n      <td>0.0279</td>\n    </tr>\n    <tr>\n      <th>11</th>\n      <td>2017</td>\n      <td>0.035203</td>\n      <td>0.070675</td>\n      <td>0.0311</td>\n      <td>0.0681</td>\n      <td>0.0202</td>\n    </tr>\n    <tr>\n      <th>12</th>\n      <td>2018</td>\n      <td>0.035396</td>\n      <td>0.073719</td>\n      <td>0.0319</td>\n      <td>0.0708</td>\n      <td>0.0137</td>\n    </tr>\n    <tr>\n      <th>13</th>\n      <td>2019</td>\n      <td>0.027958</td>\n      <td>0.077075</td>\n      <td>0.0309</td>\n      <td>0.0730</td>\n      <td>0.0140</td>\n    </tr>\n  </tbody>\n</table>\n</div>"
     },
     "execution_count": 13,
     "metadata": {},
     "output_type": "execute_result"
    }
   ],
   "source": [
    "# Remove rows with NaN values from Pandas dataframe\n",
    "# https://www.geeksforgeeks.org/how-to-drop-rows-with-nan-values-in-pandas-dataframe/\n",
    "df = df.dropna()\n",
    "df"
   ],
   "metadata": {
    "collapsed": false,
    "ExecuteTime": {
     "end_time": "2023-07-07T02:39:56.287927100Z",
     "start_time": "2023-07-07T02:39:56.269182500Z"
    }
   }
  },
  {
   "cell_type": "markdown",
   "source": [
    "# VẼ BIỂU ĐỒ"
   ],
   "metadata": {
    "collapsed": false
   }
  },
  {
   "cell_type": "code",
   "execution_count": null,
   "outputs": [],
   "source": [],
   "metadata": {
    "collapsed": false
   }
  }
 ],
 "metadata": {
  "kernelspec": {
   "display_name": "Python 3",
   "language": "python",
   "name": "python3"
  },
  "language_info": {
   "codemirror_mode": {
    "name": "ipython",
    "version": 2
   },
   "file_extension": ".py",
   "mimetype": "text/x-python",
   "name": "python",
   "nbconvert_exporter": "python",
   "pygments_lexer": "ipython2",
   "version": "2.7.6"
  }
 },
 "nbformat": 4,
 "nbformat_minor": 0
}
