{
 "cells": [
  {
   "cell_type": "code",
   "execution_count": null,
   "id": "initial_id",
   "metadata": {
    "collapsed": true
   },
   "outputs": [],
   "source": [
    "import math as m\n",
    "import numpy as np\n",
    "import pandas as pd\n",
    "import matplotlib.pyplot as plt\n",
    "from sklearn.svm import SVC\n",
    "from sklearn.model_selection import train_test_split\n",
    "from sklearn.metrics import accuracy_score\n",
    "from sklearn.metrics import classification_report\n",
    "import seaborn as sns"
   ]
  },
  {
   "cell_type": "markdown",
   "source": [
    "# Đọc file chứa dữ liệu và in ra tiêu đề các cột"
   ],
   "metadata": {
    "collapsed": false
   },
   "id": "bfba7bf95034b192"
  },
  {
   "cell_type": "code",
   "execution_count": null,
   "outputs": [],
   "source": [
    "data = pd.read_csv('../data/electrical+grid+stability+simulated+data/Data_for_UCI_named.csv')\n",
    "print(list(data.columns))\n",
    "print(data.shape)"
   ],
   "metadata": {
    "collapsed": false
   },
   "id": "478e0a7e383778dc"
  },
  {
   "cell_type": "code",
   "execution_count": null,
   "outputs": [],
   "source": [
    "data.head()"
   ],
   "metadata": {
    "collapsed": false
   },
   "id": "9581fa802f49fc97"
  },
  {
   "cell_type": "markdown",
   "source": [
    "# Vẽ đồ thị phân bổ dữ liệu stabf và số lượng mẫu"
   ],
   "metadata": {
    "collapsed": false
   },
   "id": "d848af42e5197924"
  },
  {
   "cell_type": "code",
   "execution_count": null,
   "outputs": [],
   "source": [
    "sns.countplot(x='stabf', data=data, palette='hls')\n",
    "plt.show()"
   ],
   "metadata": {
    "collapsed": false
   },
   "id": "85f868d09f948cea"
  },
  {
   "cell_type": "markdown",
   "source": [
    "# Chuyển text cho cột đầu ra thành số 0, 1"
   ],
   "metadata": {
    "collapsed": false
   },
   "id": "461fcfb44f82a792"
  },
  {
   "cell_type": "code",
   "execution_count": null,
   "outputs": [],
   "source": [
    "cat_features = ['stabf']\n",
    "for feature in cat_features:\n",
    "    print(feature)\n",
    "    job_list = pd.get_dummies(data[feature], prefix=feature)\n",
    "    new_data = data.join(job_list)\n",
    "    data = new_data\n",
    "    \n",
    "data.head()"
   ],
   "metadata": {
    "collapsed": false
   },
   "id": "9c9058606a34554f"
  },
  {
   "cell_type": "markdown",
   "source": [
    "# Xóa bỏ cột chứa đầu vào không dùng"
   ],
   "metadata": {
    "collapsed": false
   },
   "id": "1ae287b6f338f927"
  },
  {
   "cell_type": "code",
   "execution_count": null,
   "outputs": [],
   "source": [
    "data_features = data.columns.values.tolist()\n",
    "print(data_features)\n",
    "remove_features = ['stabf', 'stabf_unstable']\n",
    "to_keep_features = [feature for feature in data_features if feature not in remove_features]\n",
    "data_final = data[to_keep_features]\n",
    "data_final.head()"
   ],
   "metadata": {
    "collapsed": false
   },
   "id": "8c38256878ed481e"
  },
  {
   "cell_type": "markdown",
   "source": [
    "# Chuyển dữ liệu thành mảng"
   ],
   "metadata": {
    "collapsed": false
   },
   "id": "96c33b91dce241c6"
  },
  {
   "cell_type": "code",
   "execution_count": null,
   "outputs": [],
   "source": [
    "X = np.array(data_final.loc[:, data_final.columns != 'stabf_stable'])\n",
    "print(X)"
   ],
   "metadata": {
    "collapsed": false
   },
   "id": "9be76d5d252f38fa"
  },
  {
   "cell_type": "code",
   "execution_count": null,
   "outputs": [],
   "source": [
    "y = np.array(data_final.loc[:, data_final.columns == 'stabf_stable'])\n",
    "print(y)"
   ],
   "metadata": {
    "collapsed": false
   },
   "id": "1fafe3e59ac39794"
  },
  {
   "cell_type": "markdown",
   "source": [
    "# Phân chia tập dữ liệu ra thành 2 tập: tập huấn luyện và tập kiểm tra:"
   ],
   "metadata": {
    "collapsed": false
   },
   "id": "6c5deff4efb1cd23"
  },
  {
   "cell_type": "code",
   "execution_count": null,
   "outputs": [],
   "source": [
    "train_features, test_features, train_targets, test_targets = train_test_split(X, y, test_size=0.3, random_state=0)\n",
    "print('##### Training and test datasets #####')\n",
    "print('Training size:', len(train_targets))\n",
    "print('Test size    :', len(test_targets))"
   ],
   "metadata": {
    "collapsed": false
   },
   "id": "417ca0da56c7db25"
  },
  {
   "cell_type": "markdown",
   "source": [
    "# Biến đổi kích thước ma trận dữ liệu huấn luyện kiểm tra"
   ],
   "metadata": {
    "collapsed": false
   },
   "id": "ed5ef1dd0892b364"
  },
  {
   "cell_type": "code",
   "execution_count": null,
   "outputs": [],
   "source": [
    "train_targets = train_targets.reshape(train_targets.shape[0])\n",
    "test_targets = test_targets.reshape(test_targets.shape[0])\n",
    "print(train_targets)"
   ],
   "metadata": {
    "collapsed": false
   },
   "id": "a0228fdb0c70e5e1"
  },
  {
   "cell_type": "markdown",
   "source": [
    "# Vẽ đồ thị"
   ],
   "metadata": {
    "collapsed": false
   },
   "id": "cd661bcf4d99319e"
  },
  {
   "cell_type": "code",
   "execution_count": null,
   "outputs": [],
   "source": [
    "pd.crosstab(train_targets, train_targets).plot(kind='bar')\n",
    "plt.title('Histogram of electrical grid stability')\n",
    "plt.xlabel('Quality')\n",
    "plt.ylabel('Number of samples')\n",
    "plt.rc(\"font\", size=14)"
   ],
   "metadata": {
    "collapsed": false
   },
   "id": "8552fcbeff62acf8"
  },
  {
   "cell_type": "code",
   "execution_count": null,
   "outputs": [],
   "source": [
    "pd.crosstab(test_targets, test_targets).plot(kind='bar')\n",
    "plt.title('Histogram of electrical grid stability')\n",
    "plt.xlabel('Quality')\n",
    "plt.ylabel('Number of samples')\n",
    "plt.rc(\"font\", size=14)"
   ],
   "metadata": {
    "collapsed": false
   },
   "id": "6660a12f41a4350a"
  },
  {
   "cell_type": "markdown",
   "source": [
    "# Tạo mô hình sử dụng thuật toán SVM, huấn luyện mô hình:"
   ],
   "metadata": {
    "collapsed": false
   },
   "id": "a945f0f037460eee"
  },
  {
   "cell_type": "code",
   "execution_count": null,
   "outputs": [],
   "source": [
    "svmClassifier = SVC(kernel='linear', C = 1e5)\n",
    "svmClassifier.fit(train_features, train_targets)\n",
    "print(svmClassifier.coef_)\n",
    "print(svmClassifier.intercept_)"
   ],
   "metadata": {
    "collapsed": false
   },
   "id": "5449bd0bdc2f9462"
  },
  {
   "cell_type": "markdown",
   "source": [
    "# Hiển thị độ chính xác của mô hình đối với tập huấn luyện"
   ],
   "metadata": {
    "collapsed": false
   },
   "id": "24f06f5c70f1a1ea"
  },
  {
   "cell_type": "code",
   "execution_count": null,
   "outputs": [],
   "source": [
    "train_predictions = svmClassifier.predict(train_features)\n",
    "print(\"#### Training - Prediction results of SVM ####\")\n",
    "print(\"Target labels: \", train_targets)\n",
    "print(\"Predictions  : \", train_predictions)"
   ],
   "metadata": {
    "collapsed": false
   },
   "id": "c0b92059c9ba3569"
  },
  {
   "cell_type": "markdown",
   "source": [
    "# Hiển thị kết quả đích và kết quả dự đoán của mô hình đối với tập huấn luyện"
   ],
   "metadata": {
    "collapsed": false
   },
   "id": "a9065a547e56514d"
  },
  {
   "cell_type": "code",
   "execution_count": null,
   "outputs": [],
   "source": [
    "accuracy = accuracy_score(train_targets, train_predictions) * 100\n",
    "print(\"##### Training - Prediction accuracy of SVM #####\")\n",
    "print(\"Accuracy of Logistic Regression: \", accuracy)\n",
    "print(classification_report(train_targets, train_predictions))"
   ],
   "metadata": {
    "collapsed": false
   },
   "id": "a08e12fb7b89b0ba"
  },
  {
   "cell_type": "markdown",
   "source": [
    "# Hiển thị độ chính xác của mô hình đối với tập kiểm tra"
   ],
   "metadata": {
    "collapsed": false
   },
   "id": "59a25cae11afc075"
  },
  {
   "cell_type": "code",
   "execution_count": null,
   "outputs": [],
   "source": [
    "test_predictions = svmClassifier.predict(test_features)\n",
    "print(\"#### Test - Prediction results of SVM ####\")\n",
    "print(\"Target labels: \", test_targets)\n",
    "print(\"Predictions  : \", test_predictions)"
   ],
   "metadata": {
    "collapsed": false
   },
   "id": "a40263bbe1fb2548"
  },
  {
   "cell_type": "code",
   "execution_count": null,
   "outputs": [],
   "source": [
    "accuracy = accuracy_score(test_targets, test_predictions) * 100\n",
    "print(\"##### Test - Prediction accuracy of SVM #####\")\n",
    "print(\"Accuracy of Logistic Regression: \", accuracy)\n",
    "print(classification_report(test_targets, test_predictions))"
   ],
   "metadata": {
    "collapsed": false
   },
   "id": "892e663a998fdd6"
  }
 ],
 "metadata": {
  "kernelspec": {
   "display_name": "Python 3",
   "language": "python",
   "name": "python3"
  },
  "language_info": {
   "codemirror_mode": {
    "name": "ipython",
    "version": 2
   },
   "file_extension": ".py",
   "mimetype": "text/x-python",
   "name": "python",
   "nbconvert_exporter": "python",
   "pygments_lexer": "ipython2",
   "version": "2.7.6"
  }
 },
 "nbformat": 4,
 "nbformat_minor": 5
}
