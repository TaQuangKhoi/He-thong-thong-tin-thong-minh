{
 "cells": [
  {
   "cell_type": "code",
   "execution_count": 18,
   "id": "initial_id",
   "metadata": {
    "collapsed": true,
    "ExecuteTime": {
     "end_time": "2023-08-04T07:33:41.493559300Z",
     "start_time": "2023-08-04T07:33:41.302131Z"
    }
   },
   "outputs": [],
   "source": [
    "import math as m\n",
    "import numpy as np\n",
    "import pandas as pd\n",
    "import matplotlib.pyplot as plt\n",
    "from sklearn.svm import SVC\n",
    "from sklearn.model_selection import train_test_split\n",
    "from sklearn.metrics import accuracy_score\n",
    "from sklearn.metrics import classification_report\n",
    "import seaborn as sns"
   ]
  },
  {
   "cell_type": "markdown",
   "source": [
    "# Đọc file chứa dữ liệu và in ra tiêu đề các cột"
   ],
   "metadata": {
    "collapsed": false
   },
   "id": "bfba7bf95034b192"
  },
  {
   "cell_type": "code",
   "execution_count": 19,
   "outputs": [
    {
     "name": "stdout",
     "output_type": "stream",
     "text": [
      "['tau1', 'tau2', 'tau3', 'tau4', 'p1', 'p2', 'p3', 'p4', 'g1', 'g2', 'g3', 'g4', 'stab', 'stabf']\n",
      "(10000, 14)\n"
     ]
    }
   ],
   "source": [
    "data = pd.read_csv('../data/electrical+grid+stability+simulated+data/Data_for_UCI_named.csv')\n",
    "print(list(data.columns))\n",
    "print(data.shape)"
   ],
   "metadata": {
    "collapsed": false,
    "ExecuteTime": {
     "end_time": "2023-08-04T07:33:41.538150Z",
     "start_time": "2023-08-04T07:33:41.322982200Z"
    }
   },
   "id": "478e0a7e383778dc"
  },
  {
   "cell_type": "code",
   "execution_count": 20,
   "outputs": [
    {
     "data": {
      "text/plain": "       tau1      tau2      tau3      tau4        p1        p2        p3  \\\n0  2.959060  3.079885  8.381025  9.780754  3.763085 -0.782604 -1.257395   \n1  9.304097  4.902524  3.047541  1.369357  5.067812 -1.940058 -1.872742   \n2  8.971707  8.848428  3.046479  1.214518  3.405158 -1.207456 -1.277210   \n3  0.716415  7.669600  4.486641  2.340563  3.963791 -1.027473 -1.938944   \n4  3.134112  7.608772  4.943759  9.857573  3.525811 -1.125531 -1.845975   \n\n         p4        g1        g2        g3        g4      stab     stabf  \n0 -1.723086  0.650456  0.859578  0.887445  0.958034  0.055347  unstable  \n1 -1.255012  0.413441  0.862414  0.562139  0.781760 -0.005957    stable  \n2 -0.920492  0.163041  0.766689  0.839444  0.109853  0.003471  unstable  \n3 -0.997374  0.446209  0.976744  0.929381  0.362718  0.028871  unstable  \n4 -0.554305  0.797110  0.455450  0.656947  0.820923  0.049860  unstable  ",
      "text/html": "<div>\n<style scoped>\n    .dataframe tbody tr th:only-of-type {\n        vertical-align: middle;\n    }\n\n    .dataframe tbody tr th {\n        vertical-align: top;\n    }\n\n    .dataframe thead th {\n        text-align: right;\n    }\n</style>\n<table border=\"1\" class=\"dataframe\">\n  <thead>\n    <tr style=\"text-align: right;\">\n      <th></th>\n      <th>tau1</th>\n      <th>tau2</th>\n      <th>tau3</th>\n      <th>tau4</th>\n      <th>p1</th>\n      <th>p2</th>\n      <th>p3</th>\n      <th>p4</th>\n      <th>g1</th>\n      <th>g2</th>\n      <th>g3</th>\n      <th>g4</th>\n      <th>stab</th>\n      <th>stabf</th>\n    </tr>\n  </thead>\n  <tbody>\n    <tr>\n      <th>0</th>\n      <td>2.959060</td>\n      <td>3.079885</td>\n      <td>8.381025</td>\n      <td>9.780754</td>\n      <td>3.763085</td>\n      <td>-0.782604</td>\n      <td>-1.257395</td>\n      <td>-1.723086</td>\n      <td>0.650456</td>\n      <td>0.859578</td>\n      <td>0.887445</td>\n      <td>0.958034</td>\n      <td>0.055347</td>\n      <td>unstable</td>\n    </tr>\n    <tr>\n      <th>1</th>\n      <td>9.304097</td>\n      <td>4.902524</td>\n      <td>3.047541</td>\n      <td>1.369357</td>\n      <td>5.067812</td>\n      <td>-1.940058</td>\n      <td>-1.872742</td>\n      <td>-1.255012</td>\n      <td>0.413441</td>\n      <td>0.862414</td>\n      <td>0.562139</td>\n      <td>0.781760</td>\n      <td>-0.005957</td>\n      <td>stable</td>\n    </tr>\n    <tr>\n      <th>2</th>\n      <td>8.971707</td>\n      <td>8.848428</td>\n      <td>3.046479</td>\n      <td>1.214518</td>\n      <td>3.405158</td>\n      <td>-1.207456</td>\n      <td>-1.277210</td>\n      <td>-0.920492</td>\n      <td>0.163041</td>\n      <td>0.766689</td>\n      <td>0.839444</td>\n      <td>0.109853</td>\n      <td>0.003471</td>\n      <td>unstable</td>\n    </tr>\n    <tr>\n      <th>3</th>\n      <td>0.716415</td>\n      <td>7.669600</td>\n      <td>4.486641</td>\n      <td>2.340563</td>\n      <td>3.963791</td>\n      <td>-1.027473</td>\n      <td>-1.938944</td>\n      <td>-0.997374</td>\n      <td>0.446209</td>\n      <td>0.976744</td>\n      <td>0.929381</td>\n      <td>0.362718</td>\n      <td>0.028871</td>\n      <td>unstable</td>\n    </tr>\n    <tr>\n      <th>4</th>\n      <td>3.134112</td>\n      <td>7.608772</td>\n      <td>4.943759</td>\n      <td>9.857573</td>\n      <td>3.525811</td>\n      <td>-1.125531</td>\n      <td>-1.845975</td>\n      <td>-0.554305</td>\n      <td>0.797110</td>\n      <td>0.455450</td>\n      <td>0.656947</td>\n      <td>0.820923</td>\n      <td>0.049860</td>\n      <td>unstable</td>\n    </tr>\n  </tbody>\n</table>\n</div>"
     },
     "execution_count": 20,
     "metadata": {},
     "output_type": "execute_result"
    }
   ],
   "source": [
    "data.head()"
   ],
   "metadata": {
    "collapsed": false,
    "ExecuteTime": {
     "end_time": "2023-08-04T07:33:41.560274100Z",
     "start_time": "2023-08-04T07:33:41.367309400Z"
    }
   },
   "id": "9581fa802f49fc97"
  },
  {
   "cell_type": "markdown",
   "source": [
    "# Vẽ đồ thị phân bổ dữ liệu stabf và số lượng mẫu"
   ],
   "metadata": {
    "collapsed": false
   },
   "id": "d848af42e5197924"
  },
  {
   "cell_type": "code",
   "execution_count": 21,
   "outputs": [
    {
     "data": {
      "text/plain": "<Figure size 640x480 with 1 Axes>",
      "image/png": "[encoded data removed]"
     },
     "metadata": {},
     "output_type": "display_data"
    }
   ],
   "source": [
    "sns.countplot(x='stabf', data=data, palette='hls')\n",
    "plt.show()"
   ],
   "metadata": {
    "collapsed": false,
    "ExecuteTime": {
     "end_time": "2023-08-04T07:33:41.711792400Z",
     "start_time": "2023-08-04T07:33:41.402638800Z"
    }
   },
   "id": "85f868d09f948cea"
  },
  {
   "cell_type": "markdown",
   "source": [
    "# Chuyển text cho cột đầu ra thành số 0, 1"
   ],
   "metadata": {
    "collapsed": false
   },
   "id": "461fcfb44f82a792"
  },
  {
   "cell_type": "code",
   "execution_count": 22,
   "outputs": [
    {
     "name": "stdout",
     "output_type": "stream",
     "text": [
      "stabf\n"
     ]
    },
    {
     "data": {
      "text/plain": "       tau1      tau2      tau3      tau4        p1        p2        p3  \\\n0  2.959060  3.079885  8.381025  9.780754  3.763085 -0.782604 -1.257395   \n1  9.304097  4.902524  3.047541  1.369357  5.067812 -1.940058 -1.872742   \n2  8.971707  8.848428  3.046479  1.214518  3.405158 -1.207456 -1.277210   \n3  0.716415  7.669600  4.486641  2.340563  3.963791 -1.027473 -1.938944   \n4  3.134112  7.608772  4.943759  9.857573  3.525811 -1.125531 -1.845975   \n\n         p4        g1        g2        g3        g4      stab     stabf  \\\n0 -1.723086  0.650456  0.859578  0.887445  0.958034  0.055347  unstable   \n1 -1.255012  0.413441  0.862414  0.562139  0.781760 -0.005957    stable   \n2 -0.920492  0.163041  0.766689  0.839444  0.109853  0.003471  unstable   \n3 -0.997374  0.446209  0.976744  0.929381  0.362718  0.028871  unstable   \n4 -0.554305  0.797110  0.455450  0.656947  0.820923  0.049860  unstable   \n\n   stabf_stable  stabf_unstable  \n0             0               1  \n1             1               0  \n2             0               1  \n3             0               1  \n4             0               1  ",
      "text/html": "<div>\n<style scoped>\n    .dataframe tbody tr th:only-of-type {\n        vertical-align: middle;\n    }\n\n    .dataframe tbody tr th {\n        vertical-align: top;\n    }\n\n    .dataframe thead th {\n        text-align: right;\n    }\n</style>\n<table border=\"1\" class=\"dataframe\">\n  <thead>\n    <tr style=\"text-align: right;\">\n      <th></th>\n      <th>tau1</th>\n      <th>tau2</th>\n      <th>tau3</th>\n      <th>tau4</th>\n      <th>p1</th>\n      <th>p2</th>\n      <th>p3</th>\n      <th>p4</th>\n      <th>g1</th>\n      <th>g2</th>\n      <th>g3</th>\n      <th>g4</th>\n      <th>stab</th>\n      <th>stabf</th>\n      <th>stabf_stable</th>\n      <th>stabf_unstable</th>\n    </tr>\n  </thead>\n  <tbody>\n    <tr>\n      <th>0</th>\n      <td>2.959060</td>\n      <td>3.079885</td>\n      <td>8.381025</td>\n      <td>9.780754</td>\n      <td>3.763085</td>\n      <td>-0.782604</td>\n      <td>-1.257395</td>\n      <td>-1.723086</td>\n      <td>0.650456</td>\n      <td>0.859578</td>\n      <td>0.887445</td>\n      <td>0.958034</td>\n      <td>0.055347</td>\n      <td>unstable</td>\n      <td>0</td>\n      <td>1</td>\n    </tr>\n    <tr>\n      <th>1</th>\n      <td>9.304097</td>\n      <td>4.902524</td>\n      <td>3.047541</td>\n      <td>1.369357</td>\n      <td>5.067812</td>\n      <td>-1.940058</td>\n      <td>-1.872742</td>\n      <td>-1.255012</td>\n      <td>0.413441</td>\n      <td>0.862414</td>\n      <td>0.562139</td>\n      <td>0.781760</td>\n      <td>-0.005957</td>\n      <td>stable</td>\n      <td>1</td>\n      <td>0</td>\n    </tr>\n    <tr>\n      <th>2</th>\n      <td>8.971707</td>\n      <td>8.848428</td>\n      <td>3.046479</td>\n      <td>1.214518</td>\n      <td>3.405158</td>\n      <td>-1.207456</td>\n      <td>-1.277210</td>\n      <td>-0.920492</td>\n      <td>0.163041</td>\n      <td>0.766689</td>\n      <td>0.839444</td>\n      <td>0.109853</td>\n      <td>0.003471</td>\n      <td>unstable</td>\n      <td>0</td>\n      <td>1</td>\n    </tr>\n    <tr>\n      <th>3</th>\n      <td>0.716415</td>\n      <td>7.669600</td>\n      <td>4.486641</td>\n      <td>2.340563</td>\n      <td>3.963791</td>\n      <td>-1.027473</td>\n      <td>-1.938944</td>\n      <td>-0.997374</td>\n      <td>0.446209</td>\n      <td>0.976744</td>\n      <td>0.929381</td>\n      <td>0.362718</td>\n      <td>0.028871</td>\n      <td>unstable</td>\n      <td>0</td>\n      <td>1</td>\n    </tr>\n    <tr>\n      <th>4</th>\n      <td>3.134112</td>\n      <td>7.608772</td>\n      <td>4.943759</td>\n      <td>9.857573</td>\n      <td>3.525811</td>\n      <td>-1.125531</td>\n      <td>-1.845975</td>\n      <td>-0.554305</td>\n      <td>0.797110</td>\n      <td>0.455450</td>\n      <td>0.656947</td>\n      <td>0.820923</td>\n      <td>0.049860</td>\n      <td>unstable</td>\n      <td>0</td>\n      <td>1</td>\n    </tr>\n  </tbody>\n</table>\n</div>"
     },
     "execution_count": 22,
     "metadata": {},
     "output_type": "execute_result"
    }
   ],
   "source": [
    "cat_features = ['stabf']\n",
    "for feature in cat_features:\n",
    "    print(feature)\n",
    "    job_list = pd.get_dummies(data[feature], prefix=feature)\n",
    "    new_data = data.join(job_list)\n",
    "    data = new_data\n",
    "    \n",
    "data.head()"
   ],
   "metadata": {
    "collapsed": false,
    "ExecuteTime": {
     "end_time": "2023-08-04T07:33:41.713808Z",
     "start_time": "2023-08-04T07:33:41.570170700Z"
    }
   },
   "id": "9c9058606a34554f"
  },
  {
   "cell_type": "markdown",
   "source": [
    "# Xóa bỏ cột chứa đầu vào không dùng"
   ],
   "metadata": {
    "collapsed": false
   },
   "id": "1ae287b6f338f927"
  },
  {
   "cell_type": "code",
   "execution_count": 23,
   "outputs": [
    {
     "name": "stdout",
     "output_type": "stream",
     "text": [
      "['tau1', 'tau2', 'tau3', 'tau4', 'p1', 'p2', 'p3', 'p4', 'g1', 'g2', 'g3', 'g4', 'stab', 'stabf', 'stabf_stable', 'stabf_unstable']\n"
     ]
    },
    {
     "data": {
      "text/plain": "       tau1      tau2      tau3      tau4        p1        p2        p3  \\\n0  2.959060  3.079885  8.381025  9.780754  3.763085 -0.782604 -1.257395   \n1  9.304097  4.902524  3.047541  1.369357  5.067812 -1.940058 -1.872742   \n2  8.971707  8.848428  3.046479  1.214518  3.405158 -1.207456 -1.277210   \n3  0.716415  7.669600  4.486641  2.340563  3.963791 -1.027473 -1.938944   \n4  3.134112  7.608772  4.943759  9.857573  3.525811 -1.125531 -1.845975   \n\n         p4        g1        g2        g3        g4      stab  stabf_stable  \n0 -1.723086  0.650456  0.859578  0.887445  0.958034  0.055347             0  \n1 -1.255012  0.413441  0.862414  0.562139  0.781760 -0.005957             1  \n2 -0.920492  0.163041  0.766689  0.839444  0.109853  0.003471             0  \n3 -0.997374  0.446209  0.976744  0.929381  0.362718  0.028871             0  \n4 -0.554305  0.797110  0.455450  0.656947  0.820923  0.049860             0  ",
      "text/html": "<div>\n<style scoped>\n    .dataframe tbody tr th:only-of-type {\n        vertical-align: middle;\n    }\n\n    .dataframe tbody tr th {\n        vertical-align: top;\n    }\n\n    .dataframe thead th {\n        text-align: right;\n    }\n</style>\n<table border=\"1\" class=\"dataframe\">\n  <thead>\n    <tr style=\"text-align: right;\">\n      <th></th>\n      <th>tau1</th>\n      <th>tau2</th>\n      <th>tau3</th>\n      <th>tau4</th>\n      <th>p1</th>\n      <th>p2</th>\n      <th>p3</th>\n      <th>p4</th>\n      <th>g1</th>\n      <th>g2</th>\n      <th>g3</th>\n      <th>g4</th>\n      <th>stab</th>\n      <th>stabf_stable</th>\n    </tr>\n  </thead>\n  <tbody>\n    <tr>\n      <th>0</th>\n      <td>2.959060</td>\n      <td>3.079885</td>\n      <td>8.381025</td>\n      <td>9.780754</td>\n      <td>3.763085</td>\n      <td>-0.782604</td>\n      <td>-1.257395</td>\n      <td>-1.723086</td>\n      <td>0.650456</td>\n      <td>0.859578</td>\n      <td>0.887445</td>\n      <td>0.958034</td>\n      <td>0.055347</td>\n      <td>0</td>\n    </tr>\n    <tr>\n      <th>1</th>\n      <td>9.304097</td>\n      <td>4.902524</td>\n      <td>3.047541</td>\n      <td>1.369357</td>\n      <td>5.067812</td>\n      <td>-1.940058</td>\n      <td>-1.872742</td>\n      <td>-1.255012</td>\n      <td>0.413441</td>\n      <td>0.862414</td>\n      <td>0.562139</td>\n      <td>0.781760</td>\n      <td>-0.005957</td>\n      <td>1</td>\n    </tr>\n    <tr>\n      <th>2</th>\n      <td>8.971707</td>\n      <td>8.848428</td>\n      <td>3.046479</td>\n      <td>1.214518</td>\n      <td>3.405158</td>\n      <td>-1.207456</td>\n      <td>-1.277210</td>\n      <td>-0.920492</td>\n      <td>0.163041</td>\n      <td>0.766689</td>\n      <td>0.839444</td>\n      <td>0.109853</td>\n      <td>0.003471</td>\n      <td>0</td>\n    </tr>\n    <tr>\n      <th>3</th>\n      <td>0.716415</td>\n      <td>7.669600</td>\n      <td>4.486641</td>\n      <td>2.340563</td>\n      <td>3.963791</td>\n      <td>-1.027473</td>\n      <td>-1.938944</td>\n      <td>-0.997374</td>\n      <td>0.446209</td>\n      <td>0.976744</td>\n      <td>0.929381</td>\n      <td>0.362718</td>\n      <td>0.028871</td>\n      <td>0</td>\n    </tr>\n    <tr>\n      <th>4</th>\n      <td>3.134112</td>\n      <td>7.608772</td>\n      <td>4.943759</td>\n      <td>9.857573</td>\n      <td>3.525811</td>\n      <td>-1.125531</td>\n      <td>-1.845975</td>\n      <td>-0.554305</td>\n      <td>0.797110</td>\n      <td>0.455450</td>\n      <td>0.656947</td>\n      <td>0.820923</td>\n      <td>0.049860</td>\n      <td>0</td>\n    </tr>\n  </tbody>\n</table>\n</div>"
     },
     "execution_count": 23,
     "metadata": {},
     "output_type": "execute_result"
    }
   ],
   "source": [
    "data_features = data.columns.values.tolist()\n",
    "print(data_features)\n",
    "remove_features = ['stabf', 'stabf_unstable']\n",
    "to_keep_features = [feature for feature in data_features if feature not in remove_features]\n",
    "data_final = data[to_keep_features]\n",
    "data_final.head()"
   ],
   "metadata": {
    "collapsed": false,
    "ExecuteTime": {
     "end_time": "2023-08-04T07:33:41.833333600Z",
     "start_time": "2023-08-04T07:33:41.600129Z"
    }
   },
   "id": "8c38256878ed481e"
  },
  {
   "cell_type": "markdown",
   "source": [
    "# Chuyển dữ liệu thành mảng"
   ],
   "metadata": {
    "collapsed": false
   },
   "id": "96c33b91dce241c6"
  },
  {
   "cell_type": "code",
   "execution_count": 24,
   "outputs": [
    {
     "name": "stdout",
     "output_type": "stream",
     "text": [
      "[[ 2.95906002e+00  3.07988520e+00  8.38102539e+00 ...  8.87444921e-01\n",
      "   9.58033988e-01  5.53474892e-02]\n",
      " [ 9.30409723e+00  4.90252411e+00  3.04754073e+00 ...  5.62139051e-01\n",
      "   7.81759911e-01 -5.95746433e-03]\n",
      " [ 8.97170691e+00  8.84842842e+00  3.04647875e+00 ...  8.39444015e-01\n",
      "   1.09853245e-01  3.47087905e-03]\n",
      " ...\n",
      " [ 2.36403419e+00  2.84203025e+00  8.77639096e+00 ...  1.49286458e-01\n",
      "   1.45984032e-01 -3.18098881e-02]\n",
      " [ 9.63151069e+00  3.99439760e+00  2.75707093e+00 ...  8.89118346e-01\n",
      "   8.18391326e-01  3.77888091e-02]\n",
      " [ 6.53052662e+00  6.78178990e+00  4.34969522e+00 ...  3.78760930e-01\n",
      "   9.42630833e-01  4.52633082e-02]]\n"
     ]
    }
   ],
   "source": [
    "X = np.array(data_final.loc[:, data_final.columns != 'stabf_stable'])\n",
    "print(X)"
   ],
   "metadata": {
    "collapsed": false,
    "ExecuteTime": {
     "end_time": "2023-08-04T07:33:41.834335200Z",
     "start_time": "2023-08-04T07:33:41.635925700Z"
    }
   },
   "id": "9be76d5d252f38fa"
  },
  {
   "cell_type": "code",
   "execution_count": 25,
   "outputs": [
    {
     "name": "stdout",
     "output_type": "stream",
     "text": [
      "[[0]\n",
      " [1]\n",
      " [0]\n",
      " ...\n",
      " [1]\n",
      " [0]\n",
      " [0]]\n"
     ]
    }
   ],
   "source": [
    "y = np.array(data_final.loc[:, data_final.columns == 'stabf_stable'])\n",
    "print(y)"
   ],
   "metadata": {
    "collapsed": false,
    "ExecuteTime": {
     "end_time": "2023-08-04T07:33:41.835333900Z",
     "start_time": "2023-08-04T07:33:41.650197600Z"
    }
   },
   "id": "1fafe3e59ac39794"
  },
  {
   "cell_type": "markdown",
   "source": [
    "# Phân chia tập dữ liệu ra thành 2 tập: tập huấn luyện và tập kiểm tra:"
   ],
   "metadata": {
    "collapsed": false
   },
   "id": "6c5deff4efb1cd23"
  },
  {
   "cell_type": "code",
   "execution_count": 26,
   "outputs": [
    {
     "name": "stdout",
     "output_type": "stream",
     "text": [
      "##### Training and test datasets #####\n",
      "Training size: 7000\n",
      "Test size    : 3000\n"
     ]
    }
   ],
   "source": [
    "train_features, test_features, train_targets, test_targets = train_test_split(X, y, test_size=0.3, random_state=0)\n",
    "print('##### Training and test datasets #####')\n",
    "print('Training size:', len(train_targets))\n",
    "print('Test size    :', len(test_targets))"
   ],
   "metadata": {
    "collapsed": false,
    "ExecuteTime": {
     "end_time": "2023-08-04T07:33:41.836339500Z",
     "start_time": "2023-08-04T07:33:41.669230800Z"
    }
   },
   "id": "417ca0da56c7db25"
  },
  {
   "cell_type": "markdown",
   "source": [
    "# Biến đổi kích thước ma trận dữ liệu huấn luyện kiểm tra"
   ],
   "metadata": {
    "collapsed": false
   },
   "id": "ed5ef1dd0892b364"
  },
  {
   "cell_type": "code",
   "execution_count": 27,
   "outputs": [
    {
     "name": "stdout",
     "output_type": "stream",
     "text": [
      "[0 0 0 ... 1 1 0]\n"
     ]
    }
   ],
   "source": [
    "train_targets = train_targets.reshape(train_targets.shape[0])\n",
    "test_targets = test_targets.reshape(test_targets.shape[0])\n",
    "print(train_targets)"
   ],
   "metadata": {
    "collapsed": false,
    "ExecuteTime": {
     "end_time": "2023-08-04T07:33:42.018482500Z",
     "start_time": "2023-08-04T07:33:41.683258600Z"
    }
   },
   "id": "a0228fdb0c70e5e1"
  },
  {
   "cell_type": "markdown",
   "source": [
    "# Vẽ đồ thị"
   ],
   "metadata": {
    "collapsed": false
   },
   "id": "cd661bcf4d99319e"
  },
  {
   "cell_type": "code",
   "execution_count": 28,
   "outputs": [
    {
     "data": {
      "text/plain": "<Figure size 640x480 with 1 Axes>",
      "image/png": "[encoded data removed]"
     },
     "metadata": {},
     "output_type": "display_data"
    }
   ],
   "source": [
    "pd.crosstab(train_targets, train_targets).plot(kind='bar')\n",
    "plt.title('Histogram of electrical grid stability')\n",
    "plt.xlabel('Quality')\n",
    "plt.ylabel('Number of samples')\n",
    "plt.rc(\"font\", size=14)"
   ],
   "metadata": {
    "collapsed": false,
    "ExecuteTime": {
     "end_time": "2023-08-04T07:33:42.268935600Z",
     "start_time": "2023-08-04T07:33:41.695451100Z"
    }
   },
   "id": "8552fcbeff62acf8"
  },
  {
   "cell_type": "code",
   "execution_count": 29,
   "outputs": [
    {
     "data": {
      "text/plain": "<Figure size 640x480 with 1 Axes>",
      "image/png": "[encoded data removed]"
     },
     "metadata": {},
     "output_type": "display_data"
    }
   ],
   "source": [
    "pd.crosstab(test_targets, test_targets).plot(kind='bar')\n",
    "plt.title('Histogram of electrical grid stability')\n",
    "plt.xlabel('Quality')\n",
    "plt.ylabel('Number of samples')\n",
    "plt.rc(\"font\", size=14)"
   ],
   "metadata": {
    "collapsed": false,
    "ExecuteTime": {
     "end_time": "2023-08-04T07:33:42.461814900Z",
     "start_time": "2023-08-04T07:33:42.034828100Z"
    }
   },
   "id": "6660a12f41a4350a"
  },
  {
   "cell_type": "markdown",
   "source": [
    "# Tạo mô hình sử dụng thuật toán SVM, huấn luyện mô hình:"
   ],
   "metadata": {
    "collapsed": false
   },
   "id": "a945f0f037460eee"
  },
  {
   "cell_type": "code",
   "execution_count": 30,
   "outputs": [
    {
     "name": "stdout",
     "output_type": "stream",
     "text": [
      "[[-1.59118366e-01 -1.41998322e-01 -9.31492683e-02 -2.72028288e-01\n",
      "  -2.78688536e-01  9.40958242e-01  4.26473872e-01 -1.08874357e+00\n",
      "  -2.80727393e-01 -1.24164357e+00 -6.71718325e-01  7.30015446e-01\n",
      "  -3.65262362e+03]]\n",
      "[5.73277151]\n"
     ]
    }
   ],
   "source": [
    "svmClassifier = SVC(kernel='linear', C = 1e5)\n",
    "svmClassifier.fit(train_features, train_targets)\n",
    "print(svmClassifier.coef_)\n",
    "print(svmClassifier.intercept_)"
   ],
   "metadata": {
    "collapsed": false,
    "ExecuteTime": {
     "end_time": "2023-08-04T07:34:41.195717100Z",
     "start_time": "2023-08-04T07:33:42.367334700Z"
    }
   },
   "id": "5449bd0bdc2f9462"
  },
  {
   "cell_type": "markdown",
   "source": [
    "# Hiển thị độ chính xác của mô hình đối với tập huấn luyện"
   ],
   "metadata": {
    "collapsed": false
   },
   "id": "24f06f5c70f1a1ea"
  },
  {
   "cell_type": "code",
   "execution_count": 31,
   "outputs": [
    {
     "name": "stdout",
     "output_type": "stream",
     "text": [
      "#### Training - Prediction results of SVM ####\n",
      "Target labels:  [0 0 0 ... 1 1 0]\n",
      "Predictions  :  [0 0 0 ... 1 1 0]\n"
     ]
    }
   ],
   "source": [
    "train_predictions = svmClassifier.predict(train_features)\n",
    "print(\"#### Training - Prediction results of SVM ####\")\n",
    "print(\"Target labels: \", train_targets)\n",
    "print(\"Predictions  : \", train_predictions)"
   ],
   "metadata": {
    "collapsed": false,
    "ExecuteTime": {
     "end_time": "2023-08-04T07:34:41.254032Z",
     "start_time": "2023-08-04T07:34:41.199714100Z"
    }
   },
   "id": "c0b92059c9ba3569"
  },
  {
   "cell_type": "markdown",
   "source": [
    "# Hiển thị kết quả đích và kết quả dự đoán của mô hình đối với tập huấn luyện"
   ],
   "metadata": {
    "collapsed": false
   },
   "id": "a9065a547e56514d"
  },
  {
   "cell_type": "code",
   "execution_count": 32,
   "outputs": [
    {
     "name": "stdout",
     "output_type": "stream",
     "text": [
      "##### Training - Prediction accuracy of SVM #####\n",
      "Accuracy of Logistic Regression:  99.82857142857144\n",
      "              precision    recall  f1-score   support\n",
      "\n",
      "           0       1.00      1.00      1.00      4478\n",
      "           1       1.00      1.00      1.00      2522\n",
      "\n",
      "    accuracy                           1.00      7000\n",
      "   macro avg       1.00      1.00      1.00      7000\n",
      "weighted avg       1.00      1.00      1.00      7000\n"
     ]
    }
   ],
   "source": [
    "accuracy = accuracy_score(train_targets, train_predictions) * 100\n",
    "print(\"##### Training - Prediction accuracy of SVM #####\")\n",
    "print(\"Accuracy of Logistic Regression: \", accuracy)\n",
    "print(classification_report(train_targets, train_predictions))"
   ],
   "metadata": {
    "collapsed": false,
    "ExecuteTime": {
     "end_time": "2023-08-04T07:34:41.257714Z",
     "start_time": "2023-08-04T07:34:41.231381700Z"
    }
   },
   "id": "a08e12fb7b89b0ba"
  },
  {
   "cell_type": "markdown",
   "source": [
    "# Hiển thị độ chính xác của mô hình đối với tập kiểm tra"
   ],
   "metadata": {
    "collapsed": false
   },
   "id": "59a25cae11afc075"
  },
  {
   "cell_type": "code",
   "execution_count": 33,
   "outputs": [
    {
     "name": "stdout",
     "output_type": "stream",
     "text": [
      "#### Test - Prediction results of SVM ####\n",
      "Target labels:  [0 1 0 ... 0 0 0]\n",
      "Predictions  :  [0 1 0 ... 0 0 0]\n"
     ]
    }
   ],
   "source": [
    "test_predictions = svmClassifier.predict(test_features)\n",
    "print(\"#### Test - Prediction results of SVM ####\")\n",
    "print(\"Target labels: \", test_targets)\n",
    "print(\"Predictions  : \", test_predictions)"
   ],
   "metadata": {
    "collapsed": false,
    "ExecuteTime": {
     "end_time": "2023-08-04T07:34:41.335580600Z",
     "start_time": "2023-08-04T07:34:41.262878600Z"
    }
   },
   "id": "a40263bbe1fb2548"
  },
  {
   "cell_type": "code",
   "execution_count": 34,
   "outputs": [
    {
     "name": "stdout",
     "output_type": "stream",
     "text": [
      "##### Test - Prediction accuracy of SVM #####\n",
      "Accuracy of Logistic Regression:  99.73333333333333\n",
      "              precision    recall  f1-score   support\n",
      "\n",
      "           0       1.00      1.00      1.00      1902\n",
      "           1       1.00      1.00      1.00      1098\n",
      "\n",
      "    accuracy                           1.00      3000\n",
      "   macro avg       1.00      1.00      1.00      3000\n",
      "weighted avg       1.00      1.00      1.00      3000\n"
     ]
    }
   ],
   "source": [
    "accuracy = accuracy_score(test_targets, test_predictions) * 100\n",
    "print(\"##### Test - Prediction accuracy of SVM #####\")\n",
    "print(\"Accuracy of Logistic Regression: \", accuracy)\n",
    "print(classification_report(test_targets, test_predictions))"
   ],
   "metadata": {
    "collapsed": false,
    "ExecuteTime": {
     "end_time": "2023-08-04T07:34:41.336644Z",
     "start_time": "2023-08-04T07:34:41.275741Z"
    }
   },
   "id": "892e663a998fdd6"
  }
 ],
 "metadata": {
  "kernelspec": {
   "display_name": "Python 3",
   "language": "python",
   "name": "python3"
  },
  "language_info": {
   "codemirror_mode": {
    "name": "ipython",
    "version": 2
   },
   "file_extension": ".py",
   "mimetype": "text/x-python",
   "name": "python",
   "nbconvert_exporter": "python",
   "pygments_lexer": "ipython2",
   "version": "2.7.6"
  }
 },
 "nbformat": 4,
 "nbformat_minor": 5
}
