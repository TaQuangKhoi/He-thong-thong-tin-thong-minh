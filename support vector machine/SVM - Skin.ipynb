{
 "cells": [
  {
   "cell_type": "code",
   "execution_count": 1,
   "id": "initial_id",
   "metadata": {
    "collapsed": true,
    "ExecuteTime": {
     "end_time": "2023-08-04T08:24:39.572023800Z",
     "start_time": "2023-08-04T08:24:38.860364600Z"
    }
   },
   "outputs": [],
   "source": [
    "import math as m\n",
    "import numpy as np\n",
    "import pandas as pd\n",
    "import matplotlib.pyplot as plt\n",
    "from sklearn.svm import SVC\n",
    "from sklearn.model_selection import train_test_split\n",
    "from sklearn.metrics import accuracy_score\n",
    "from sklearn.metrics import classification_report\n",
    "import seaborn as sns"
   ]
  },
  {
   "cell_type": "markdown",
   "source": [
    "# Đọc file chứa dữ liệu và in ra tiêu đề các cột"
   ],
   "metadata": {
    "collapsed": false
   },
   "id": "954365cbf1fa8b66"
  },
  {
   "cell_type": "code",
   "execution_count": 2,
   "outputs": [
    {
     "name": "stdout",
     "output_type": "stream",
     "text": [
      "['Blue', 'Green', 'Red', 'Skin']\n",
      "(245057, 4)\n"
     ]
    }
   ],
   "source": [
    "data = pd.read_csv('../data/Skin_NonSkin.csv')\n",
    "print(list(data.columns))\n",
    "print(data.shape)"
   ],
   "metadata": {
    "collapsed": false,
    "ExecuteTime": {
     "end_time": "2023-08-04T08:24:39.665547300Z",
     "start_time": "2023-08-04T08:24:39.572023800Z"
    }
   },
   "id": "2730276ab2820015"
  },
  {
   "cell_type": "code",
   "execution_count": 3,
   "outputs": [
    {
     "data": {
      "text/plain": "   Blue  Green  Red  Skin\n0    74     85  123     1\n1    73     84  122     1\n2    72     83  121     1\n3    70     81  119     1\n4    70     81  119     1",
      "text/html": "<div>\n<style scoped>\n    .dataframe tbody tr th:only-of-type {\n        vertical-align: middle;\n    }\n\n    .dataframe tbody tr th {\n        vertical-align: top;\n    }\n\n    .dataframe thead th {\n        text-align: right;\n    }\n</style>\n<table border=\"1\" class=\"dataframe\">\n  <thead>\n    <tr style=\"text-align: right;\">\n      <th></th>\n      <th>Blue</th>\n      <th>Green</th>\n      <th>Red</th>\n      <th>Skin</th>\n    </tr>\n  </thead>\n  <tbody>\n    <tr>\n      <th>0</th>\n      <td>74</td>\n      <td>85</td>\n      <td>123</td>\n      <td>1</td>\n    </tr>\n    <tr>\n      <th>1</th>\n      <td>73</td>\n      <td>84</td>\n      <td>122</td>\n      <td>1</td>\n    </tr>\n    <tr>\n      <th>2</th>\n      <td>72</td>\n      <td>83</td>\n      <td>121</td>\n      <td>1</td>\n    </tr>\n    <tr>\n      <th>3</th>\n      <td>70</td>\n      <td>81</td>\n      <td>119</td>\n      <td>1</td>\n    </tr>\n    <tr>\n      <th>4</th>\n      <td>70</td>\n      <td>81</td>\n      <td>119</td>\n      <td>1</td>\n    </tr>\n  </tbody>\n</table>\n</div>"
     },
     "execution_count": 3,
     "metadata": {},
     "output_type": "execute_result"
    }
   ],
   "source": [
    "data.head()"
   ],
   "metadata": {
    "collapsed": false,
    "ExecuteTime": {
     "end_time": "2023-08-04T08:24:39.767780400Z",
     "start_time": "2023-08-04T08:24:39.667567800Z"
    }
   },
   "id": "9103f686eea2e4ab"
  },
  {
   "cell_type": "markdown",
   "source": [
    "# Vẽ đồ thị phân bổ dữ liệu stabf và số lượng mẫu"
   ],
   "metadata": {
    "collapsed": false
   },
   "id": "a7e184f16086a8f4"
  },
  {
   "cell_type": "code",
   "execution_count": 4,
   "outputs": [
    {
     "data": {
      "text/plain": "<Figure size 640x480 with 1 Axes>",
      "image/png": "[encoded data removed]"
     },
     "metadata": {},
     "output_type": "display_data"
    }
   ],
   "source": [
    "sns.countplot(x='Skin', data=data, palette='hls')\n",
    "plt.show()"
   ],
   "metadata": {
    "collapsed": false,
    "ExecuteTime": {
     "end_time": "2023-08-04T08:24:39.978765900Z",
     "start_time": "2023-08-04T08:24:39.698792400Z"
    }
   },
   "id": "7877bb16805754a8"
  },
  {
   "cell_type": "markdown",
   "source": [
    "# Chuyển đổi dữ liệu cột đầu ra như sau: 1->0, 2->1"
   ],
   "metadata": {
    "collapsed": false
   },
   "id": "def6690783221a2d"
  },
  {
   "cell_type": "code",
   "execution_count": 5,
   "outputs": [
    {
     "data": {
      "text/plain": "   Blue  Green  Red  Skin\n0    74     85  123     0\n1    73     84  122     0\n2    72     83  121     0\n3    70     81  119     0\n4    70     81  119     0",
      "text/html": "<div>\n<style scoped>\n    .dataframe tbody tr th:only-of-type {\n        vertical-align: middle;\n    }\n\n    .dataframe tbody tr th {\n        vertical-align: top;\n    }\n\n    .dataframe thead th {\n        text-align: right;\n    }\n</style>\n<table border=\"1\" class=\"dataframe\">\n  <thead>\n    <tr style=\"text-align: right;\">\n      <th></th>\n      <th>Blue</th>\n      <th>Green</th>\n      <th>Red</th>\n      <th>Skin</th>\n    </tr>\n  </thead>\n  <tbody>\n    <tr>\n      <th>0</th>\n      <td>74</td>\n      <td>85</td>\n      <td>123</td>\n      <td>0</td>\n    </tr>\n    <tr>\n      <th>1</th>\n      <td>73</td>\n      <td>84</td>\n      <td>122</td>\n      <td>0</td>\n    </tr>\n    <tr>\n      <th>2</th>\n      <td>72</td>\n      <td>83</td>\n      <td>121</td>\n      <td>0</td>\n    </tr>\n    <tr>\n      <th>3</th>\n      <td>70</td>\n      <td>81</td>\n      <td>119</td>\n      <td>0</td>\n    </tr>\n    <tr>\n      <th>4</th>\n      <td>70</td>\n      <td>81</td>\n      <td>119</td>\n      <td>0</td>\n    </tr>\n  </tbody>\n</table>\n</div>"
     },
     "execution_count": 5,
     "metadata": {},
     "output_type": "execute_result"
    }
   ],
   "source": [
    "data['Skin'] = data['Skin'] - 1\n",
    "data.head()"
   ],
   "metadata": {
    "collapsed": false,
    "ExecuteTime": {
     "end_time": "2023-08-04T08:24:40.069550100Z",
     "start_time": "2023-08-04T08:24:39.981823Z"
    }
   },
   "id": "58b583fe3b4ac684"
  },
  {
   "cell_type": "markdown",
   "source": [
    "# Chuyển dữ liệu thành mảng"
   ],
   "metadata": {
    "collapsed": false
   },
   "id": "cb3bb01b5daf66b9"
  },
  {
   "cell_type": "code",
   "execution_count": 6,
   "outputs": [
    {
     "name": "stdout",
     "output_type": "stream",
     "text": [
      "[[ 74  85 123]\n",
      " [ 73  84 122]\n",
      " [ 72  83 121]\n",
      " ...\n",
      " [163 162 112]\n",
      " [163 162 112]\n",
      " [255 255 255]]\n"
     ]
    }
   ],
   "source": [
    "X = np.array(data.loc[:, data.columns != 'Skin'])\n",
    "print(X)"
   ],
   "metadata": {
    "collapsed": false,
    "ExecuteTime": {
     "end_time": "2023-08-04T08:24:40.070547400Z",
     "start_time": "2023-08-04T08:24:40.011853800Z"
    }
   },
   "id": "94174d2d257bb4ee"
  },
  {
   "cell_type": "code",
   "execution_count": 7,
   "outputs": [
    {
     "name": "stdout",
     "output_type": "stream",
     "text": [
      "[[0]\n",
      " [0]\n",
      " [0]\n",
      " ...\n",
      " [1]\n",
      " [1]\n",
      " [1]]\n"
     ]
    }
   ],
   "source": [
    "y = np.array(data.loc[:, data.columns == 'Skin'])\n",
    "print(y)"
   ],
   "metadata": {
    "collapsed": false,
    "ExecuteTime": {
     "end_time": "2023-08-04T08:24:40.071545800Z",
     "start_time": "2023-08-04T08:24:40.041377500Z"
    }
   },
   "id": "f881481a16b1285d"
  },
  {
   "cell_type": "markdown",
   "source": [
    "# Phân chia tập dữ liệu ra thành 2 tập: tập huấn luyện và tập kiểm tra"
   ],
   "metadata": {
    "collapsed": false
   },
   "id": "db7e85499734b100"
  },
  {
   "cell_type": "code",
   "execution_count": 8,
   "outputs": [
    {
     "name": "stdout",
     "output_type": "stream",
     "text": [
      "##### Training and Test datasets #####\n",
      "Training size:  12252\n",
      "Test size    :  232805\n"
     ]
    }
   ],
   "source": [
    "train_features, test_features, train_targets, test_targets = train_test_split(X, y, test_size=0.95, random_state=0)\n",
    "print(\"##### Training and Test datasets #####\")\n",
    "print(\"Training size: \", len(train_targets))\n",
    "print(\"Test size    : \", len(test_targets))"
   ],
   "metadata": {
    "collapsed": false,
    "ExecuteTime": {
     "end_time": "2023-08-04T08:24:40.191125400Z",
     "start_time": "2023-08-04T08:24:40.061017400Z"
    }
   },
   "id": "b3175b2456688121"
  },
  {
   "cell_type": "markdown",
   "source": [
    "# Biến đổi kích thước ma trận dữ liệu huấn luyện kiểm tra"
   ],
   "metadata": {
    "collapsed": false
   },
   "id": "d691e026145d7c09"
  },
  {
   "cell_type": "code",
   "execution_count": 9,
   "outputs": [
    {
     "name": "stdout",
     "output_type": "stream",
     "text": [
      "[1 1 1 ... 1 0 1]\n"
     ]
    }
   ],
   "source": [
    "train_targets = train_targets.reshape(train_targets.shape[0])\n",
    "test_targets = test_targets.reshape(test_targets.shape[0])\n",
    "print(train_targets)"
   ],
   "metadata": {
    "collapsed": false,
    "ExecuteTime": {
     "end_time": "2023-08-04T08:24:40.192125Z",
     "start_time": "2023-08-04T08:24:40.118670800Z"
    }
   },
   "id": "f4ee0de8281cc4f0"
  },
  {
   "cell_type": "markdown",
   "source": [
    "# Vẽ đồ thị"
   ],
   "metadata": {
    "collapsed": false
   },
   "id": "77ea3cd9c1929d05"
  },
  {
   "cell_type": "code",
   "execution_count": 10,
   "outputs": [
    {
     "data": {
      "text/plain": "<Figure size 640x480 with 1 Axes>",
      "image/png": "[encoded data removed]"
     },
     "metadata": {},
     "output_type": "display_data"
    }
   ],
   "source": [
    "pd.crosstab(train_targets, train_targets).plot(kind='bar')\n",
    "plt.title('Histogram of Skin - Training dataset')\n",
    "plt.xlabel('Quality')\n",
    "plt.ylabel('Number of samples')\n",
    "plt.rc(\"font\", size=14)"
   ],
   "metadata": {
    "collapsed": false,
    "ExecuteTime": {
     "end_time": "2023-08-04T08:24:40.503325500Z",
     "start_time": "2023-08-04T08:24:40.135722200Z"
    }
   },
   "id": "32cd80d0525de5e2"
  },
  {
   "cell_type": "code",
   "execution_count": 11,
   "outputs": [
    {
     "data": {
      "text/plain": "<Figure size 640x480 with 1 Axes>",
      "image/png": "[encoded data removed]"
     },
     "metadata": {},
     "output_type": "display_data"
    }
   ],
   "source": [
    "pd.crosstab(test_targets, test_targets).plot(kind='bar')\n",
    "plt.title('Histogram of Skin - Test dataset')\n",
    "plt.xlabel('Quality')\n",
    "plt.ylabel('Number of samples')\n",
    "plt.rc(\"font\", size=14)"
   ],
   "metadata": {
    "collapsed": false,
    "ExecuteTime": {
     "end_time": "2023-08-04T08:24:41.037239500Z",
     "start_time": "2023-08-04T08:24:40.497960100Z"
    }
   },
   "id": "406c2a9e5c19b3eb"
  },
  {
   "cell_type": "markdown",
   "source": [
    "# Tạo mô hình sử dụng thuật toán SVM, huấn luyện mô hình"
   ],
   "metadata": {
    "collapsed": false
   },
   "id": "a89726b90ed3779b"
  },
  {
   "cell_type": "code",
   "execution_count": 12,
   "outputs": [
    {
     "name": "stdout",
     "output_type": "stream",
     "text": [
      "[[ 0.01654937 -0.00482597 -0.01950881]]\n",
      "[1.89284263]\n"
     ]
    }
   ],
   "source": [
    "svmClassifier = SVC(kernel='linear', C=10)\n",
    "svmClassifier.fit(train_features, train_targets)\n",
    "print(svmClassifier.coef_)\n",
    "print(svmClassifier.intercept_)"
   ],
   "metadata": {
    "collapsed": false,
    "ExecuteTime": {
     "start_time": "2023-08-04T08:24:41.038239900Z"
    }
   },
   "id": "d6b8cbc6f7ac0da9"
  },
  {
   "cell_type": "markdown",
   "source": [
    "# Hiển thị độ chính xác của mô hình đối với tập huấn luyện"
   ],
   "metadata": {
    "collapsed": false
   },
   "id": "d9bca982d78d4d07"
  },
  {
   "cell_type": "code",
   "execution_count": 13,
   "outputs": [
    {
     "name": "stdout",
     "output_type": "stream",
     "text": [
      "##### Training - Prediction results of SVM #####\n",
      "Target labels:  [1 1 1 ... 1 0 1]\n",
      "Predictions  :  [1 1 1 ... 1 0 1]\n"
     ]
    }
   ],
   "source": [
    "train_predictions = svmClassifier.predict(train_features)\n",
    "print(\"##### Training - Prediction results of SVM #####\")\n",
    "print(\"Target labels: \", train_targets)\n",
    "print(\"Predictions  : \", train_predictions)"
   ],
   "metadata": {
    "collapsed": false,
    "ExecuteTime": {
     "start_time": "2023-08-04T08:47:44.769715100Z"
    }
   },
   "id": "12b2bd72ad4ae457"
  },
  {
   "cell_type": "code",
   "execution_count": 14,
   "outputs": [
    {
     "name": "stdout",
     "output_type": "stream",
     "text": [
      "##### Training - Prediction accuracy of SVM #####\n",
      "Accuracy:  92.67058439438459 %\n",
      "              precision    recall  f1-score   support\n",
      "\n",
      "           0       0.77      0.94      0.84      2601\n",
      "           1       0.98      0.92      0.95      9651\n",
      "\n",
      "    accuracy                           0.93     12252\n",
      "   macro avg       0.88      0.93      0.90     12252\n",
      "weighted avg       0.94      0.93      0.93     12252\n",
      "\n"
     ]
    }
   ],
   "source": [
    "accuracy = accuracy_score(train_targets, train_predictions) * 100\n",
    "print(\"##### Training - Prediction accuracy of SVM #####\")\n",
    "print(\"Accuracy: \", accuracy, \"%\")\n",
    "print(classification_report(train_targets, train_predictions))"
   ],
   "metadata": {
    "collapsed": false,
    "ExecuteTime": {
     "start_time": "2023-08-04T08:47:45.653195500Z"
    }
   },
   "id": "53110d5605818a19"
  },
  {
   "cell_type": "markdown",
   "source": [],
   "metadata": {
    "collapsed": false
   },
   "id": "5cdf82d9b8644a11"
  },
  {
   "cell_type": "markdown",
   "source": [],
   "metadata": {
    "collapsed": false
   },
   "id": "e2c678f14cd11df5"
  }
 ],
 "metadata": {
  "kernelspec": {
   "display_name": "Python 3",
   "language": "python",
   "name": "python3"
  },
  "language_info": {
   "codemirror_mode": {
    "name": "ipython",
    "version": 2
   },
   "file_extension": ".py",
   "mimetype": "text/x-python",
   "name": "python",
   "nbconvert_exporter": "python",
   "pygments_lexer": "ipython2",
   "version": "2.7.6"
  }
 },
 "nbformat": 4,
 "nbformat_minor": 5
}
