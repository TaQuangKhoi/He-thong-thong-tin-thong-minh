{
 "cells": [
  {
   "cell_type": "code",
   "execution_count": 3,
   "metadata": {
    "collapsed": true,
    "ExecuteTime": {
     "end_time": "2023-06-16T01:06:19.046504100Z",
     "start_time": "2023-06-16T01:06:17.972095Z"
    }
   },
   "outputs": [],
   "source": [
    "import numpy as np\n",
    "import matplotlib.pyplot as plt\n",
    "import random\n",
    "import pandas as pd"
   ]
  },
  {
   "cell_type": "code",
   "execution_count": 5,
   "outputs": [
    {
     "data": {
      "text/plain": "      TV  Radio  Newspaper  Sales\n0  230.1   37.8       69.2   22.1\n1   44.5   39.3       45.1   10.4\n2   17.2   45.9       69.3   12.0\n3  151.5   41.3       58.5   16.5\n4  180.8   10.8       58.4   17.9",
      "text/html": "<div>\n<style scoped>\n    .dataframe tbody tr th:only-of-type {\n        vertical-align: middle;\n    }\n\n    .dataframe tbody tr th {\n        vertical-align: top;\n    }\n\n    .dataframe thead th {\n        text-align: right;\n    }\n</style>\n<table border=\"1\" class=\"dataframe\">\n  <thead>\n    <tr style=\"text-align: right;\">\n      <th></th>\n      <th>TV</th>\n      <th>Radio</th>\n      <th>Newspaper</th>\n      <th>Sales</th>\n    </tr>\n  </thead>\n  <tbody>\n    <tr>\n      <th>0</th>\n      <td>230.1</td>\n      <td>37.8</td>\n      <td>69.2</td>\n      <td>22.1</td>\n    </tr>\n    <tr>\n      <th>1</th>\n      <td>44.5</td>\n      <td>39.3</td>\n      <td>45.1</td>\n      <td>10.4</td>\n    </tr>\n    <tr>\n      <th>2</th>\n      <td>17.2</td>\n      <td>45.9</td>\n      <td>69.3</td>\n      <td>12.0</td>\n    </tr>\n    <tr>\n      <th>3</th>\n      <td>151.5</td>\n      <td>41.3</td>\n      <td>58.5</td>\n      <td>16.5</td>\n    </tr>\n    <tr>\n      <th>4</th>\n      <td>180.8</td>\n      <td>10.8</td>\n      <td>58.4</td>\n      <td>17.9</td>\n    </tr>\n  </tbody>\n</table>\n</div>"
     },
     "execution_count": 5,
     "metadata": {},
     "output_type": "execute_result"
    }
   ],
   "source": [
    "# Read excel file\n",
    "df = pd.read_excel('advertising.xlsx')\n",
    "df"
   ],
   "metadata": {
    "collapsed": false,
    "ExecuteTime": {
     "end_time": "2023-06-16T01:07:04.256006700Z",
     "start_time": "2023-06-16T01:07:04.213188400Z"
    }
   }
  },
  {
   "cell_type": "code",
   "execution_count": 6,
   "outputs": [
    {
     "data": {
      "text/plain": "      TV  Radio  Newspaper\n0  230.1   37.8       69.2\n1   44.5   39.3       45.1\n2   17.2   45.9       69.3\n3  151.5   41.3       58.5\n4  180.8   10.8       58.4\n5    8.7   48.9       75.0\n6   57.5   32.8       23.5\n7  120.2   19.6       11.6\n8    8.6    2.1        1.0\n9  199.8    2.6       21.2",
      "text/html": "<div>\n<style scoped>\n    .dataframe tbody tr th:only-of-type {\n        vertical-align: middle;\n    }\n\n    .dataframe tbody tr th {\n        vertical-align: top;\n    }\n\n    .dataframe thead th {\n        text-align: right;\n    }\n</style>\n<table border=\"1\" class=\"dataframe\">\n  <thead>\n    <tr style=\"text-align: right;\">\n      <th></th>\n      <th>TV</th>\n      <th>Radio</th>\n      <th>Newspaper</th>\n    </tr>\n  </thead>\n  <tbody>\n    <tr>\n      <th>0</th>\n      <td>230.1</td>\n      <td>37.8</td>\n      <td>69.2</td>\n    </tr>\n    <tr>\n      <th>1</th>\n      <td>44.5</td>\n      <td>39.3</td>\n      <td>45.1</td>\n    </tr>\n    <tr>\n      <th>2</th>\n      <td>17.2</td>\n      <td>45.9</td>\n      <td>69.3</td>\n    </tr>\n    <tr>\n      <th>3</th>\n      <td>151.5</td>\n      <td>41.3</td>\n      <td>58.5</td>\n    </tr>\n    <tr>\n      <th>4</th>\n      <td>180.8</td>\n      <td>10.8</td>\n      <td>58.4</td>\n    </tr>\n    <tr>\n      <th>5</th>\n      <td>8.7</td>\n      <td>48.9</td>\n      <td>75.0</td>\n    </tr>\n    <tr>\n      <th>6</th>\n      <td>57.5</td>\n      <td>32.8</td>\n      <td>23.5</td>\n    </tr>\n    <tr>\n      <th>7</th>\n      <td>120.2</td>\n      <td>19.6</td>\n      <td>11.6</td>\n    </tr>\n    <tr>\n      <th>8</th>\n      <td>8.6</td>\n      <td>2.1</td>\n      <td>1.0</td>\n    </tr>\n    <tr>\n      <th>9</th>\n      <td>199.8</td>\n      <td>2.6</td>\n      <td>21.2</td>\n    </tr>\n  </tbody>\n</table>\n</div>"
     },
     "execution_count": 6,
     "metadata": {},
     "output_type": "execute_result"
    }
   ],
   "source": [
    "# Create a list of the independent variables\n",
    "X = df[['TV', 'Radio', 'Newspaper']]\n",
    "X"
   ],
   "metadata": {
    "collapsed": false,
    "ExecuteTime": {
     "end_time": "2023-06-16T01:08:03.430958800Z",
     "start_time": "2023-06-16T01:08:03.399933Z"
    }
   }
  },
  {
   "cell_type": "code",
   "execution_count": 7,
   "outputs": [
    {
     "data": {
      "text/plain": "0    22.1\n1    10.4\n2    12.0\n3    16.5\n4    17.9\n5     7.2\n6    11.8\n7    13.2\n8     4.8\n9    15.6\nName: Sales, dtype: float64"
     },
     "execution_count": 7,
     "metadata": {},
     "output_type": "execute_result"
    }
   ],
   "source": [
    "# Create a list of the dependent variables\n",
    "y = df['Sales']\n",
    "y"
   ],
   "metadata": {
    "collapsed": false,
    "ExecuteTime": {
     "end_time": "2023-06-16T01:08:10.382680600Z",
     "start_time": "2023-06-16T01:08:10.358748100Z"
    }
   }
  },
  {
   "cell_type": "code",
   "execution_count": 11,
   "outputs": [
    {
     "data": {
      "text/plain": "0    230.1\n1     44.5\n2     17.2\n3    151.5\n4    180.8\n5      8.7\n6     57.5\n7    120.2\n8      8.6\n9    199.8\nName: TV, dtype: float64"
     },
     "execution_count": 11,
     "metadata": {},
     "output_type": "execute_result"
    }
   ],
   "source": [
    "X['TV']"
   ],
   "metadata": {
    "collapsed": false,
    "ExecuteTime": {
     "end_time": "2023-06-16T01:20:20.039587Z",
     "start_time": "2023-06-16T01:20:20.014538800Z"
    }
   }
  },
  {
   "cell_type": "code",
   "execution_count": 14,
   "outputs": [
    {
     "data": {
      "text/plain": "[624.1, 175.10000000000002, 300.5, 78.9]"
     },
     "execution_count": 14,
     "metadata": {},
     "output_type": "execute_result"
    }
   ],
   "source": [
    "# Calculate the sum of the first 5 values of each variable\n",
    "listSum = [\n",
    "    sum(X['TV'][:5]),\n",
    "    sum(X['Radio'][:5]),\n",
    "    sum(X['Newspaper'][:5]),\n",
    "    sum(y[:5])\n",
    "]\n",
    "listSum"
   ],
   "metadata": {
    "collapsed": false,
    "ExecuteTime": {
     "end_time": "2023-06-16T01:21:23.526922Z",
     "start_time": "2023-06-16T01:21:23.470008700Z"
    }
   }
  },
  {
   "cell_type": "markdown",
   "source": [
    "# Vẽ đồ thị thể hiện dự liệu\n",
    "\n",
    "Chọn 1 trong 3 biến độc lập để vẽ đồ thị => Radio"
   ],
   "metadata": {
    "collapsed": false
   }
  },
  {
   "cell_type": "code",
   "execution_count": 8,
   "outputs": [
    {
     "data": {
      "text/plain": "<Figure size 640x480 with 1 Axes>",
      "image/png": "[encoded data removed]"
     },
     "metadata": {},
     "output_type": "display_data"
    }
   ],
   "source": [
    "plt.scatter(df['Radio'], df['Sales'], color='red')\n",
    "plt.title('Sales vs Radio', fontsize=14)\n",
    "plt.xlabel('Radio', fontsize=14)\n",
    "plt.ylabel('Sales', fontsize=14)\n",
    "plt.grid(True)\n",
    "plt.show()"
   ],
   "metadata": {
    "collapsed": false,
    "ExecuteTime": {
     "end_time": "2023-06-16T01:14:43.353199800Z",
     "start_time": "2023-06-16T01:14:43.017403500Z"
    }
   }
  },
  {
   "cell_type": "markdown",
   "source": [
    "# Tạo mô hình hồi quy tuyến tính\n",
    "\n",
    "Chọn 1 trong 3 biến độc lập để tạo mô hình => Radio"
   ],
   "metadata": {
    "collapsed": false
   }
  }
 ],
 "metadata": {
  "kernelspec": {
   "display_name": "Python 3",
   "language": "python",
   "name": "python3"
  },
  "language_info": {
   "codemirror_mode": {
    "name": "ipython",
    "version": 2
   },
   "file_extension": ".py",
   "mimetype": "text/x-python",
   "name": "python",
   "nbconvert_exporter": "python",
   "pygments_lexer": "ipython2",
   "version": "2.7.6"
  }
 },
 "nbformat": 4,
 "nbformat_minor": 0
}
