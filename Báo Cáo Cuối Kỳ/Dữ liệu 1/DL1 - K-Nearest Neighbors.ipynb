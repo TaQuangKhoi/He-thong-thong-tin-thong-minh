{
 "cells": [
  {
   "cell_type": "markdown",
   "source": [
    "# Import libraries"
   ],
   "metadata": {
    "collapsed": false
   },
   "id": "a8808563da9f00fd"
  },
  {
   "cell_type": "code",
   "execution_count": 1,
   "outputs": [],
   "source": [
    "import pandas as pd\n",
    "import numpy as np"
   ],
   "metadata": {
    "collapsed": false,
    "ExecuteTime": {
     "end_time": "2023-08-15T03:59:09.987828500Z",
     "start_time": "2023-08-15T03:59:09.892902600Z"
    }
   },
   "id": "bc363b24f749e984"
  },
  {
   "cell_type": "markdown",
   "source": [
    "# Load data"
   ],
   "metadata": {
    "collapsed": false
   },
   "id": "c0e98eb84b60f3b6"
  },
  {
   "cell_type": "code",
   "execution_count": 2,
   "outputs": [
    {
     "data": {
      "text/plain": "       destination  passanger weather  temperature  time  \\\n0  No Urgent Place      Alone   Sunny           55   2PM   \n1  No Urgent Place  Friend(s)   Sunny           80  10AM   \n2  No Urgent Place  Friend(s)   Sunny           80  10AM   \n3  No Urgent Place  Friend(s)   Sunny           80   2PM   \n4  No Urgent Place  Friend(s)   Sunny           80   2PM   \n\n                  coupon expiration  gender age      maritalStatus  ...  \\\n0        Restaurant(<20)         1d  Female  21  Unmarried partner  ...   \n1           Coffee House         2h  Female  21  Unmarried partner  ...   \n2  Carry out & Take away         2h  Female  21  Unmarried partner  ...   \n3           Coffee House         2h  Female  21  Unmarried partner  ...   \n4           Coffee House         1d  Female  21  Unmarried partner  ...   \n\n   CoffeeHouse CarryAway RestaurantLessThan20 Restaurant20To50  \\\n0        never       NaN                  4~8              1~3   \n1        never       NaN                  4~8              1~3   \n2        never       NaN                  4~8              1~3   \n3        never       NaN                  4~8              1~3   \n4        never       NaN                  4~8              1~3   \n\n  toCoupon_GEQ5min toCoupon_GEQ15min toCoupon_GEQ25min direction_same  \\\n0                1                 0                 0              0   \n1                1                 0                 0              0   \n2                1                 1                 0              0   \n3                1                 1                 0              0   \n4                1                 1                 0              0   \n\n  direction_opp  Y  \n0             1  1  \n1             1  0  \n2             1  1  \n3             1  0  \n4             1  0  \n\n[5 rows x 26 columns]",
      "text/html": "<div>\n<style scoped>\n    .dataframe tbody tr th:only-of-type {\n        vertical-align: middle;\n    }\n\n    .dataframe tbody tr th {\n        vertical-align: top;\n    }\n\n    .dataframe thead th {\n        text-align: right;\n    }\n</style>\n<table border=\"1\" class=\"dataframe\">\n  <thead>\n    <tr style=\"text-align: right;\">\n      <th></th>\n      <th>destination</th>\n      <th>passanger</th>\n      <th>weather</th>\n      <th>temperature</th>\n      <th>time</th>\n      <th>coupon</th>\n      <th>expiration</th>\n      <th>gender</th>\n      <th>age</th>\n      <th>maritalStatus</th>\n      <th>...</th>\n      <th>CoffeeHouse</th>\n      <th>CarryAway</th>\n      <th>RestaurantLessThan20</th>\n      <th>Restaurant20To50</th>\n      <th>toCoupon_GEQ5min</th>\n      <th>toCoupon_GEQ15min</th>\n      <th>toCoupon_GEQ25min</th>\n      <th>direction_same</th>\n      <th>direction_opp</th>\n      <th>Y</th>\n    </tr>\n  </thead>\n  <tbody>\n    <tr>\n      <th>0</th>\n      <td>No Urgent Place</td>\n      <td>Alone</td>\n      <td>Sunny</td>\n      <td>55</td>\n      <td>2PM</td>\n      <td>Restaurant(&lt;20)</td>\n      <td>1d</td>\n      <td>Female</td>\n      <td>21</td>\n      <td>Unmarried partner</td>\n      <td>...</td>\n      <td>never</td>\n      <td>NaN</td>\n      <td>4~8</td>\n      <td>1~3</td>\n      <td>1</td>\n      <td>0</td>\n      <td>0</td>\n      <td>0</td>\n      <td>1</td>\n      <td>1</td>\n    </tr>\n    <tr>\n      <th>1</th>\n      <td>No Urgent Place</td>\n      <td>Friend(s)</td>\n      <td>Sunny</td>\n      <td>80</td>\n      <td>10AM</td>\n      <td>Coffee House</td>\n      <td>2h</td>\n      <td>Female</td>\n      <td>21</td>\n      <td>Unmarried partner</td>\n      <td>...</td>\n      <td>never</td>\n      <td>NaN</td>\n      <td>4~8</td>\n      <td>1~3</td>\n      <td>1</td>\n      <td>0</td>\n      <td>0</td>\n      <td>0</td>\n      <td>1</td>\n      <td>0</td>\n    </tr>\n    <tr>\n      <th>2</th>\n      <td>No Urgent Place</td>\n      <td>Friend(s)</td>\n      <td>Sunny</td>\n      <td>80</td>\n      <td>10AM</td>\n      <td>Carry out &amp; Take away</td>\n      <td>2h</td>\n      <td>Female</td>\n      <td>21</td>\n      <td>Unmarried partner</td>\n      <td>...</td>\n      <td>never</td>\n      <td>NaN</td>\n      <td>4~8</td>\n      <td>1~3</td>\n      <td>1</td>\n      <td>1</td>\n      <td>0</td>\n      <td>0</td>\n      <td>1</td>\n      <td>1</td>\n    </tr>\n    <tr>\n      <th>3</th>\n      <td>No Urgent Place</td>\n      <td>Friend(s)</td>\n      <td>Sunny</td>\n      <td>80</td>\n      <td>2PM</td>\n      <td>Coffee House</td>\n      <td>2h</td>\n      <td>Female</td>\n      <td>21</td>\n      <td>Unmarried partner</td>\n      <td>...</td>\n      <td>never</td>\n      <td>NaN</td>\n      <td>4~8</td>\n      <td>1~3</td>\n      <td>1</td>\n      <td>1</td>\n      <td>0</td>\n      <td>0</td>\n      <td>1</td>\n      <td>0</td>\n    </tr>\n    <tr>\n      <th>4</th>\n      <td>No Urgent Place</td>\n      <td>Friend(s)</td>\n      <td>Sunny</td>\n      <td>80</td>\n      <td>2PM</td>\n      <td>Coffee House</td>\n      <td>1d</td>\n      <td>Female</td>\n      <td>21</td>\n      <td>Unmarried partner</td>\n      <td>...</td>\n      <td>never</td>\n      <td>NaN</td>\n      <td>4~8</td>\n      <td>1~3</td>\n      <td>1</td>\n      <td>1</td>\n      <td>0</td>\n      <td>0</td>\n      <td>1</td>\n      <td>0</td>\n    </tr>\n  </tbody>\n</table>\n<p>5 rows × 26 columns</p>\n</div>"
     },
     "execution_count": 2,
     "metadata": {},
     "output_type": "execute_result"
    }
   ],
   "source": [
    "df = pd.read_csv('in-vehicle-coupon-recommendation.csv')\n",
    "df.head()"
   ],
   "metadata": {
    "collapsed": false,
    "ExecuteTime": {
     "end_time": "2023-08-15T03:59:10.279961900Z",
     "start_time": "2023-08-15T03:59:09.902057100Z"
    }
   },
   "id": "e1f66a53aec549b"
  },
  {
   "cell_type": "markdown",
   "source": [
    "# Build a K-Nearest Neighbors model"
   ],
   "metadata": {
    "collapsed": false
   },
   "id": "42f3e9b321d87522"
  },
  {
   "cell_type": "code",
   "execution_count": 3,
   "outputs": [],
   "source": [
    "from sklearn.neighbors import KNeighborsClassifier\n",
    "from sklearn.model_selection import train_test_split\n",
    "from sklearn.metrics import accuracy_score"
   ],
   "metadata": {
    "collapsed": false,
    "ExecuteTime": {
     "end_time": "2023-08-15T03:59:11.038940700Z",
     "start_time": "2023-08-15T03:59:10.105672Z"
    }
   },
   "id": "f2108f77f66cb892"
  },
  {
   "cell_type": "markdown",
   "source": [
    "## Preprocessing"
   ],
   "metadata": {
    "collapsed": false
   },
   "id": "de564afea2e3c2"
  },
  {
   "cell_type": "code",
   "execution_count": 4,
   "outputs": [],
   "source": [
    "df = df.drop(['car'], axis=1)"
   ],
   "metadata": {
    "collapsed": false,
    "ExecuteTime": {
     "end_time": "2023-08-15T03:59:11.054969500Z",
     "start_time": "2023-08-15T03:59:11.038940700Z"
    }
   },
   "id": "d8e8c68b2c71d82"
  },
  {
   "cell_type": "code",
   "execution_count": 5,
   "outputs": [],
   "source": [
    "df = df.dropna()"
   ],
   "metadata": {
    "collapsed": false,
    "ExecuteTime": {
     "end_time": "2023-08-15T03:59:11.121676Z",
     "start_time": "2023-08-15T03:59:11.057043900Z"
    }
   },
   "id": "2a411e7b776debfb"
  },
  {
   "cell_type": "code",
   "execution_count": 6,
   "outputs": [
    {
     "data": {
      "text/plain": "    temperature  has_children  toCoupon_GEQ5min  toCoupon_GEQ15min  \\\n22           55             0                 1                  0   \n23           80             0                 1                  0   \n24           80             0                 1                  0   \n25           80             0                 1                  1   \n26           80             0                 1                  0   \n\n    toCoupon_GEQ25min  direction_same  direction_opp  Y  destination_Home  \\\n22                  0               0              1  1                 0   \n23                  0               0              1  0                 0   \n24                  0               0              1  1                 0   \n25                  0               0              1  0                 0   \n26                  0               0              1  0                 0   \n\n    destination_No Urgent Place  ...  RestaurantLessThan20_1~3  \\\n22                            1  ...                         0   \n23                            1  ...                         0   \n24                            1  ...                         0   \n25                            1  ...                         0   \n26                            1  ...                         0   \n\n    RestaurantLessThan20_4~8  RestaurantLessThan20_gt8  \\\n22                         1                         0   \n23                         1                         0   \n24                         1                         0   \n25                         1                         0   \n26                         1                         0   \n\n    RestaurantLessThan20_less1  RestaurantLessThan20_never  \\\n22                           0                           0   \n23                           0                           0   \n24                           0                           0   \n25                           0                           0   \n26                           0                           0   \n\n    Restaurant20To50_1~3  Restaurant20To50_4~8  Restaurant20To50_gt8  \\\n22                     0                     0                     0   \n23                     0                     0                     0   \n24                     0                     0                     0   \n25                     0                     0                     0   \n26                     0                     0                     0   \n\n    Restaurant20To50_less1  Restaurant20To50_never  \n22                       1                       0  \n23                       1                       0  \n24                       1                       0  \n25                       1                       0  \n26                       1                       0  \n\n[5 rows x 110 columns]",
      "text/html": "<div>\n<style scoped>\n    .dataframe tbody tr th:only-of-type {\n        vertical-align: middle;\n    }\n\n    .dataframe tbody tr th {\n        vertical-align: top;\n    }\n\n    .dataframe thead th {\n        text-align: right;\n    }\n</style>\n<table border=\"1\" class=\"dataframe\">\n  <thead>\n    <tr style=\"text-align: right;\">\n      <th></th>\n      <th>temperature</th>\n      <th>has_children</th>\n      <th>toCoupon_GEQ5min</th>\n      <th>toCoupon_GEQ15min</th>\n      <th>toCoupon_GEQ25min</th>\n      <th>direction_same</th>\n      <th>direction_opp</th>\n      <th>Y</th>\n      <th>destination_Home</th>\n      <th>destination_No Urgent Place</th>\n      <th>...</th>\n      <th>RestaurantLessThan20_1~3</th>\n      <th>RestaurantLessThan20_4~8</th>\n      <th>RestaurantLessThan20_gt8</th>\n      <th>RestaurantLessThan20_less1</th>\n      <th>RestaurantLessThan20_never</th>\n      <th>Restaurant20To50_1~3</th>\n      <th>Restaurant20To50_4~8</th>\n      <th>Restaurant20To50_gt8</th>\n      <th>Restaurant20To50_less1</th>\n      <th>Restaurant20To50_never</th>\n    </tr>\n  </thead>\n  <tbody>\n    <tr>\n      <th>22</th>\n      <td>55</td>\n      <td>0</td>\n      <td>1</td>\n      <td>0</td>\n      <td>0</td>\n      <td>0</td>\n      <td>1</td>\n      <td>1</td>\n      <td>0</td>\n      <td>1</td>\n      <td>...</td>\n      <td>0</td>\n      <td>1</td>\n      <td>0</td>\n      <td>0</td>\n      <td>0</td>\n      <td>0</td>\n      <td>0</td>\n      <td>0</td>\n      <td>1</td>\n      <td>0</td>\n    </tr>\n    <tr>\n      <th>23</th>\n      <td>80</td>\n      <td>0</td>\n      <td>1</td>\n      <td>0</td>\n      <td>0</td>\n      <td>0</td>\n      <td>1</td>\n      <td>0</td>\n      <td>0</td>\n      <td>1</td>\n      <td>...</td>\n      <td>0</td>\n      <td>1</td>\n      <td>0</td>\n      <td>0</td>\n      <td>0</td>\n      <td>0</td>\n      <td>0</td>\n      <td>0</td>\n      <td>1</td>\n      <td>0</td>\n    </tr>\n    <tr>\n      <th>24</th>\n      <td>80</td>\n      <td>0</td>\n      <td>1</td>\n      <td>0</td>\n      <td>0</td>\n      <td>0</td>\n      <td>1</td>\n      <td>1</td>\n      <td>0</td>\n      <td>1</td>\n      <td>...</td>\n      <td>0</td>\n      <td>1</td>\n      <td>0</td>\n      <td>0</td>\n      <td>0</td>\n      <td>0</td>\n      <td>0</td>\n      <td>0</td>\n      <td>1</td>\n      <td>0</td>\n    </tr>\n    <tr>\n      <th>25</th>\n      <td>80</td>\n      <td>0</td>\n      <td>1</td>\n      <td>1</td>\n      <td>0</td>\n      <td>0</td>\n      <td>1</td>\n      <td>0</td>\n      <td>0</td>\n      <td>1</td>\n      <td>...</td>\n      <td>0</td>\n      <td>1</td>\n      <td>0</td>\n      <td>0</td>\n      <td>0</td>\n      <td>0</td>\n      <td>0</td>\n      <td>0</td>\n      <td>1</td>\n      <td>0</td>\n    </tr>\n    <tr>\n      <th>26</th>\n      <td>80</td>\n      <td>0</td>\n      <td>1</td>\n      <td>0</td>\n      <td>0</td>\n      <td>0</td>\n      <td>1</td>\n      <td>0</td>\n      <td>0</td>\n      <td>1</td>\n      <td>...</td>\n      <td>0</td>\n      <td>1</td>\n      <td>0</td>\n      <td>0</td>\n      <td>0</td>\n      <td>0</td>\n      <td>0</td>\n      <td>0</td>\n      <td>1</td>\n      <td>0</td>\n    </tr>\n  </tbody>\n</table>\n<p>5 rows × 110 columns</p>\n</div>"
     },
     "execution_count": 6,
     "metadata": {},
     "output_type": "execute_result"
    }
   ],
   "source": [
    "df = pd.get_dummies(df)\n",
    "df.head()"
   ],
   "metadata": {
    "collapsed": false,
    "ExecuteTime": {
     "end_time": "2023-08-15T03:59:11.204737800Z",
     "start_time": "2023-08-15T03:59:11.114145100Z"
    }
   },
   "id": "2363b3a4ad8e555a"
  },
  {
   "cell_type": "markdown",
   "source": [
    "### PCA"
   ],
   "metadata": {
    "collapsed": false
   },
   "id": "6b1a0623c8b94f27"
  },
  {
   "cell_type": "code",
   "execution_count": 7,
   "outputs": [],
   "source": [
    "from sklearn.decomposition import PCA"
   ],
   "metadata": {
    "collapsed": false,
    "ExecuteTime": {
     "end_time": "2023-08-15T03:59:11.205755900Z",
     "start_time": "2023-08-15T03:59:11.195999300Z"
    }
   },
   "id": "3c0e429877347bdd"
  },
  {
   "cell_type": "code",
   "execution_count": 8,
   "outputs": [],
   "source": [
    "pca = PCA(n_components=2)"
   ],
   "metadata": {
    "collapsed": false,
    "ExecuteTime": {
     "end_time": "2023-08-15T03:59:11.297070900Z",
     "start_time": "2023-08-15T03:59:11.208244600Z"
    }
   },
   "id": "be625eddca899cde"
  },
  {
   "cell_type": "code",
   "execution_count": 9,
   "outputs": [
    {
     "data": {
      "text/plain": "PCA(n_components=2)",
      "text/html": "<style>#sk-container-id-1 {color: black;background-color: white;}#sk-container-id-1 pre{padding: 0;}#sk-container-id-1 div.sk-toggleable {background-color: white;}#sk-container-id-1 label.sk-toggleable__label {cursor: pointer;display: block;width: 100%;margin-bottom: 0;padding: 0.3em;box-sizing: border-box;text-align: center;}#sk-container-id-1 label.sk-toggleable__label-arrow:before {content: \"▸\";float: left;margin-right: 0.25em;color: #696969;}#sk-container-id-1 label.sk-toggleable__label-arrow:hover:before {color: black;}#sk-container-id-1 div.sk-estimator:hover label.sk-toggleable__label-arrow:before {color: black;}#sk-container-id-1 div.sk-toggleable__content {max-height: 0;max-width: 0;overflow: hidden;text-align: left;background-color: #f0f8ff;}#sk-container-id-1 div.sk-toggleable__content pre {margin: 0.2em;color: black;border-radius: 0.25em;background-color: #f0f8ff;}#sk-container-id-1 input.sk-toggleable__control:checked~div.sk-toggleable__content {max-height: 200px;max-width: 100%;overflow: auto;}#sk-container-id-1 input.sk-toggleable__control:checked~label.sk-toggleable__label-arrow:before {content: \"▾\";}#sk-container-id-1 div.sk-estimator input.sk-toggleable__control:checked~label.sk-toggleable__label {background-color: #d4ebff;}#sk-container-id-1 div.sk-label input.sk-toggleable__control:checked~label.sk-toggleable__label {background-color: #d4ebff;}#sk-container-id-1 input.sk-hidden--visually {border: 0;clip: rect(1px 1px 1px 1px);clip: rect(1px, 1px, 1px, 1px);height: 1px;margin: -1px;overflow: hidden;padding: 0;position: absolute;width: 1px;}#sk-container-id-1 div.sk-estimator {font-family: monospace;background-color: #f0f8ff;border: 1px dotted black;border-radius: 0.25em;box-sizing: border-box;margin-bottom: 0.5em;}#sk-container-id-1 div.sk-estimator:hover {background-color: #d4ebff;}#sk-container-id-1 div.sk-parallel-item::after {content: \"\";width: 100%;border-bottom: 1px solid gray;flex-grow: 1;}#sk-container-id-1 div.sk-label:hover label.sk-toggleable__label {background-color: #d4ebff;}#sk-container-id-1 div.sk-serial::before {content: \"\";position: absolute;border-left: 1px solid gray;box-sizing: border-box;top: 0;bottom: 0;left: 50%;z-index: 0;}#sk-container-id-1 div.sk-serial {display: flex;flex-direction: column;align-items: center;background-color: white;padding-right: 0.2em;padding-left: 0.2em;position: relative;}#sk-container-id-1 div.sk-item {position: relative;z-index: 1;}#sk-container-id-1 div.sk-parallel {display: flex;align-items: stretch;justify-content: center;background-color: white;position: relative;}#sk-container-id-1 div.sk-item::before, #sk-container-id-1 div.sk-parallel-item::before {content: \"\";position: absolute;border-left: 1px solid gray;box-sizing: border-box;top: 0;bottom: 0;left: 50%;z-index: -1;}#sk-container-id-1 div.sk-parallel-item {display: flex;flex-direction: column;z-index: 1;position: relative;background-color: white;}#sk-container-id-1 div.sk-parallel-item:first-child::after {align-self: flex-end;width: 50%;}#sk-container-id-1 div.sk-parallel-item:last-child::after {align-self: flex-start;width: 50%;}#sk-container-id-1 div.sk-parallel-item:only-child::after {width: 0;}#sk-container-id-1 div.sk-dashed-wrapped {border: 1px dashed gray;margin: 0 0.4em 0.5em 0.4em;box-sizing: border-box;padding-bottom: 0.4em;background-color: white;}#sk-container-id-1 div.sk-label label {font-family: monospace;font-weight: bold;display: inline-block;line-height: 1.2em;}#sk-container-id-1 div.sk-label-container {text-align: center;}#sk-container-id-1 div.sk-container {/* jupyter's `normalize.less` sets `[hidden] { display: none; }` but bootstrap.min.css set `[hidden] { display: none !important; }` so we also need the `!important` here to be able to override the default hidden behavior on the sphinx rendered scikit-learn.org. See: https://github.com/scikit-learn/scikit-learn/issues/21755 */display: inline-block !important;position: relative;}#sk-container-id-1 div.sk-text-repr-fallback {display: none;}</style><div id=\"sk-container-id-1\" class=\"sk-top-container\"><div class=\"sk-text-repr-fallback\"><pre>PCA(n_components=2)</pre><b>In a Jupyter environment, please rerun this cell to show the HTML representation or trust the notebook. <br />On GitHub, the HTML representation is unable to render, please try loading this page with nbviewer.org.</b></div><div class=\"sk-container\" hidden><div class=\"sk-item\"><div class=\"sk-estimator sk-toggleable\"><input class=\"sk-toggleable__control sk-hidden--visually\" id=\"sk-estimator-id-1\" type=\"checkbox\" checked><label for=\"sk-estimator-id-1\" class=\"sk-toggleable__label sk-toggleable__label-arrow\">PCA</label><div class=\"sk-toggleable__content\"><pre>PCA(n_components=2)</pre></div></div></div></div></div>"
     },
     "execution_count": 9,
     "metadata": {},
     "output_type": "execute_result"
    }
   ],
   "source": [
    "pca.fit(df)"
   ],
   "metadata": {
    "collapsed": false,
    "ExecuteTime": {
     "end_time": "2023-08-15T03:59:11.537280Z",
     "start_time": "2023-08-15T03:59:11.225324400Z"
    }
   },
   "id": "8415d1500c19a2a3"
  },
  {
   "cell_type": "code",
   "execution_count": 10,
   "outputs": [
    {
     "data": {
      "text/plain": "array([0.9663956 , 0.00241736])"
     },
     "execution_count": 10,
     "metadata": {},
     "output_type": "execute_result"
    }
   ],
   "source": [
    "pca.explained_variance_ratio_"
   ],
   "metadata": {
    "collapsed": false,
    "ExecuteTime": {
     "end_time": "2023-08-15T03:59:11.576887400Z",
     "start_time": "2023-08-15T03:59:11.505060500Z"
    }
   },
   "id": "c6291f5a8c50730"
  },
  {
   "cell_type": "code",
   "execution_count": 11,
   "outputs": [],
   "source": [
    "X = df.drop(['Y'], axis=1)"
   ],
   "metadata": {
    "collapsed": false,
    "ExecuteTime": {
     "end_time": "2023-08-15T03:59:11.577903800Z",
     "start_time": "2023-08-15T03:59:11.525669900Z"
    }
   },
   "id": "3bce628c41efc71d"
  },
  {
   "cell_type": "code",
   "execution_count": 12,
   "outputs": [],
   "source": [
    "y = df['Y'] "
   ],
   "metadata": {
    "collapsed": false,
    "ExecuteTime": {
     "end_time": "2023-08-15T03:59:11.580926900Z",
     "start_time": "2023-08-15T03:59:11.536272600Z"
    }
   },
   "id": "7722d781fb29661c"
  },
  {
   "cell_type": "code",
   "execution_count": 13,
   "outputs": [],
   "source": [
    "X_train, X_test, y_train, y_test = train_test_split(X, y, test_size=0.2, random_state=123)"
   ],
   "metadata": {
    "collapsed": false,
    "ExecuteTime": {
     "end_time": "2023-08-15T03:59:11.647551200Z",
     "start_time": "2023-08-15T03:59:11.556417100Z"
    }
   },
   "id": "bdce50305963c4c9"
  },
  {
   "cell_type": "code",
   "execution_count": 14,
   "outputs": [],
   "source": [
    "# Function to test each column\n",
    "def test_column(col):\n",
    "    model = KNeighborsClassifier(n_neighbors = 10, p = 2)\n",
    "    model.fit(X_train[col].to_frame(), y_train)\n",
    "    y_pred = model.predict(X_test[col].to_frame())\n",
    "    return accuracy_score(y_test, y_pred)"
   ],
   "metadata": {
    "collapsed": false,
    "ExecuteTime": {
     "end_time": "2023-08-15T03:59:11.648556600Z",
     "start_time": "2023-08-15T03:59:11.583967400Z"
    }
   },
   "id": "88d4a9f07aa28152"
  },
  {
   "cell_type": "code",
   "execution_count": 15,
   "outputs": [],
   "source": [
    "def test_columns(cols):\n",
    "    model = KNeighborsClassifier(n_neighbors = 10, p = 2)\n",
    "    model.fit(X_train[cols], y_train)\n",
    "    y_pred = model.predict(X_test[cols])\n",
    "    return accuracy_score(y_test, y_pred)"
   ],
   "metadata": {
    "collapsed": false,
    "ExecuteTime": {
     "end_time": "2023-08-15T03:59:11.648556600Z",
     "start_time": "2023-08-15T03:59:11.600129100Z"
    }
   },
   "id": "d89da2ef19215f7c"
  },
  {
   "cell_type": "code",
   "execution_count": 16,
   "outputs": [],
   "source": [
    "def test_all():\n",
    "    model = KNeighborsClassifier(n_neighbors = 10, p = 2)\n",
    "    model.fit(X_train, y_train)\n",
    "    y_pred = model.predict(X_test)\n",
    "    return accuracy_score(y_test, y_pred)"
   ],
   "metadata": {
    "collapsed": false,
    "ExecuteTime": {
     "end_time": "2023-08-15T03:59:11.648556600Z",
     "start_time": "2023-08-15T03:59:11.613818400Z"
    }
   },
   "id": "71cfd8196aa2f953"
  },
  {
   "cell_type": "code",
   "execution_count": 17,
   "outputs": [
    {
     "name": "stdout",
     "output_type": "stream",
     "text": [
      "temperature 0.5542218543046358\n",
      "has_children 0.581953642384106\n",
      "toCoupon_GEQ5min 0.581953642384106\n",
      "toCoupon_GEQ15min 0.581953642384106\n",
      "toCoupon_GEQ25min 0.5885761589403974\n",
      "direction_same 0.581953642384106\n",
      "direction_opp 0.5422185430463576\n",
      "destination_Home 0.581953642384106\n",
      "destination_No Urgent Place 0.581953642384106\n",
      "destination_Work 0.581953642384106\n",
      "passanger_Alone 0.581953642384106\n",
      "passanger_Friend(s) 0.581953642384106\n",
      "passanger_Kid(s) 0.5753311258278145\n",
      "passanger_Partner 0.581953642384106\n",
      "weather_Rainy 0.5935430463576159\n",
      "weather_Snowy 0.581953642384106\n",
      "weather_Sunny 0.5927152317880795\n",
      "time_10AM 0.581953642384106\n",
      "time_10PM 0.581953642384106\n",
      "time_2PM 0.581953642384106\n",
      "time_6PM 0.581953642384106\n",
      "time_7AM 0.581953642384106\n",
      "coupon_Bar 0.6026490066225165\n",
      "coupon_Carry out & Take away 0.581953642384106\n",
      "coupon_Coffee House 0.581953642384106\n",
      "coupon_Restaurant(20-50) 0.5968543046357616\n",
      "coupon_Restaurant(<20) 0.581953642384106\n",
      "expiration_1d 0.581953642384106\n",
      "expiration_2h 0.4503311258278146\n",
      "gender_Female 0.581953642384106\n",
      "gender_Male 0.581953642384106\n",
      "age_21 0.581953642384106\n",
      "age_26 0.581953642384106\n",
      "age_31 0.5567052980132451\n",
      "age_36 0.581953642384106\n",
      "age_41 0.581953642384106\n",
      "age_46 0.581953642384106\n",
      "age_50plus 0.581953642384106\n",
      "age_below21 0.581953642384106\n",
      "maritalStatus_Divorced 0.581953642384106\n",
      "maritalStatus_Married partner 0.5368377483443708\n",
      "maritalStatus_Single 0.5169701986754967\n",
      "maritalStatus_Unmarried partner 0.581953642384106\n",
      "maritalStatus_Widowed 0.581953642384106\n",
      "education_Associates degree 0.5678807947019867\n",
      "education_Bachelors degree 0.5343543046357616\n",
      "education_Graduate degree (Masters or Doctorate) 0.581953642384106\n",
      "education_High School Graduate 0.581953642384106\n",
      "education_Some High School 0.581953642384106\n",
      "education_Some college - no degree 0.581953642384106\n",
      "occupation_Architecture & Engineering 0.581953642384106\n",
      "occupation_Arts Design Entertainment Sports & Media 0.5740894039735099\n",
      "occupation_Building & Grounds Cleaning & Maintenance 0.581953642384106\n",
      "occupation_Business & Financial 0.581953642384106\n",
      "occupation_Community & Social Services 0.5815397350993378\n",
      "occupation_Computer & Mathematical 0.581953642384106\n",
      "occupation_Construction & Extraction 0.581953642384106\n",
      "occupation_Education&Training&Library 0.5778145695364238\n",
      "occupation_Farming Fishing & Forestry 0.5802980132450332\n",
      "occupation_Food Preparation & Serving Related 0.581953642384106\n",
      "occupation_Healthcare Practitioners & Technical 0.581953642384106\n",
      "occupation_Healthcare Support 0.5740894039735099\n",
      "occupation_Installation Maintenance & Repair 0.581953642384106\n",
      "occupation_Legal 0.5844370860927153\n",
      "occupation_Life Physical Social Science 0.578228476821192\n",
      "occupation_Management 0.5641556291390728\n",
      "occupation_Office & Administrative Support 0.5711920529801324\n",
      "occupation_Personal Care & Service 0.581953642384106\n",
      "occupation_Production Occupations 0.581953642384106\n",
      "occupation_Protective Service 0.581953642384106\n",
      "occupation_Retired 0.5881622516556292\n",
      "occupation_Sales & Related 0.5695364238410596\n",
      "occupation_Student 0.581953642384106\n",
      "occupation_Transportation & Material Moving 0.581953642384106\n",
      "occupation_Unemployed 0.581953642384106\n",
      "income_$100000 or More 0.581953642384106\n",
      "income_$12500 - $24999 0.581953642384106\n",
      "income_$25000 - $37499 0.5434602649006622\n",
      "income_$37500 - $49999 0.570364238410596\n",
      "income_$50000 - $62499 0.5513245033112583\n",
      "income_$62500 - $74999 0.581953642384106\n",
      "income_$75000 - $87499 0.5852649006622517\n",
      "income_$87500 - $99999 0.581953642384106\n",
      "income_Less than $12500 0.581953642384106\n",
      "Bar_1~3 0.581953642384106\n",
      "Bar_4~8 0.581953642384106\n",
      "Bar_gt8 0.5798841059602649\n",
      "Bar_less1 0.5442880794701986\n",
      "Bar_never 0.581953642384106\n",
      "CoffeeHouse_1~3 0.581953642384106\n",
      "CoffeeHouse_4~8 0.581953642384106\n",
      "CoffeeHouse_gt8 0.581953642384106\n",
      "CoffeeHouse_less1 0.581953642384106\n",
      "CoffeeHouse_never 0.581953642384106\n",
      "CarryAway_1~3 0.5107615894039735\n",
      "CarryAway_4~8 0.4855132450331126\n",
      "CarryAway_gt8 0.5558774834437086\n",
      "CarryAway_less1 0.5844370860927153\n",
      "CarryAway_never 0.581953642384106\n",
      "RestaurantLessThan20_1~3 0.5206953642384106\n",
      "RestaurantLessThan20_4~8 0.581953642384106\n",
      "RestaurantLessThan20_gt8 0.581953642384106\n",
      "RestaurantLessThan20_less1 0.581953642384106\n",
      "RestaurantLessThan20_never 0.5757450331125827\n",
      "Restaurant20To50_1~3 0.581953642384106\n",
      "Restaurant20To50_4~8 0.581953642384106\n",
      "Restaurant20To50_gt8 0.581953642384106\n",
      "Restaurant20To50_less1 0.5062086092715232\n",
      "Restaurant20To50_never 0.581953642384106\n"
     ]
    }
   ],
   "source": [
    "# Test each column\n",
    "# for column in X_train.columns:\n",
    "#     print(column, test_column(column))"
   ],
   "metadata": {
    "collapsed": false,
    "ExecuteTime": {
     "end_time": "2023-08-15T03:59:37.360111800Z",
     "start_time": "2023-08-15T03:59:11.628867900Z"
    }
   },
   "id": "fab92bf18a464abd"
  },
  {
   "cell_type": "code",
   "execution_count": 18,
   "outputs": [],
   "source": [
    "# Test columns in pairs\n",
    "# for col1 in X_train.columns:\n",
    "#     for col2 in X_train.columns:\n",
    "#         if col1 < col2:\n",
    "#             print(col1, col2, test_columns([col1, col2]))"
   ],
   "metadata": {
    "collapsed": false,
    "ExecuteTime": {
     "end_time": "2023-08-15T03:59:37.386056100Z",
     "start_time": "2023-08-15T03:59:37.363633800Z"
    }
   },
   "id": "a1b2ffe435ecdb2b"
  },
  {
   "cell_type": "code",
   "execution_count": 19,
   "outputs": [
    {
     "data": {
      "text/plain": "0.6626655629139073"
     },
     "execution_count": 19,
     "metadata": {},
     "output_type": "execute_result"
    }
   ],
   "source": [
    "# Accuracy of all columns\n",
    "test_all()"
   ],
   "metadata": {
    "collapsed": false,
    "ExecuteTime": {
     "end_time": "2023-08-15T03:59:38.105242600Z",
     "start_time": "2023-08-15T03:59:37.379675700Z"
    }
   },
   "id": "27a3ed8187cf59cd"
  },
  {
   "cell_type": "markdown",
   "source": [],
   "metadata": {
    "collapsed": false
   },
   "id": "b40a120da87ece15"
  },
  {
   "cell_type": "markdown",
   "source": [],
   "metadata": {
    "collapsed": false
   },
   "id": "475f50b984411f77"
  }
 ],
 "metadata": {
  "kernelspec": {
   "display_name": "Python 3",
   "language": "python",
   "name": "python3"
  },
  "language_info": {
   "codemirror_mode": {
    "name": "ipython",
    "version": 2
   },
   "file_extension": ".py",
   "mimetype": "text/x-python",
   "name": "python",
   "nbconvert_exporter": "python",
   "pygments_lexer": "ipython2",
   "version": "2.7.6"
  }
 },
 "nbformat": 4,
 "nbformat_minor": 5
}
