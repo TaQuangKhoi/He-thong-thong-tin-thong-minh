{
 "cells": [
  {
   "cell_type": "markdown",
   "source": [
    "# Import libraries"
   ],
   "metadata": {
    "collapsed": false
   },
   "id": "a8808563da9f00fd"
  },
  {
   "cell_type": "code",
   "execution_count": 1,
   "outputs": [],
   "source": [
    "import pandas as pd\n",
    "import numpy as np"
   ],
   "metadata": {
    "collapsed": false,
    "ExecuteTime": {
     "end_time": "2023-08-15T01:32:28.170406100Z",
     "start_time": "2023-08-15T01:32:26.911192800Z"
    }
   },
   "id": "bc363b24f749e984"
  },
  {
   "cell_type": "markdown",
   "source": [
    "# Load data"
   ],
   "metadata": {
    "collapsed": false
   },
   "id": "c0e98eb84b60f3b6"
  },
  {
   "cell_type": "code",
   "execution_count": 2,
   "outputs": [
    {
     "data": {
      "text/plain": "       destination  passanger weather  temperature  time  \\\n0  No Urgent Place      Alone   Sunny           55   2PM   \n1  No Urgent Place  Friend(s)   Sunny           80  10AM   \n2  No Urgent Place  Friend(s)   Sunny           80  10AM   \n3  No Urgent Place  Friend(s)   Sunny           80   2PM   \n4  No Urgent Place  Friend(s)   Sunny           80   2PM   \n\n                  coupon expiration  gender age      maritalStatus  ...  \\\n0        Restaurant(<20)         1d  Female  21  Unmarried partner  ...   \n1           Coffee House         2h  Female  21  Unmarried partner  ...   \n2  Carry out & Take away         2h  Female  21  Unmarried partner  ...   \n3           Coffee House         2h  Female  21  Unmarried partner  ...   \n4           Coffee House         1d  Female  21  Unmarried partner  ...   \n\n   CoffeeHouse CarryAway RestaurantLessThan20 Restaurant20To50  \\\n0        never       NaN                  4~8              1~3   \n1        never       NaN                  4~8              1~3   \n2        never       NaN                  4~8              1~3   \n3        never       NaN                  4~8              1~3   \n4        never       NaN                  4~8              1~3   \n\n  toCoupon_GEQ5min toCoupon_GEQ15min toCoupon_GEQ25min direction_same  \\\n0                1                 0                 0              0   \n1                1                 0                 0              0   \n2                1                 1                 0              0   \n3                1                 1                 0              0   \n4                1                 1                 0              0   \n\n  direction_opp  Y  \n0             1  1  \n1             1  0  \n2             1  1  \n3             1  0  \n4             1  0  \n\n[5 rows x 26 columns]",
      "text/html": "<div>\n<style scoped>\n    .dataframe tbody tr th:only-of-type {\n        vertical-align: middle;\n    }\n\n    .dataframe tbody tr th {\n        vertical-align: top;\n    }\n\n    .dataframe thead th {\n        text-align: right;\n    }\n</style>\n<table border=\"1\" class=\"dataframe\">\n  <thead>\n    <tr style=\"text-align: right;\">\n      <th></th>\n      <th>destination</th>\n      <th>passanger</th>\n      <th>weather</th>\n      <th>temperature</th>\n      <th>time</th>\n      <th>coupon</th>\n      <th>expiration</th>\n      <th>gender</th>\n      <th>age</th>\n      <th>maritalStatus</th>\n      <th>...</th>\n      <th>CoffeeHouse</th>\n      <th>CarryAway</th>\n      <th>RestaurantLessThan20</th>\n      <th>Restaurant20To50</th>\n      <th>toCoupon_GEQ5min</th>\n      <th>toCoupon_GEQ15min</th>\n      <th>toCoupon_GEQ25min</th>\n      <th>direction_same</th>\n      <th>direction_opp</th>\n      <th>Y</th>\n    </tr>\n  </thead>\n  <tbody>\n    <tr>\n      <th>0</th>\n      <td>No Urgent Place</td>\n      <td>Alone</td>\n      <td>Sunny</td>\n      <td>55</td>\n      <td>2PM</td>\n      <td>Restaurant(&lt;20)</td>\n      <td>1d</td>\n      <td>Female</td>\n      <td>21</td>\n      <td>Unmarried partner</td>\n      <td>...</td>\n      <td>never</td>\n      <td>NaN</td>\n      <td>4~8</td>\n      <td>1~3</td>\n      <td>1</td>\n      <td>0</td>\n      <td>0</td>\n      <td>0</td>\n      <td>1</td>\n      <td>1</td>\n    </tr>\n    <tr>\n      <th>1</th>\n      <td>No Urgent Place</td>\n      <td>Friend(s)</td>\n      <td>Sunny</td>\n      <td>80</td>\n      <td>10AM</td>\n      <td>Coffee House</td>\n      <td>2h</td>\n      <td>Female</td>\n      <td>21</td>\n      <td>Unmarried partner</td>\n      <td>...</td>\n      <td>never</td>\n      <td>NaN</td>\n      <td>4~8</td>\n      <td>1~3</td>\n      <td>1</td>\n      <td>0</td>\n      <td>0</td>\n      <td>0</td>\n      <td>1</td>\n      <td>0</td>\n    </tr>\n    <tr>\n      <th>2</th>\n      <td>No Urgent Place</td>\n      <td>Friend(s)</td>\n      <td>Sunny</td>\n      <td>80</td>\n      <td>10AM</td>\n      <td>Carry out &amp; Take away</td>\n      <td>2h</td>\n      <td>Female</td>\n      <td>21</td>\n      <td>Unmarried partner</td>\n      <td>...</td>\n      <td>never</td>\n      <td>NaN</td>\n      <td>4~8</td>\n      <td>1~3</td>\n      <td>1</td>\n      <td>1</td>\n      <td>0</td>\n      <td>0</td>\n      <td>1</td>\n      <td>1</td>\n    </tr>\n    <tr>\n      <th>3</th>\n      <td>No Urgent Place</td>\n      <td>Friend(s)</td>\n      <td>Sunny</td>\n      <td>80</td>\n      <td>2PM</td>\n      <td>Coffee House</td>\n      <td>2h</td>\n      <td>Female</td>\n      <td>21</td>\n      <td>Unmarried partner</td>\n      <td>...</td>\n      <td>never</td>\n      <td>NaN</td>\n      <td>4~8</td>\n      <td>1~3</td>\n      <td>1</td>\n      <td>1</td>\n      <td>0</td>\n      <td>0</td>\n      <td>1</td>\n      <td>0</td>\n    </tr>\n    <tr>\n      <th>4</th>\n      <td>No Urgent Place</td>\n      <td>Friend(s)</td>\n      <td>Sunny</td>\n      <td>80</td>\n      <td>2PM</td>\n      <td>Coffee House</td>\n      <td>1d</td>\n      <td>Female</td>\n      <td>21</td>\n      <td>Unmarried partner</td>\n      <td>...</td>\n      <td>never</td>\n      <td>NaN</td>\n      <td>4~8</td>\n      <td>1~3</td>\n      <td>1</td>\n      <td>1</td>\n      <td>0</td>\n      <td>0</td>\n      <td>1</td>\n      <td>0</td>\n    </tr>\n  </tbody>\n</table>\n<p>5 rows × 26 columns</p>\n</div>"
     },
     "execution_count": 2,
     "metadata": {},
     "output_type": "execute_result"
    }
   ],
   "source": [
    "df = pd.read_csv('in-vehicle-coupon-recommendation.csv')\n",
    "df.head()"
   ],
   "metadata": {
    "collapsed": false,
    "ExecuteTime": {
     "end_time": "2023-08-15T01:32:28.276676Z",
     "start_time": "2023-08-15T01:32:28.170406100Z"
    }
   },
   "id": "e1f66a53aec549b"
  },
  {
   "cell_type": "markdown",
   "source": [
    "# Build a K-Nearest Neighbors model"
   ],
   "metadata": {
    "collapsed": false
   },
   "id": "42f3e9b321d87522"
  },
  {
   "cell_type": "code",
   "execution_count": 3,
   "outputs": [],
   "source": [
    "from sklearn.neighbors import KNeighborsClassifier\n",
    "from sklearn.model_selection import train_test_split\n",
    "from sklearn.metrics import accuracy_score"
   ],
   "metadata": {
    "collapsed": false,
    "ExecuteTime": {
     "end_time": "2023-08-15T01:32:30.226263700Z",
     "start_time": "2023-08-15T01:32:28.277674900Z"
    }
   },
   "id": "f2108f77f66cb892"
  },
  {
   "cell_type": "markdown",
   "source": [
    "## Preprocessing"
   ],
   "metadata": {
    "collapsed": false
   },
   "id": "de564afea2e3c2"
  },
  {
   "cell_type": "code",
   "execution_count": 4,
   "outputs": [],
   "source": [
    "df = df.drop(['car'], axis=1)"
   ],
   "metadata": {
    "collapsed": false,
    "ExecuteTime": {
     "end_time": "2023-08-15T01:32:30.241289700Z",
     "start_time": "2023-08-15T01:32:30.227804200Z"
    }
   },
   "id": "d8e8c68b2c71d82"
  },
  {
   "cell_type": "code",
   "execution_count": 5,
   "outputs": [],
   "source": [
    "df = df.dropna()"
   ],
   "metadata": {
    "collapsed": false,
    "ExecuteTime": {
     "end_time": "2023-08-15T01:32:30.286145Z",
     "start_time": "2023-08-15T01:32:30.244312100Z"
    }
   },
   "id": "2a411e7b776debfb"
  },
  {
   "cell_type": "code",
   "execution_count": 6,
   "outputs": [
    {
     "data": {
      "text/plain": "    temperature  has_children  toCoupon_GEQ5min  toCoupon_GEQ15min  \\\n22           55             0                 1                  0   \n23           80             0                 1                  0   \n24           80             0                 1                  0   \n25           80             0                 1                  1   \n26           80             0                 1                  0   \n\n    toCoupon_GEQ25min  direction_same  direction_opp  Y  destination_Home  \\\n22                  0               0              1  1                 0   \n23                  0               0              1  0                 0   \n24                  0               0              1  1                 0   \n25                  0               0              1  0                 0   \n26                  0               0              1  0                 0   \n\n    destination_No Urgent Place  ...  RestaurantLessThan20_1~3  \\\n22                            1  ...                         0   \n23                            1  ...                         0   \n24                            1  ...                         0   \n25                            1  ...                         0   \n26                            1  ...                         0   \n\n    RestaurantLessThan20_4~8  RestaurantLessThan20_gt8  \\\n22                         1                         0   \n23                         1                         0   \n24                         1                         0   \n25                         1                         0   \n26                         1                         0   \n\n    RestaurantLessThan20_less1  RestaurantLessThan20_never  \\\n22                           0                           0   \n23                           0                           0   \n24                           0                           0   \n25                           0                           0   \n26                           0                           0   \n\n    Restaurant20To50_1~3  Restaurant20To50_4~8  Restaurant20To50_gt8  \\\n22                     0                     0                     0   \n23                     0                     0                     0   \n24                     0                     0                     0   \n25                     0                     0                     0   \n26                     0                     0                     0   \n\n    Restaurant20To50_less1  Restaurant20To50_never  \n22                       1                       0  \n23                       1                       0  \n24                       1                       0  \n25                       1                       0  \n26                       1                       0  \n\n[5 rows x 110 columns]",
      "text/html": "<div>\n<style scoped>\n    .dataframe tbody tr th:only-of-type {\n        vertical-align: middle;\n    }\n\n    .dataframe tbody tr th {\n        vertical-align: top;\n    }\n\n    .dataframe thead th {\n        text-align: right;\n    }\n</style>\n<table border=\"1\" class=\"dataframe\">\n  <thead>\n    <tr style=\"text-align: right;\">\n      <th></th>\n      <th>temperature</th>\n      <th>has_children</th>\n      <th>toCoupon_GEQ5min</th>\n      <th>toCoupon_GEQ15min</th>\n      <th>toCoupon_GEQ25min</th>\n      <th>direction_same</th>\n      <th>direction_opp</th>\n      <th>Y</th>\n      <th>destination_Home</th>\n      <th>destination_No Urgent Place</th>\n      <th>...</th>\n      <th>RestaurantLessThan20_1~3</th>\n      <th>RestaurantLessThan20_4~8</th>\n      <th>RestaurantLessThan20_gt8</th>\n      <th>RestaurantLessThan20_less1</th>\n      <th>RestaurantLessThan20_never</th>\n      <th>Restaurant20To50_1~3</th>\n      <th>Restaurant20To50_4~8</th>\n      <th>Restaurant20To50_gt8</th>\n      <th>Restaurant20To50_less1</th>\n      <th>Restaurant20To50_never</th>\n    </tr>\n  </thead>\n  <tbody>\n    <tr>\n      <th>22</th>\n      <td>55</td>\n      <td>0</td>\n      <td>1</td>\n      <td>0</td>\n      <td>0</td>\n      <td>0</td>\n      <td>1</td>\n      <td>1</td>\n      <td>0</td>\n      <td>1</td>\n      <td>...</td>\n      <td>0</td>\n      <td>1</td>\n      <td>0</td>\n      <td>0</td>\n      <td>0</td>\n      <td>0</td>\n      <td>0</td>\n      <td>0</td>\n      <td>1</td>\n      <td>0</td>\n    </tr>\n    <tr>\n      <th>23</th>\n      <td>80</td>\n      <td>0</td>\n      <td>1</td>\n      <td>0</td>\n      <td>0</td>\n      <td>0</td>\n      <td>1</td>\n      <td>0</td>\n      <td>0</td>\n      <td>1</td>\n      <td>...</td>\n      <td>0</td>\n      <td>1</td>\n      <td>0</td>\n      <td>0</td>\n      <td>0</td>\n      <td>0</td>\n      <td>0</td>\n      <td>0</td>\n      <td>1</td>\n      <td>0</td>\n    </tr>\n    <tr>\n      <th>24</th>\n      <td>80</td>\n      <td>0</td>\n      <td>1</td>\n      <td>0</td>\n      <td>0</td>\n      <td>0</td>\n      <td>1</td>\n      <td>1</td>\n      <td>0</td>\n      <td>1</td>\n      <td>...</td>\n      <td>0</td>\n      <td>1</td>\n      <td>0</td>\n      <td>0</td>\n      <td>0</td>\n      <td>0</td>\n      <td>0</td>\n      <td>0</td>\n      <td>1</td>\n      <td>0</td>\n    </tr>\n    <tr>\n      <th>25</th>\n      <td>80</td>\n      <td>0</td>\n      <td>1</td>\n      <td>1</td>\n      <td>0</td>\n      <td>0</td>\n      <td>1</td>\n      <td>0</td>\n      <td>0</td>\n      <td>1</td>\n      <td>...</td>\n      <td>0</td>\n      <td>1</td>\n      <td>0</td>\n      <td>0</td>\n      <td>0</td>\n      <td>0</td>\n      <td>0</td>\n      <td>0</td>\n      <td>1</td>\n      <td>0</td>\n    </tr>\n    <tr>\n      <th>26</th>\n      <td>80</td>\n      <td>0</td>\n      <td>1</td>\n      <td>0</td>\n      <td>0</td>\n      <td>0</td>\n      <td>1</td>\n      <td>0</td>\n      <td>0</td>\n      <td>1</td>\n      <td>...</td>\n      <td>0</td>\n      <td>1</td>\n      <td>0</td>\n      <td>0</td>\n      <td>0</td>\n      <td>0</td>\n      <td>0</td>\n      <td>0</td>\n      <td>1</td>\n      <td>0</td>\n    </tr>\n  </tbody>\n</table>\n<p>5 rows × 110 columns</p>\n</div>"
     },
     "execution_count": 6,
     "metadata": {},
     "output_type": "execute_result"
    }
   ],
   "source": [
    "df = pd.get_dummies(df)\n",
    "df.head()"
   ],
   "metadata": {
    "collapsed": false,
    "ExecuteTime": {
     "end_time": "2023-08-15T01:32:30.350587300Z",
     "start_time": "2023-08-15T01:32:30.289478900Z"
    }
   },
   "id": "2363b3a4ad8e555a"
  },
  {
   "cell_type": "code",
   "execution_count": 7,
   "outputs": [],
   "source": [
    "X = df.drop(['Y'], axis=1)"
   ],
   "metadata": {
    "collapsed": false,
    "ExecuteTime": {
     "end_time": "2023-08-15T01:32:30.371446700Z",
     "start_time": "2023-08-15T01:32:30.353832700Z"
    }
   },
   "id": "3bce628c41efc71d"
  },
  {
   "cell_type": "code",
   "execution_count": 8,
   "outputs": [],
   "source": [
    "y = df['Y'] "
   ],
   "metadata": {
    "collapsed": false,
    "ExecuteTime": {
     "end_time": "2023-08-15T01:32:30.416091700Z",
     "start_time": "2023-08-15T01:32:30.368643500Z"
    }
   },
   "id": "7722d781fb29661c"
  },
  {
   "cell_type": "code",
   "execution_count": 9,
   "outputs": [],
   "source": [
    "X_train, X_test, y_train, y_test = train_test_split(X, y, test_size=0.2, random_state=123)"
   ],
   "metadata": {
    "collapsed": false,
    "ExecuteTime": {
     "end_time": "2023-08-15T01:32:30.497857900Z",
     "start_time": "2023-08-15T01:32:30.384898500Z"
    }
   },
   "id": "bdce50305963c4c9"
  },
  {
   "cell_type": "code",
   "execution_count": 10,
   "outputs": [],
   "source": [
    "# Function to test each column\n",
    "def test_column(col):\n",
    "    model = KNeighborsClassifier(n_neighbors = 10, p = 2)\n",
    "    model.fit(X_train[col].to_frame(), y_train)\n",
    "    y_pred = model.predict(X_test[col].to_frame())\n",
    "    return accuracy_score(y_test, y_pred)"
   ],
   "metadata": {
    "collapsed": false,
    "ExecuteTime": {
     "end_time": "2023-08-15T01:32:30.527682100Z",
     "start_time": "2023-08-15T01:32:30.408410500Z"
    }
   },
   "id": "88d4a9f07aa28152"
  },
  {
   "cell_type": "code",
   "execution_count": 11,
   "outputs": [],
   "source": [
    "def test_columns(cols):\n",
    "    model = KNeighborsClassifier(n_neighbors = 10, p = 2)\n",
    "    model.fit(X_train[cols], y_train)\n",
    "    y_pred = model.predict(X_test[cols])\n",
    "    return accuracy_score(y_test, y_pred)"
   ],
   "metadata": {
    "collapsed": false,
    "ExecuteTime": {
     "end_time": "2023-08-15T01:32:30.527682100Z",
     "start_time": "2023-08-15T01:32:30.424631800Z"
    }
   },
   "id": "d89da2ef19215f7c"
  },
  {
   "cell_type": "code",
   "execution_count": 12,
   "outputs": [],
   "source": [
    "def test_all():\n",
    "    model = KNeighborsClassifier(n_neighbors = 10, p = 2)\n",
    "    model.fit(X_train, y_train)\n",
    "    y_pred = model.predict(X_test)\n",
    "    return accuracy_score(y_test, y_pred)"
   ],
   "metadata": {
    "collapsed": false,
    "ExecuteTime": {
     "end_time": "2023-08-15T01:32:30.527682100Z",
     "start_time": "2023-08-15T01:32:30.440011400Z"
    }
   },
   "id": "71cfd8196aa2f953"
  },
  {
   "cell_type": "code",
   "execution_count": 13,
   "outputs": [
    {
     "name": "stdout",
     "output_type": "stream",
     "text": [
      "temperature 0.5542218543046358\n",
      "has_children 0.581953642384106\n",
      "toCoupon_GEQ5min 0.581953642384106\n",
      "toCoupon_GEQ15min 0.581953642384106\n",
      "toCoupon_GEQ25min 0.5885761589403974\n",
      "direction_same 0.581953642384106\n",
      "direction_opp 0.5422185430463576\n",
      "destination_Home 0.581953642384106\n",
      "destination_No Urgent Place 0.581953642384106\n",
      "destination_Work 0.581953642384106\n",
      "passanger_Alone 0.581953642384106\n",
      "passanger_Friend(s) 0.581953642384106\n",
      "passanger_Kid(s) 0.5753311258278145\n",
      "passanger_Partner 0.581953642384106\n",
      "weather_Rainy 0.5935430463576159\n",
      "weather_Snowy 0.581953642384106\n",
      "weather_Sunny 0.5927152317880795\n",
      "time_10AM 0.581953642384106\n",
      "time_10PM 0.581953642384106\n",
      "time_2PM 0.581953642384106\n",
      "time_6PM 0.581953642384106\n",
      "time_7AM 0.581953642384106\n",
      "coupon_Bar 0.6026490066225165\n",
      "coupon_Carry out & Take away 0.581953642384106\n",
      "coupon_Coffee House 0.581953642384106\n",
      "coupon_Restaurant(20-50) 0.5968543046357616\n",
      "coupon_Restaurant(<20) 0.581953642384106\n",
      "expiration_1d 0.581953642384106\n",
      "expiration_2h 0.4503311258278146\n",
      "gender_Female 0.581953642384106\n",
      "gender_Male 0.581953642384106\n",
      "age_21 0.581953642384106\n",
      "age_26 0.581953642384106\n",
      "age_31 0.5567052980132451\n",
      "age_36 0.581953642384106\n",
      "age_41 0.581953642384106\n",
      "age_46 0.581953642384106\n",
      "age_50plus 0.581953642384106\n",
      "age_below21 0.581953642384106\n",
      "maritalStatus_Divorced 0.581953642384106\n",
      "maritalStatus_Married partner 0.5368377483443708\n",
      "maritalStatus_Single 0.5169701986754967\n",
      "maritalStatus_Unmarried partner 0.581953642384106\n",
      "maritalStatus_Widowed 0.581953642384106\n",
      "education_Associates degree 0.5678807947019867\n",
      "education_Bachelors degree 0.5343543046357616\n",
      "education_Graduate degree (Masters or Doctorate) 0.581953642384106\n",
      "education_High School Graduate 0.581953642384106\n",
      "education_Some High School 0.581953642384106\n",
      "education_Some college - no degree 0.581953642384106\n",
      "occupation_Architecture & Engineering 0.581953642384106\n",
      "occupation_Arts Design Entertainment Sports & Media 0.5740894039735099\n",
      "occupation_Building & Grounds Cleaning & Maintenance 0.581953642384106\n",
      "occupation_Business & Financial 0.581953642384106\n",
      "occupation_Community & Social Services 0.5815397350993378\n",
      "occupation_Computer & Mathematical 0.581953642384106\n",
      "occupation_Construction & Extraction 0.581953642384106\n",
      "occupation_Education&Training&Library 0.5778145695364238\n",
      "occupation_Farming Fishing & Forestry 0.5802980132450332\n",
      "occupation_Food Preparation & Serving Related 0.581953642384106\n",
      "occupation_Healthcare Practitioners & Technical 0.581953642384106\n",
      "occupation_Healthcare Support 0.5740894039735099\n",
      "occupation_Installation Maintenance & Repair 0.581953642384106\n",
      "occupation_Legal 0.5844370860927153\n",
      "occupation_Life Physical Social Science 0.578228476821192\n",
      "occupation_Management 0.5641556291390728\n",
      "occupation_Office & Administrative Support 0.5711920529801324\n",
      "occupation_Personal Care & Service 0.581953642384106\n",
      "occupation_Production Occupations 0.581953642384106\n",
      "occupation_Protective Service 0.581953642384106\n",
      "occupation_Retired 0.5881622516556292\n",
      "occupation_Sales & Related 0.5695364238410596\n",
      "occupation_Student 0.581953642384106\n",
      "occupation_Transportation & Material Moving 0.581953642384106\n",
      "occupation_Unemployed 0.581953642384106\n",
      "income_$100000 or More 0.581953642384106\n",
      "income_$12500 - $24999 0.581953642384106\n",
      "income_$25000 - $37499 0.5434602649006622\n",
      "income_$37500 - $49999 0.570364238410596\n",
      "income_$50000 - $62499 0.5513245033112583\n",
      "income_$62500 - $74999 0.581953642384106\n",
      "income_$75000 - $87499 0.5852649006622517\n",
      "income_$87500 - $99999 0.581953642384106\n",
      "income_Less than $12500 0.581953642384106\n",
      "Bar_1~3 0.581953642384106\n",
      "Bar_4~8 0.581953642384106\n",
      "Bar_gt8 0.5798841059602649\n",
      "Bar_less1 0.5442880794701986\n",
      "Bar_never 0.581953642384106\n",
      "CoffeeHouse_1~3 0.581953642384106\n",
      "CoffeeHouse_4~8 0.581953642384106\n",
      "CoffeeHouse_gt8 0.581953642384106\n",
      "CoffeeHouse_less1 0.581953642384106\n",
      "CoffeeHouse_never 0.581953642384106\n",
      "CarryAway_1~3 0.5107615894039735\n",
      "CarryAway_4~8 0.4855132450331126\n",
      "CarryAway_gt8 0.5558774834437086\n",
      "CarryAway_less1 0.5844370860927153\n",
      "CarryAway_never 0.581953642384106\n",
      "RestaurantLessThan20_1~3 0.5206953642384106\n",
      "RestaurantLessThan20_4~8 0.581953642384106\n",
      "RestaurantLessThan20_gt8 0.581953642384106\n",
      "RestaurantLessThan20_less1 0.581953642384106\n",
      "RestaurantLessThan20_never 0.5757450331125827\n",
      "Restaurant20To50_1~3 0.581953642384106\n",
      "Restaurant20To50_4~8 0.581953642384106\n",
      "Restaurant20To50_gt8 0.581953642384106\n",
      "Restaurant20To50_less1 0.5062086092715232\n",
      "Restaurant20To50_never 0.581953642384106\n"
     ]
    }
   ],
   "source": [
    "# Test each column\n",
    "for column in X_train.columns:\n",
    "    print(column, test_column(column))"
   ],
   "metadata": {
    "collapsed": false,
    "ExecuteTime": {
     "end_time": "2023-08-15T01:32:52.835655700Z",
     "start_time": "2023-08-15T01:32:30.459010400Z"
    }
   },
   "id": "fab92bf18a464abd"
  },
  {
   "cell_type": "code",
   "execution_count": 14,
   "outputs": [],
   "source": [
    "# Test columns in pairs\n",
    "# for col1 in X_train.columns:\n",
    "#     for col2 in X_train.columns:\n",
    "#         if col1 < col2:\n",
    "#             print(col1, col2, test_columns([col1, col2]))"
   ],
   "metadata": {
    "collapsed": false,
    "ExecuteTime": {
     "end_time": "2023-08-15T01:32:52.869771700Z",
     "start_time": "2023-08-15T01:32:52.838088Z"
    }
   },
   "id": "a1b2ffe435ecdb2b"
  },
  {
   "cell_type": "code",
   "execution_count": 15,
   "outputs": [
    {
     "data": {
      "text/plain": "0.6626655629139073"
     },
     "execution_count": 15,
     "metadata": {},
     "output_type": "execute_result"
    }
   ],
   "source": [
    "# Accuracy of all columns\n",
    "test_all()"
   ],
   "metadata": {
    "collapsed": false,
    "ExecuteTime": {
     "end_time": "2023-08-15T01:32:53.541893800Z",
     "start_time": "2023-08-15T01:32:52.852319Z"
    }
   },
   "id": "27a3ed8187cf59cd"
  },
  {
   "cell_type": "markdown",
   "source": [],
   "metadata": {
    "collapsed": false
   },
   "id": "b40a120da87ece15"
  },
  {
   "cell_type": "markdown",
   "source": [],
   "metadata": {
    "collapsed": false
   },
   "id": "475f50b984411f77"
  }
 ],
 "metadata": {
  "kernelspec": {
   "display_name": "Python 3",
   "language": "python",
   "name": "python3"
  },
  "language_info": {
   "codemirror_mode": {
    "name": "ipython",
    "version": 2
   },
   "file_extension": ".py",
   "mimetype": "text/x-python",
   "name": "python",
   "nbconvert_exporter": "python",
   "pygments_lexer": "ipython2",
   "version": "2.7.6"
  }
 },
 "nbformat": 4,
 "nbformat_minor": 5
}
