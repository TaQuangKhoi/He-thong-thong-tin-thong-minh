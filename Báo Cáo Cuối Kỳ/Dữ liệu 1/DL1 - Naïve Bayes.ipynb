{
 "cells": [
  {
   "cell_type": "markdown",
   "source": [
    "# Import libraries"
   ],
   "metadata": {
    "collapsed": false
   },
   "id": "de28dd54d12d38fe"
  },
  {
   "cell_type": "code",
   "execution_count": 1,
   "outputs": [],
   "source": [
    "import pandas as pd\n",
    "import numpy as np"
   ],
   "metadata": {
    "collapsed": false,
    "ExecuteTime": {
     "end_time": "2023-08-15T13:21:31.554178Z",
     "start_time": "2023-08-15T13:21:30.293100200Z"
    }
   },
   "id": "a51f62e8736e6c57"
  },
  {
   "cell_type": "markdown",
   "source": [
    "# Load data"
   ],
   "metadata": {
    "collapsed": false
   },
   "id": "5c5f542b331ab993"
  },
  {
   "cell_type": "code",
   "execution_count": 2,
   "outputs": [
    {
     "data": {
      "text/plain": "       destination  passanger weather  temperature  time  \\\n0  No Urgent Place      Alone   Sunny           55   2PM   \n1  No Urgent Place  Friend(s)   Sunny           80  10AM   \n2  No Urgent Place  Friend(s)   Sunny           80  10AM   \n3  No Urgent Place  Friend(s)   Sunny           80   2PM   \n4  No Urgent Place  Friend(s)   Sunny           80   2PM   \n\n                  coupon expiration  gender age      maritalStatus  ...  \\\n0        Restaurant(<20)         1d  Female  21  Unmarried partner  ...   \n1           Coffee House         2h  Female  21  Unmarried partner  ...   \n2  Carry out & Take away         2h  Female  21  Unmarried partner  ...   \n3           Coffee House         2h  Female  21  Unmarried partner  ...   \n4           Coffee House         1d  Female  21  Unmarried partner  ...   \n\n   CoffeeHouse CarryAway RestaurantLessThan20 Restaurant20To50  \\\n0        never       NaN                  4~8              1~3   \n1        never       NaN                  4~8              1~3   \n2        never       NaN                  4~8              1~3   \n3        never       NaN                  4~8              1~3   \n4        never       NaN                  4~8              1~3   \n\n  toCoupon_GEQ5min toCoupon_GEQ15min toCoupon_GEQ25min direction_same  \\\n0                1                 0                 0              0   \n1                1                 0                 0              0   \n2                1                 1                 0              0   \n3                1                 1                 0              0   \n4                1                 1                 0              0   \n\n  direction_opp  Y  \n0             1  1  \n1             1  0  \n2             1  1  \n3             1  0  \n4             1  0  \n\n[5 rows x 26 columns]",
      "text/html": "<div>\n<style scoped>\n    .dataframe tbody tr th:only-of-type {\n        vertical-align: middle;\n    }\n\n    .dataframe tbody tr th {\n        vertical-align: top;\n    }\n\n    .dataframe thead th {\n        text-align: right;\n    }\n</style>\n<table border=\"1\" class=\"dataframe\">\n  <thead>\n    <tr style=\"text-align: right;\">\n      <th></th>\n      <th>destination</th>\n      <th>passanger</th>\n      <th>weather</th>\n      <th>temperature</th>\n      <th>time</th>\n      <th>coupon</th>\n      <th>expiration</th>\n      <th>gender</th>\n      <th>age</th>\n      <th>maritalStatus</th>\n      <th>...</th>\n      <th>CoffeeHouse</th>\n      <th>CarryAway</th>\n      <th>RestaurantLessThan20</th>\n      <th>Restaurant20To50</th>\n      <th>toCoupon_GEQ5min</th>\n      <th>toCoupon_GEQ15min</th>\n      <th>toCoupon_GEQ25min</th>\n      <th>direction_same</th>\n      <th>direction_opp</th>\n      <th>Y</th>\n    </tr>\n  </thead>\n  <tbody>\n    <tr>\n      <th>0</th>\n      <td>No Urgent Place</td>\n      <td>Alone</td>\n      <td>Sunny</td>\n      <td>55</td>\n      <td>2PM</td>\n      <td>Restaurant(&lt;20)</td>\n      <td>1d</td>\n      <td>Female</td>\n      <td>21</td>\n      <td>Unmarried partner</td>\n      <td>...</td>\n      <td>never</td>\n      <td>NaN</td>\n      <td>4~8</td>\n      <td>1~3</td>\n      <td>1</td>\n      <td>0</td>\n      <td>0</td>\n      <td>0</td>\n      <td>1</td>\n      <td>1</td>\n    </tr>\n    <tr>\n      <th>1</th>\n      <td>No Urgent Place</td>\n      <td>Friend(s)</td>\n      <td>Sunny</td>\n      <td>80</td>\n      <td>10AM</td>\n      <td>Coffee House</td>\n      <td>2h</td>\n      <td>Female</td>\n      <td>21</td>\n      <td>Unmarried partner</td>\n      <td>...</td>\n      <td>never</td>\n      <td>NaN</td>\n      <td>4~8</td>\n      <td>1~3</td>\n      <td>1</td>\n      <td>0</td>\n      <td>0</td>\n      <td>0</td>\n      <td>1</td>\n      <td>0</td>\n    </tr>\n    <tr>\n      <th>2</th>\n      <td>No Urgent Place</td>\n      <td>Friend(s)</td>\n      <td>Sunny</td>\n      <td>80</td>\n      <td>10AM</td>\n      <td>Carry out &amp; Take away</td>\n      <td>2h</td>\n      <td>Female</td>\n      <td>21</td>\n      <td>Unmarried partner</td>\n      <td>...</td>\n      <td>never</td>\n      <td>NaN</td>\n      <td>4~8</td>\n      <td>1~3</td>\n      <td>1</td>\n      <td>1</td>\n      <td>0</td>\n      <td>0</td>\n      <td>1</td>\n      <td>1</td>\n    </tr>\n    <tr>\n      <th>3</th>\n      <td>No Urgent Place</td>\n      <td>Friend(s)</td>\n      <td>Sunny</td>\n      <td>80</td>\n      <td>2PM</td>\n      <td>Coffee House</td>\n      <td>2h</td>\n      <td>Female</td>\n      <td>21</td>\n      <td>Unmarried partner</td>\n      <td>...</td>\n      <td>never</td>\n      <td>NaN</td>\n      <td>4~8</td>\n      <td>1~3</td>\n      <td>1</td>\n      <td>1</td>\n      <td>0</td>\n      <td>0</td>\n      <td>1</td>\n      <td>0</td>\n    </tr>\n    <tr>\n      <th>4</th>\n      <td>No Urgent Place</td>\n      <td>Friend(s)</td>\n      <td>Sunny</td>\n      <td>80</td>\n      <td>2PM</td>\n      <td>Coffee House</td>\n      <td>1d</td>\n      <td>Female</td>\n      <td>21</td>\n      <td>Unmarried partner</td>\n      <td>...</td>\n      <td>never</td>\n      <td>NaN</td>\n      <td>4~8</td>\n      <td>1~3</td>\n      <td>1</td>\n      <td>1</td>\n      <td>0</td>\n      <td>0</td>\n      <td>1</td>\n      <td>0</td>\n    </tr>\n  </tbody>\n</table>\n<p>5 rows × 26 columns</p>\n</div>"
     },
     "execution_count": 2,
     "metadata": {},
     "output_type": "execute_result"
    }
   ],
   "source": [
    "df = pd.read_csv('in-vehicle-coupon-recommendation.csv')\n",
    "df.head()"
   ],
   "metadata": {
    "collapsed": false,
    "ExecuteTime": {
     "end_time": "2023-08-15T13:21:31.703562900Z",
     "start_time": "2023-08-15T13:21:31.554178Z"
    }
   },
   "id": "7ecd2bd06f7f4473"
  },
  {
   "cell_type": "markdown",
   "source": [
    "# Build a Logistic Regression model"
   ],
   "metadata": {
    "collapsed": false
   },
   "id": "308d71eb52937a67"
  },
  {
   "cell_type": "code",
   "execution_count": 3,
   "outputs": [],
   "source": [
    "from sklearn.naive_bayes import GaussianNB\n",
    "from sklearn.model_selection import train_test_split\n",
    "from sklearn.metrics import accuracy_score"
   ],
   "metadata": {
    "collapsed": false,
    "ExecuteTime": {
     "end_time": "2023-08-15T13:21:34.139570100Z",
     "start_time": "2023-08-15T13:21:31.703562900Z"
    }
   },
   "id": "4002c4a0b1f42c3b"
  },
  {
   "cell_type": "markdown",
   "source": [
    "## Preprocessing"
   ],
   "metadata": {
    "collapsed": false
   },
   "id": "dd86161f9f82aedf"
  },
  {
   "cell_type": "code",
   "execution_count": 4,
   "outputs": [],
   "source": [
    "df = df.drop(['car'], axis=1)"
   ],
   "metadata": {
    "collapsed": false,
    "ExecuteTime": {
     "end_time": "2023-08-15T13:21:34.161771Z",
     "start_time": "2023-08-15T13:21:34.145084Z"
    }
   },
   "id": "1aae7388eadd309a"
  },
  {
   "cell_type": "code",
   "execution_count": 5,
   "outputs": [],
   "source": [
    "df = df.dropna()"
   ],
   "metadata": {
    "collapsed": false,
    "ExecuteTime": {
     "end_time": "2023-08-15T13:21:34.229975100Z",
     "start_time": "2023-08-15T13:21:34.161771Z"
    }
   },
   "id": "8f961fbec5719868"
  },
  {
   "cell_type": "code",
   "execution_count": 6,
   "outputs": [
    {
     "data": {
      "text/plain": "    temperature  has_children  toCoupon_GEQ5min  toCoupon_GEQ15min  \\\n22           55             0                 1                  0   \n23           80             0                 1                  0   \n24           80             0                 1                  0   \n25           80             0                 1                  1   \n26           80             0                 1                  0   \n\n    toCoupon_GEQ25min  direction_same  direction_opp  Y  destination_Home  \\\n22                  0               0              1  1                 0   \n23                  0               0              1  0                 0   \n24                  0               0              1  1                 0   \n25                  0               0              1  0                 0   \n26                  0               0              1  0                 0   \n\n    destination_No Urgent Place  ...  RestaurantLessThan20_1~3  \\\n22                            1  ...                         0   \n23                            1  ...                         0   \n24                            1  ...                         0   \n25                            1  ...                         0   \n26                            1  ...                         0   \n\n    RestaurantLessThan20_4~8  RestaurantLessThan20_gt8  \\\n22                         1                         0   \n23                         1                         0   \n24                         1                         0   \n25                         1                         0   \n26                         1                         0   \n\n    RestaurantLessThan20_less1  RestaurantLessThan20_never  \\\n22                           0                           0   \n23                           0                           0   \n24                           0                           0   \n25                           0                           0   \n26                           0                           0   \n\n    Restaurant20To50_1~3  Restaurant20To50_4~8  Restaurant20To50_gt8  \\\n22                     0                     0                     0   \n23                     0                     0                     0   \n24                     0                     0                     0   \n25                     0                     0                     0   \n26                     0                     0                     0   \n\n    Restaurant20To50_less1  Restaurant20To50_never  \n22                       1                       0  \n23                       1                       0  \n24                       1                       0  \n25                       1                       0  \n26                       1                       0  \n\n[5 rows x 110 columns]",
      "text/html": "<div>\n<style scoped>\n    .dataframe tbody tr th:only-of-type {\n        vertical-align: middle;\n    }\n\n    .dataframe tbody tr th {\n        vertical-align: top;\n    }\n\n    .dataframe thead th {\n        text-align: right;\n    }\n</style>\n<table border=\"1\" class=\"dataframe\">\n  <thead>\n    <tr style=\"text-align: right;\">\n      <th></th>\n      <th>temperature</th>\n      <th>has_children</th>\n      <th>toCoupon_GEQ5min</th>\n      <th>toCoupon_GEQ15min</th>\n      <th>toCoupon_GEQ25min</th>\n      <th>direction_same</th>\n      <th>direction_opp</th>\n      <th>Y</th>\n      <th>destination_Home</th>\n      <th>destination_No Urgent Place</th>\n      <th>...</th>\n      <th>RestaurantLessThan20_1~3</th>\n      <th>RestaurantLessThan20_4~8</th>\n      <th>RestaurantLessThan20_gt8</th>\n      <th>RestaurantLessThan20_less1</th>\n      <th>RestaurantLessThan20_never</th>\n      <th>Restaurant20To50_1~3</th>\n      <th>Restaurant20To50_4~8</th>\n      <th>Restaurant20To50_gt8</th>\n      <th>Restaurant20To50_less1</th>\n      <th>Restaurant20To50_never</th>\n    </tr>\n  </thead>\n  <tbody>\n    <tr>\n      <th>22</th>\n      <td>55</td>\n      <td>0</td>\n      <td>1</td>\n      <td>0</td>\n      <td>0</td>\n      <td>0</td>\n      <td>1</td>\n      <td>1</td>\n      <td>0</td>\n      <td>1</td>\n      <td>...</td>\n      <td>0</td>\n      <td>1</td>\n      <td>0</td>\n      <td>0</td>\n      <td>0</td>\n      <td>0</td>\n      <td>0</td>\n      <td>0</td>\n      <td>1</td>\n      <td>0</td>\n    </tr>\n    <tr>\n      <th>23</th>\n      <td>80</td>\n      <td>0</td>\n      <td>1</td>\n      <td>0</td>\n      <td>0</td>\n      <td>0</td>\n      <td>1</td>\n      <td>0</td>\n      <td>0</td>\n      <td>1</td>\n      <td>...</td>\n      <td>0</td>\n      <td>1</td>\n      <td>0</td>\n      <td>0</td>\n      <td>0</td>\n      <td>0</td>\n      <td>0</td>\n      <td>0</td>\n      <td>1</td>\n      <td>0</td>\n    </tr>\n    <tr>\n      <th>24</th>\n      <td>80</td>\n      <td>0</td>\n      <td>1</td>\n      <td>0</td>\n      <td>0</td>\n      <td>0</td>\n      <td>1</td>\n      <td>1</td>\n      <td>0</td>\n      <td>1</td>\n      <td>...</td>\n      <td>0</td>\n      <td>1</td>\n      <td>0</td>\n      <td>0</td>\n      <td>0</td>\n      <td>0</td>\n      <td>0</td>\n      <td>0</td>\n      <td>1</td>\n      <td>0</td>\n    </tr>\n    <tr>\n      <th>25</th>\n      <td>80</td>\n      <td>0</td>\n      <td>1</td>\n      <td>1</td>\n      <td>0</td>\n      <td>0</td>\n      <td>1</td>\n      <td>0</td>\n      <td>0</td>\n      <td>1</td>\n      <td>...</td>\n      <td>0</td>\n      <td>1</td>\n      <td>0</td>\n      <td>0</td>\n      <td>0</td>\n      <td>0</td>\n      <td>0</td>\n      <td>0</td>\n      <td>1</td>\n      <td>0</td>\n    </tr>\n    <tr>\n      <th>26</th>\n      <td>80</td>\n      <td>0</td>\n      <td>1</td>\n      <td>0</td>\n      <td>0</td>\n      <td>0</td>\n      <td>1</td>\n      <td>0</td>\n      <td>0</td>\n      <td>1</td>\n      <td>...</td>\n      <td>0</td>\n      <td>1</td>\n      <td>0</td>\n      <td>0</td>\n      <td>0</td>\n      <td>0</td>\n      <td>0</td>\n      <td>0</td>\n      <td>1</td>\n      <td>0</td>\n    </tr>\n  </tbody>\n</table>\n<p>5 rows × 110 columns</p>\n</div>"
     },
     "execution_count": 6,
     "metadata": {},
     "output_type": "execute_result"
    }
   ],
   "source": [
    "df = pd.get_dummies(df)\n",
    "df.head()"
   ],
   "metadata": {
    "collapsed": false,
    "ExecuteTime": {
     "end_time": "2023-08-15T13:21:34.318913900Z",
     "start_time": "2023-08-15T13:21:34.237976600Z"
    }
   },
   "id": "713e58186805365c"
  },
  {
   "cell_type": "code",
   "execution_count": 7,
   "outputs": [],
   "source": [
    "X = df.drop(['Y'], axis=1)"
   ],
   "metadata": {
    "collapsed": false,
    "ExecuteTime": {
     "end_time": "2023-08-15T13:21:34.351692400Z",
     "start_time": "2023-08-15T13:21:34.318913900Z"
    }
   },
   "id": "3bffeec19b330737"
  },
  {
   "cell_type": "code",
   "execution_count": 8,
   "outputs": [],
   "source": [
    "y = df['Y'] "
   ],
   "metadata": {
    "collapsed": false,
    "ExecuteTime": {
     "end_time": "2023-08-15T13:21:34.460191Z",
     "start_time": "2023-08-15T13:21:34.343576100Z"
    }
   },
   "id": "a0c5001214b8ba2f"
  },
  {
   "cell_type": "code",
   "execution_count": 9,
   "outputs": [],
   "source": [
    "X_train, X_test, y_train, y_test = train_test_split(X, y, test_size=0.2, random_state=123)"
   ],
   "metadata": {
    "collapsed": false,
    "ExecuteTime": {
     "end_time": "2023-08-15T13:21:34.538953500Z",
     "start_time": "2023-08-15T13:21:34.361360Z"
    }
   },
   "id": "1cc118095b522d8e"
  },
  {
   "cell_type": "code",
   "execution_count": 10,
   "outputs": [],
   "source": [
    "# Function to test each column\n",
    "def test_column(col):\n",
    "    model = GaussianNB()\n",
    "    model.fit(X_train[col].to_frame(), y_train)\n",
    "    y_pred = model.predict(X_test[col].to_frame())\n",
    "    return accuracy_score(y_test, y_pred)"
   ],
   "metadata": {
    "collapsed": false,
    "ExecuteTime": {
     "end_time": "2023-08-15T13:21:34.579916Z",
     "start_time": "2023-08-15T13:21:34.386727400Z"
    }
   },
   "id": "26f48fe190da98ed"
  },
  {
   "cell_type": "code",
   "execution_count": 11,
   "outputs": [],
   "source": [
    "def test_columns(cols):\n",
    "    model = GaussianNB()\n",
    "    model.fit(X_train[cols], y_train)\n",
    "    y_pred = model.predict(X_test[cols])\n",
    "    return accuracy_score(y_test, y_pred)"
   ],
   "metadata": {
    "collapsed": false,
    "ExecuteTime": {
     "end_time": "2023-08-15T13:21:34.579916Z",
     "start_time": "2023-08-15T13:21:34.404263700Z"
    }
   },
   "id": "19ef4860bb0569e3"
  },
  {
   "cell_type": "code",
   "execution_count": 12,
   "outputs": [],
   "source": [
    "def test_all():\n",
    "    model = GaussianNB()\n",
    "    model.fit(X_train, y_train)\n",
    "    y_pred = model.predict(X_test)\n",
    "    return accuracy_score(y_test, y_pred)"
   ],
   "metadata": {
    "collapsed": false,
    "ExecuteTime": {
     "end_time": "2023-08-15T13:21:34.579916Z",
     "start_time": "2023-08-15T13:21:34.420377Z"
    }
   },
   "id": "d2483c15f81cdc69"
  },
  {
   "cell_type": "code",
   "execution_count": 13,
   "outputs": [],
   "source": [
    "# Test each column\n",
    "# for column in X_train.columns:\n",
    "#     print(column, test_column(column))"
   ],
   "metadata": {
    "collapsed": false,
    "ExecuteTime": {
     "end_time": "2023-08-15T13:21:34.579916Z",
     "start_time": "2023-08-15T13:21:34.447798700Z"
    }
   },
   "id": "6b981d5af5ec2126"
  },
  {
   "cell_type": "code",
   "execution_count": 14,
   "outputs": [],
   "source": [
    "# Test columns in pairs\n",
    "# for col1 in X_train.columns:\n",
    "#     for col2 in X_train.columns:\n",
    "#         if col1 < col2:\n",
    "#             print(col1, col2, test_columns([col1, col2]))"
   ],
   "metadata": {
    "collapsed": false,
    "ExecuteTime": {
     "end_time": "2023-08-15T13:21:34.584445Z",
     "start_time": "2023-08-15T13:21:34.458175700Z"
    }
   },
   "id": "d2072129a60c7e56"
  },
  {
   "cell_type": "code",
   "execution_count": 15,
   "outputs": [
    {
     "data": {
      "text/plain": "0.6399006622516556"
     },
     "execution_count": 15,
     "metadata": {},
     "output_type": "execute_result"
    }
   ],
   "source": [
    "# Accuracy of all columns\n",
    "test_all()"
   ],
   "metadata": {
    "collapsed": false,
    "ExecuteTime": {
     "end_time": "2023-08-15T13:21:34.590190700Z",
     "start_time": "2023-08-15T13:21:34.473463800Z"
    }
   },
   "id": "f23503fd751f2282"
  },
  {
   "cell_type": "markdown",
   "source": [],
   "metadata": {
    "collapsed": false
   },
   "id": "f32cbde45063636e"
  },
  {
   "cell_type": "markdown",
   "source": [],
   "metadata": {
    "collapsed": false
   },
   "id": "26d3a8ea702ea790"
  }
 ],
 "metadata": {
  "kernelspec": {
   "display_name": "Python 3",
   "language": "python",
   "name": "python3"
  },
  "language_info": {
   "codemirror_mode": {
    "name": "ipython",
    "version": 2
   },
   "file_extension": ".py",
   "mimetype": "text/x-python",
   "name": "python",
   "nbconvert_exporter": "python",
   "pygments_lexer": "ipython2",
   "version": "2.7.6"
  }
 },
 "nbformat": 4,
 "nbformat_minor": 5
}
