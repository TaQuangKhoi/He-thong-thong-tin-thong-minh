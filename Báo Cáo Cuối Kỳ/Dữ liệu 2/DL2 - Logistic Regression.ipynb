{
 "cells": [
  {
   "cell_type": "markdown",
   "source": [
    "# Import libraries"
   ],
   "metadata": {
    "collapsed": false
   },
   "id": "d169dd695d393876"
  },
  {
   "cell_type": "code",
   "execution_count": 6,
   "outputs": [],
   "source": [
    "import pandas as pd\n",
    "import numpy as np"
   ],
   "metadata": {
    "collapsed": false,
    "ExecuteTime": {
     "end_time": "2023-08-15T02:25:27.001156300Z",
     "start_time": "2023-08-15T02:25:26.908358Z"
    }
   },
   "id": "18bb9ed55e88199d"
  },
  {
   "cell_type": "markdown",
   "source": [
    "# Load data"
   ],
   "metadata": {
    "collapsed": false
   },
   "id": "89a1285690e533f9"
  },
  {
   "cell_type": "code",
   "execution_count": 7,
   "outputs": [
    {
     "data": {
      "text/plain": "   laufkont  laufzeit  moral  verw  hoehe  sparkont  beszeit  rate  famges  \\\n0         1        18      4     2   1049         1        2     4       2   \n1         1         9      4     0   2799         1        3     2       3   \n2         2        12      2     9    841         2        4     2       2   \n3         1        12      4     0   2122         1        3     3       3   \n4         1        12      4     0   2171         1        3     4       3   \n\n   buerge  ...  verm  alter  weitkred  wohn  bishkred  beruf  pers  telef  \\\n0       1  ...     2     21         3     1         1      3     2      1   \n1       1  ...     1     36         3     1         2      3     1      1   \n2       1  ...     1     23         3     1         1      2     2      1   \n3       1  ...     1     39         3     1         2      2     1      1   \n4       1  ...     2     38         1     2         2      2     2      1   \n\n   gastarb  kredit  \n0        2       1  \n1        2       1  \n2        2       1  \n3        1       1  \n4        1       1  \n\n[5 rows x 21 columns]",
      "text/html": "<div>\n<style scoped>\n    .dataframe tbody tr th:only-of-type {\n        vertical-align: middle;\n    }\n\n    .dataframe tbody tr th {\n        vertical-align: top;\n    }\n\n    .dataframe thead th {\n        text-align: right;\n    }\n</style>\n<table border=\"1\" class=\"dataframe\">\n  <thead>\n    <tr style=\"text-align: right;\">\n      <th></th>\n      <th>laufkont</th>\n      <th>laufzeit</th>\n      <th>moral</th>\n      <th>verw</th>\n      <th>hoehe</th>\n      <th>sparkont</th>\n      <th>beszeit</th>\n      <th>rate</th>\n      <th>famges</th>\n      <th>buerge</th>\n      <th>...</th>\n      <th>verm</th>\n      <th>alter</th>\n      <th>weitkred</th>\n      <th>wohn</th>\n      <th>bishkred</th>\n      <th>beruf</th>\n      <th>pers</th>\n      <th>telef</th>\n      <th>gastarb</th>\n      <th>kredit</th>\n    </tr>\n  </thead>\n  <tbody>\n    <tr>\n      <th>0</th>\n      <td>1</td>\n      <td>18</td>\n      <td>4</td>\n      <td>2</td>\n      <td>1049</td>\n      <td>1</td>\n      <td>2</td>\n      <td>4</td>\n      <td>2</td>\n      <td>1</td>\n      <td>...</td>\n      <td>2</td>\n      <td>21</td>\n      <td>3</td>\n      <td>1</td>\n      <td>1</td>\n      <td>3</td>\n      <td>2</td>\n      <td>1</td>\n      <td>2</td>\n      <td>1</td>\n    </tr>\n    <tr>\n      <th>1</th>\n      <td>1</td>\n      <td>9</td>\n      <td>4</td>\n      <td>0</td>\n      <td>2799</td>\n      <td>1</td>\n      <td>3</td>\n      <td>2</td>\n      <td>3</td>\n      <td>1</td>\n      <td>...</td>\n      <td>1</td>\n      <td>36</td>\n      <td>3</td>\n      <td>1</td>\n      <td>2</td>\n      <td>3</td>\n      <td>1</td>\n      <td>1</td>\n      <td>2</td>\n      <td>1</td>\n    </tr>\n    <tr>\n      <th>2</th>\n      <td>2</td>\n      <td>12</td>\n      <td>2</td>\n      <td>9</td>\n      <td>841</td>\n      <td>2</td>\n      <td>4</td>\n      <td>2</td>\n      <td>2</td>\n      <td>1</td>\n      <td>...</td>\n      <td>1</td>\n      <td>23</td>\n      <td>3</td>\n      <td>1</td>\n      <td>1</td>\n      <td>2</td>\n      <td>2</td>\n      <td>1</td>\n      <td>2</td>\n      <td>1</td>\n    </tr>\n    <tr>\n      <th>3</th>\n      <td>1</td>\n      <td>12</td>\n      <td>4</td>\n      <td>0</td>\n      <td>2122</td>\n      <td>1</td>\n      <td>3</td>\n      <td>3</td>\n      <td>3</td>\n      <td>1</td>\n      <td>...</td>\n      <td>1</td>\n      <td>39</td>\n      <td>3</td>\n      <td>1</td>\n      <td>2</td>\n      <td>2</td>\n      <td>1</td>\n      <td>1</td>\n      <td>1</td>\n      <td>1</td>\n    </tr>\n    <tr>\n      <th>4</th>\n      <td>1</td>\n      <td>12</td>\n      <td>4</td>\n      <td>0</td>\n      <td>2171</td>\n      <td>1</td>\n      <td>3</td>\n      <td>4</td>\n      <td>3</td>\n      <td>1</td>\n      <td>...</td>\n      <td>2</td>\n      <td>38</td>\n      <td>1</td>\n      <td>2</td>\n      <td>2</td>\n      <td>2</td>\n      <td>2</td>\n      <td>1</td>\n      <td>1</td>\n      <td>1</td>\n    </tr>\n  </tbody>\n</table>\n<p>5 rows × 21 columns</p>\n</div>"
     },
     "execution_count": 7,
     "metadata": {},
     "output_type": "execute_result"
    }
   ],
   "source": [
    "df = pd.read_table('SouthGermanCredit.asc', sep=' ')\n",
    "df.head()"
   ],
   "metadata": {
    "collapsed": false,
    "ExecuteTime": {
     "end_time": "2023-08-15T02:25:27.148354900Z",
     "start_time": "2023-08-15T02:25:26.923510100Z"
    }
   },
   "id": "417636c1bc3e9e14"
  },
  {
   "cell_type": "markdown",
   "source": [
    "# Build a Logistic Regression model"
   ],
   "metadata": {
    "collapsed": false
   },
   "id": "7d8deb25282dca3a"
  },
  {
   "cell_type": "code",
   "execution_count": 8,
   "outputs": [],
   "source": [
    "from sklearn.linear_model import LogisticRegression\n",
    "from sklearn.model_selection import train_test_split\n",
    "from sklearn.metrics import accuracy_score"
   ],
   "metadata": {
    "collapsed": false,
    "ExecuteTime": {
     "end_time": "2023-08-15T02:25:27.180814300Z",
     "start_time": "2023-08-15T02:25:26.953055100Z"
    }
   },
   "id": "de9a2d36f335079d"
  },
  {
   "cell_type": "markdown",
   "source": [
    "## Preprocessing"
   ],
   "metadata": {
    "collapsed": false
   },
   "id": "ae44f8114d5c75bf"
  },
  {
   "cell_type": "code",
   "execution_count": 9,
   "outputs": [],
   "source": [
    "targetColName = 'kredit'"
   ],
   "metadata": {
    "collapsed": false,
    "ExecuteTime": {
     "end_time": "2023-08-15T02:25:27.182116900Z",
     "start_time": "2023-08-15T02:25:26.969566400Z"
    }
   },
   "id": "6092f00b33e6edc6"
  },
  {
   "cell_type": "code",
   "execution_count": 10,
   "outputs": [],
   "source": [
    "df = df.dropna()"
   ],
   "metadata": {
    "collapsed": false,
    "ExecuteTime": {
     "end_time": "2023-08-15T02:25:27.182116900Z",
     "start_time": "2023-08-15T02:25:26.983654900Z"
    }
   },
   "id": "543d5422de236f7c"
  },
  {
   "cell_type": "code",
   "execution_count": 11,
   "outputs": [],
   "source": [
    "X = df.drop([targetColName], axis=1)"
   ],
   "metadata": {
    "collapsed": false,
    "ExecuteTime": {
     "end_time": "2023-08-15T02:25:27.183369600Z",
     "start_time": "2023-08-15T02:25:27.001156300Z"
    }
   },
   "id": "f375ef589143acb9"
  },
  {
   "cell_type": "code",
   "execution_count": 12,
   "outputs": [],
   "source": [
    "y = df[targetColName] "
   ],
   "metadata": {
    "collapsed": false,
    "ExecuteTime": {
     "end_time": "2023-08-15T02:25:27.183369600Z",
     "start_time": "2023-08-15T02:25:27.017050200Z"
    }
   },
   "id": "3474461e3df815b8"
  },
  {
   "cell_type": "code",
   "execution_count": 13,
   "outputs": [],
   "source": [
    "X_train, X_test, y_train, y_test = train_test_split(X, y, test_size=0.2, random_state=123)"
   ],
   "metadata": {
    "collapsed": false,
    "ExecuteTime": {
     "end_time": "2023-08-15T02:25:27.183369600Z",
     "start_time": "2023-08-15T02:25:27.031573300Z"
    }
   },
   "id": "1629b74e07f5ce7d"
  },
  {
   "cell_type": "code",
   "execution_count": 14,
   "outputs": [],
   "source": [
    "# Function to test each column\n",
    "def test_column(col):\n",
    "    model = LogisticRegression()\n",
    "    model.fit(X_train[col].to_frame(), y_train)\n",
    "    y_pred = model.predict(X_test[col].to_frame())\n",
    "    return accuracy_score(y_test, y_pred)"
   ],
   "metadata": {
    "collapsed": false,
    "ExecuteTime": {
     "end_time": "2023-08-15T02:25:27.183369600Z",
     "start_time": "2023-08-15T02:25:27.048258700Z"
    }
   },
   "id": "25204888d98899a4"
  },
  {
   "cell_type": "code",
   "execution_count": 15,
   "outputs": [],
   "source": [
    "def test_columns(cols):\n",
    "    model = LogisticRegression()\n",
    "    model.fit(X_train[cols], y_train)\n",
    "    y_pred = model.predict(X_test[cols])\n",
    "    return accuracy_score(y_test, y_pred)"
   ],
   "metadata": {
    "collapsed": false,
    "ExecuteTime": {
     "end_time": "2023-08-15T02:25:27.183369600Z",
     "start_time": "2023-08-15T02:25:27.065495100Z"
    }
   },
   "id": "31381cb25a1b2a71"
  },
  {
   "cell_type": "code",
   "execution_count": 16,
   "outputs": [],
   "source": [
    "def test_all():\n",
    "    model = LogisticRegression()\n",
    "    model.fit(X_train, y_train)\n",
    "    y_pred = model.predict(X_test)\n",
    "    return accuracy_score(y_test, y_pred)"
   ],
   "metadata": {
    "collapsed": false,
    "ExecuteTime": {
     "end_time": "2023-08-15T02:25:27.183369600Z",
     "start_time": "2023-08-15T02:25:27.081754800Z"
    }
   },
   "id": "ffa5c114daab3f28"
  },
  {
   "cell_type": "code",
   "execution_count": 17,
   "outputs": [],
   "source": [
    "# Test each column\n",
    "# for column in X_train.columns:\n",
    "#     print(column, test_column(column))"
   ],
   "metadata": {
    "collapsed": false,
    "ExecuteTime": {
     "end_time": "2023-08-15T02:25:27.202980600Z",
     "start_time": "2023-08-15T02:25:27.092430900Z"
    }
   },
   "id": "a7336fc9c91cc822"
  },
  {
   "cell_type": "code",
   "execution_count": 18,
   "outputs": [],
   "source": [
    "# Test columns in pairs\n",
    "# for col1 in X_train.columns:\n",
    "#     for col2 in X_train.columns:\n",
    "#         if col1 < col2:\n",
    "#             print(col1, col2, test_columns([col1, col2]))"
   ],
   "metadata": {
    "collapsed": false,
    "ExecuteTime": {
     "end_time": "2023-08-15T02:25:27.202980600Z",
     "start_time": "2023-08-15T02:25:27.108825900Z"
    }
   },
   "id": "8a8c07d6ad7ecab0"
  },
  {
   "cell_type": "code",
   "execution_count": 19,
   "outputs": [
    {
     "name": "stderr",
     "output_type": "stream",
     "text": [
      "C:\\Users\\taqua\\miniconda3\\lib\\site-packages\\sklearn\\linear_model\\_logistic.py:458: ConvergenceWarning: lbfgs failed to converge (status=1):\n",
      "STOP: TOTAL NO. of ITERATIONS REACHED LIMIT.\n",
      "\n",
      "Increase the number of iterations (max_iter) or scale the data as shown in:\n",
      "    https://scikit-learn.org/stable/modules/preprocessing.html\n",
      "Please also refer to the documentation for alternative solver options:\n",
      "    https://scikit-learn.org/stable/modules/linear_model.html#logistic-regression\n",
      "  n_iter_i = _check_optimize_result(\n"
     ]
    },
    {
     "data": {
      "text/plain": "0.75"
     },
     "execution_count": 19,
     "metadata": {},
     "output_type": "execute_result"
    }
   ],
   "source": [
    "# Accuracy of all columns\n",
    "test_all()"
   ],
   "metadata": {
    "collapsed": false,
    "ExecuteTime": {
     "end_time": "2023-08-15T02:25:27.288679500Z",
     "start_time": "2023-08-15T02:25:27.126083600Z"
    }
   },
   "id": "6963cd83fdb364bf"
  }
 ],
 "metadata": {
  "kernelspec": {
   "display_name": "Python 3",
   "language": "python",
   "name": "python3"
  },
  "language_info": {
   "codemirror_mode": {
    "name": "ipython",
    "version": 2
   },
   "file_extension": ".py",
   "mimetype": "text/x-python",
   "name": "python",
   "nbconvert_exporter": "python",
   "pygments_lexer": "ipython2",
   "version": "2.7.6"
  }
 },
 "nbformat": 4,
 "nbformat_minor": 5
}
