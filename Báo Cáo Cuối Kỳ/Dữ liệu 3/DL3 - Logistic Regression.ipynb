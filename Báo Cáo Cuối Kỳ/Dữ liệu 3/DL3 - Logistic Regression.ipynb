{
 "cells": [
  {
   "cell_type": "markdown",
   "source": [
    "# Import libraries"
   ],
   "metadata": {
    "collapsed": false
   },
   "id": "2014e3af58c8c82e"
  },
  {
   "cell_type": "code",
   "execution_count": 16,
   "outputs": [],
   "source": [
    "import pandas as pd\n",
    "import numpy as np"
   ],
   "metadata": {
    "collapsed": false,
    "ExecuteTime": {
     "end_time": "2023-08-15T14:07:46.908403300Z",
     "start_time": "2023-08-15T14:07:46.756983600Z"
    }
   },
   "id": "de24f54845c087eb"
  },
  {
   "cell_type": "markdown",
   "source": [
    "# Load data"
   ],
   "metadata": {
    "collapsed": false
   },
   "id": "846078d109e846ac"
  },
  {
   "cell_type": "code",
   "execution_count": 17,
   "outputs": [
    {
     "data": {
      "text/plain": "    User ID  Gender  Age  EstimatedSalary  Purchased\n0  15624510    Male   19            19000          0\n1  15810944    Male   35            20000          0\n2  15668575  Female   26            43000          0\n3  15603246  Female   27            57000          0\n4  15804002    Male   19            76000          0",
      "text/html": "<div>\n<style scoped>\n    .dataframe tbody tr th:only-of-type {\n        vertical-align: middle;\n    }\n\n    .dataframe tbody tr th {\n        vertical-align: top;\n    }\n\n    .dataframe thead th {\n        text-align: right;\n    }\n</style>\n<table border=\"1\" class=\"dataframe\">\n  <thead>\n    <tr style=\"text-align: right;\">\n      <th></th>\n      <th>User ID</th>\n      <th>Gender</th>\n      <th>Age</th>\n      <th>EstimatedSalary</th>\n      <th>Purchased</th>\n    </tr>\n  </thead>\n  <tbody>\n    <tr>\n      <th>0</th>\n      <td>15624510</td>\n      <td>Male</td>\n      <td>19</td>\n      <td>19000</td>\n      <td>0</td>\n    </tr>\n    <tr>\n      <th>1</th>\n      <td>15810944</td>\n      <td>Male</td>\n      <td>35</td>\n      <td>20000</td>\n      <td>0</td>\n    </tr>\n    <tr>\n      <th>2</th>\n      <td>15668575</td>\n      <td>Female</td>\n      <td>26</td>\n      <td>43000</td>\n      <td>0</td>\n    </tr>\n    <tr>\n      <th>3</th>\n      <td>15603246</td>\n      <td>Female</td>\n      <td>27</td>\n      <td>57000</td>\n      <td>0</td>\n    </tr>\n    <tr>\n      <th>4</th>\n      <td>15804002</td>\n      <td>Male</td>\n      <td>19</td>\n      <td>76000</td>\n      <td>0</td>\n    </tr>\n  </tbody>\n</table>\n</div>"
     },
     "execution_count": 17,
     "metadata": {},
     "output_type": "execute_result"
    }
   ],
   "source": [
    "df = pd.read_csv('suv_data.csv')\n",
    "df.head()"
   ],
   "metadata": {
    "collapsed": false,
    "ExecuteTime": {
     "end_time": "2023-08-15T14:07:47.062762600Z",
     "start_time": "2023-08-15T14:07:46.778560300Z"
    }
   },
   "id": "4b9965ff96ed860d"
  },
  {
   "cell_type": "markdown",
   "source": [
    "# Build a Logistic Regression model"
   ],
   "metadata": {
    "collapsed": false
   },
   "id": "29f216fe953eb9d1"
  },
  {
   "cell_type": "code",
   "execution_count": 18,
   "outputs": [],
   "source": [
    "from sklearn.linear_model import LogisticRegression\n",
    "from sklearn.model_selection import train_test_split\n",
    "from sklearn.metrics import accuracy_score"
   ],
   "metadata": {
    "collapsed": false,
    "ExecuteTime": {
     "end_time": "2023-08-15T14:07:47.090195200Z",
     "start_time": "2023-08-15T14:07:46.809645800Z"
    }
   },
   "id": "3a7d3e9c7d8b5e46"
  },
  {
   "cell_type": "markdown",
   "source": [
    "## Preprocessing"
   ],
   "metadata": {
    "collapsed": false
   },
   "id": "f10e2e0632adc02"
  },
  {
   "cell_type": "code",
   "execution_count": 19,
   "outputs": [],
   "source": [
    "targetColName = 'Purchased' # Tên cột dự đoán - target"
   ],
   "metadata": {
    "collapsed": false,
    "ExecuteTime": {
     "end_time": "2023-08-15T14:07:47.090195200Z",
     "start_time": "2023-08-15T14:07:46.826080Z"
    }
   },
   "id": "2d8b8d1122e5ef3a"
  },
  {
   "cell_type": "code",
   "execution_count": 20,
   "outputs": [],
   "source": [
    "df = df.dropna() # Xóa các dòng có giá trị null"
   ],
   "metadata": {
    "collapsed": false,
    "ExecuteTime": {
     "end_time": "2023-08-15T14:07:47.091196400Z",
     "start_time": "2023-08-15T14:07:46.838538Z"
    }
   },
   "id": "65a9ec1b39964fa1"
  },
  {
   "cell_type": "code",
   "execution_count": 21,
   "outputs": [],
   "source": [
    "df = pd.get_dummies(df, drop_first=True)"
   ],
   "metadata": {
    "collapsed": false,
    "ExecuteTime": {
     "end_time": "2023-08-15T14:07:47.091713800Z",
     "start_time": "2023-08-15T14:07:46.858557200Z"
    }
   },
   "id": "1f61c9506cedc9b5"
  },
  {
   "cell_type": "code",
   "execution_count": 22,
   "outputs": [],
   "source": [
    "X = df.drop([targetColName], axis=1) # Xóa cột dự đoán để lấy dự liệu đầu vào - train data"
   ],
   "metadata": {
    "collapsed": false,
    "ExecuteTime": {
     "end_time": "2023-08-15T14:07:47.091713800Z",
     "start_time": "2023-08-15T14:07:46.868608300Z"
    }
   },
   "id": "9c3b86647feb52ba"
  },
  {
   "cell_type": "code",
   "execution_count": 23,
   "outputs": [],
   "source": [
    "y = df[targetColName]  # Lấy cột dự đoán - target"
   ],
   "metadata": {
    "collapsed": false,
    "ExecuteTime": {
     "end_time": "2023-08-15T14:07:47.092688100Z",
     "start_time": "2023-08-15T14:07:46.883521100Z"
    }
   },
   "id": "9d7c72a9da1f7f69"
  },
  {
   "cell_type": "code",
   "execution_count": 24,
   "outputs": [],
   "source": [
    "X_train, X_test, y_train, y_test = train_test_split(X, y, test_size=0.2, random_state=123) # Chia dữ liệu thành 2 phần train và test"
   ],
   "metadata": {
    "collapsed": false,
    "ExecuteTime": {
     "end_time": "2023-08-15T14:07:47.093813Z",
     "start_time": "2023-08-15T14:07:46.902796500Z"
    }
   },
   "id": "bb8b0c6b95fbf1ea"
  },
  {
   "cell_type": "code",
   "execution_count": 25,
   "outputs": [],
   "source": [
    "# Function to test each column\n",
    "def test_column(col):\n",
    "    model = LogisticRegression()\n",
    "    model.fit(X_train[col].to_frame(), y_train)\n",
    "    y_pred = model.predict(X_test[col].to_frame())\n",
    "    return accuracy_score(y_test, y_pred)"
   ],
   "metadata": {
    "collapsed": false,
    "ExecuteTime": {
     "end_time": "2023-08-15T14:07:47.093813Z",
     "start_time": "2023-08-15T14:07:46.917175700Z"
    }
   },
   "id": "bcbcefdfc4b766e8"
  },
  {
   "cell_type": "code",
   "execution_count": 26,
   "outputs": [],
   "source": [
    "def test_columns(cols):\n",
    "    model = LogisticRegression()\n",
    "    model.fit(X_train[cols], y_train)\n",
    "    y_pred = model.predict(X_test[cols])\n",
    "    return accuracy_score(y_test, y_pred)"
   ],
   "metadata": {
    "collapsed": false,
    "ExecuteTime": {
     "end_time": "2023-08-15T14:07:47.207126500Z",
     "start_time": "2023-08-15T14:07:46.933777700Z"
    }
   },
   "id": "a835ff36183f004d"
  },
  {
   "cell_type": "code",
   "execution_count": 27,
   "outputs": [],
   "source": [
    "def test_all():\n",
    "    model = LogisticRegression() # Tạo model Logistic Regression\n",
    "    model.fit(X_train, y_train) # Train model\n",
    "    y_pred = model.predict(X_test) # Kiểm tra model - Dự đoán kết quả\n",
    "    return accuracy_score(y_test, y_pred) # Tính độ chính xác"
   ],
   "metadata": {
    "collapsed": false,
    "ExecuteTime": {
     "end_time": "2023-08-15T14:07:47.236603400Z",
     "start_time": "2023-08-15T14:07:46.950882200Z"
    }
   },
   "id": "8be15b50be6a930e"
  },
  {
   "cell_type": "code",
   "execution_count": 28,
   "outputs": [],
   "source": [
    "# Test each column\n",
    "# for column in X_train.columns:\n",
    "#     print(column, test_column(column))"
   ],
   "metadata": {
    "collapsed": false,
    "ExecuteTime": {
     "end_time": "2023-08-15T14:07:47.237634600Z",
     "start_time": "2023-08-15T14:07:46.964924500Z"
    }
   },
   "id": "e0508931a0d5bcfd"
  },
  {
   "cell_type": "code",
   "execution_count": 29,
   "outputs": [],
   "source": [
    "# Test columns in pairs\n",
    "# for col1 in X_train.columns:\n",
    "#     for col2 in X_train.columns:\n",
    "#         if col1 < col2:\n",
    "#             print(col1, col2, test_columns([col1, col2]))"
   ],
   "metadata": {
    "collapsed": false,
    "ExecuteTime": {
     "end_time": "2023-08-15T14:07:47.237634600Z",
     "start_time": "2023-08-15T14:07:46.980849500Z"
    }
   },
   "id": "775422b430032db5"
  },
  {
   "cell_type": "code",
   "execution_count": 30,
   "outputs": [
    {
     "data": {
      "text/plain": "0.725"
     },
     "execution_count": 30,
     "metadata": {},
     "output_type": "execute_result"
    }
   ],
   "source": [
    "# Accuracy of all columns\n",
    "test_all()"
   ],
   "metadata": {
    "collapsed": false,
    "ExecuteTime": {
     "end_time": "2023-08-15T14:07:47.239645700Z",
     "start_time": "2023-08-15T14:07:46.996208100Z"
    }
   },
   "id": "30e538ed9fac972"
  }
 ],
 "metadata": {
  "kernelspec": {
   "display_name": "Python 3",
   "language": "python",
   "name": "python3"
  },
  "language_info": {
   "codemirror_mode": {
    "name": "ipython",
    "version": 2
   },
   "file_extension": ".py",
   "mimetype": "text/x-python",
   "name": "python",
   "nbconvert_exporter": "python",
   "pygments_lexer": "ipython2",
   "version": "2.7.6"
  }
 },
 "nbformat": 4,
 "nbformat_minor": 5
}
