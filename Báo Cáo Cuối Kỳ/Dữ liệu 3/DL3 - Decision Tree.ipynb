{
 "cells": [
  {
   "cell_type": "markdown",
   "source": [
    "# Import libraries"
   ],
   "metadata": {
    "collapsed": false
   },
   "id": "1388c77de3631eee"
  },
  {
   "cell_type": "code",
   "execution_count": 18,
   "outputs": [],
   "source": [
    "import pandas as pd\n",
    "import numpy as np"
   ],
   "metadata": {
    "collapsed": false,
    "ExecuteTime": {
     "end_time": "2023-08-15T04:27:32.461274600Z",
     "start_time": "2023-08-15T04:27:32.409028600Z"
    }
   },
   "id": "ea40d2748bb20431"
  },
  {
   "cell_type": "markdown",
   "source": [
    "# Load data"
   ],
   "metadata": {
    "collapsed": false
   },
   "id": "97cd2ec030d06b9a"
  },
  {
   "cell_type": "code",
   "execution_count": 19,
   "outputs": [
    {
     "data": {
      "text/plain": "    User ID  Gender  Age  EstimatedSalary  Purchased\n0  15624510    Male   19            19000          0\n1  15810944    Male   35            20000          0\n2  15668575  Female   26            43000          0\n3  15603246  Female   27            57000          0\n4  15804002    Male   19            76000          0",
      "text/html": "<div>\n<style scoped>\n    .dataframe tbody tr th:only-of-type {\n        vertical-align: middle;\n    }\n\n    .dataframe tbody tr th {\n        vertical-align: top;\n    }\n\n    .dataframe thead th {\n        text-align: right;\n    }\n</style>\n<table border=\"1\" class=\"dataframe\">\n  <thead>\n    <tr style=\"text-align: right;\">\n      <th></th>\n      <th>User ID</th>\n      <th>Gender</th>\n      <th>Age</th>\n      <th>EstimatedSalary</th>\n      <th>Purchased</th>\n    </tr>\n  </thead>\n  <tbody>\n    <tr>\n      <th>0</th>\n      <td>15624510</td>\n      <td>Male</td>\n      <td>19</td>\n      <td>19000</td>\n      <td>0</td>\n    </tr>\n    <tr>\n      <th>1</th>\n      <td>15810944</td>\n      <td>Male</td>\n      <td>35</td>\n      <td>20000</td>\n      <td>0</td>\n    </tr>\n    <tr>\n      <th>2</th>\n      <td>15668575</td>\n      <td>Female</td>\n      <td>26</td>\n      <td>43000</td>\n      <td>0</td>\n    </tr>\n    <tr>\n      <th>3</th>\n      <td>15603246</td>\n      <td>Female</td>\n      <td>27</td>\n      <td>57000</td>\n      <td>0</td>\n    </tr>\n    <tr>\n      <th>4</th>\n      <td>15804002</td>\n      <td>Male</td>\n      <td>19</td>\n      <td>76000</td>\n      <td>0</td>\n    </tr>\n  </tbody>\n</table>\n</div>"
     },
     "execution_count": 19,
     "metadata": {},
     "output_type": "execute_result"
    }
   ],
   "source": [
    "# Read table\n",
    "df = pd.read_csv('suv_data.csv')\n",
    "df.head()"
   ],
   "metadata": {
    "collapsed": false,
    "ExecuteTime": {
     "end_time": "2023-08-15T04:27:32.678454600Z",
     "start_time": "2023-08-15T04:27:32.421200300Z"
    }
   },
   "id": "d3505013fa5855b9"
  },
  {
   "cell_type": "markdown",
   "source": [
    "# Build a Decision Tree model"
   ],
   "metadata": {
    "collapsed": false
   },
   "id": "805ccc6560322016"
  },
  {
   "cell_type": "code",
   "execution_count": 20,
   "outputs": [],
   "source": [
    "from sklearn.tree import DecisionTreeClassifier\n",
    "from sklearn.model_selection import train_test_split\n",
    "from sklearn.metrics import accuracy_score"
   ],
   "metadata": {
    "collapsed": false,
    "ExecuteTime": {
     "end_time": "2023-08-15T04:27:32.681018200Z",
     "start_time": "2023-08-15T04:27:32.452863900Z"
    }
   },
   "id": "9bf0c6bf29feabc0"
  },
  {
   "cell_type": "markdown",
   "source": [
    "## Preprocessing"
   ],
   "metadata": {
    "collapsed": false
   },
   "id": "6e2e2f0f1278c489"
  },
  {
   "cell_type": "code",
   "execution_count": 21,
   "outputs": [],
   "source": [
    "targetColumn = 'Purchased'"
   ],
   "metadata": {
    "collapsed": false,
    "ExecuteTime": {
     "end_time": "2023-08-15T04:27:32.691243600Z",
     "start_time": "2023-08-15T04:27:32.464274800Z"
    }
   },
   "id": "561d8a0d1cdf4940"
  },
  {
   "cell_type": "code",
   "execution_count": 22,
   "outputs": [],
   "source": [
    "df = df.dropna()"
   ],
   "metadata": {
    "collapsed": false,
    "ExecuteTime": {
     "end_time": "2023-08-15T04:27:32.691243600Z",
     "start_time": "2023-08-15T04:27:32.480008100Z"
    }
   },
   "id": "899e9d105e033860"
  },
  {
   "cell_type": "code",
   "execution_count": 23,
   "outputs": [],
   "source": [
    "df = df.drop(['User ID'], axis=1)"
   ],
   "metadata": {
    "collapsed": false,
    "ExecuteTime": {
     "end_time": "2023-08-15T04:27:32.691243600Z",
     "start_time": "2023-08-15T04:27:32.498745100Z"
    }
   },
   "id": "923ae69bdf71f484"
  },
  {
   "cell_type": "code",
   "execution_count": 24,
   "outputs": [],
   "source": [
    "df = pd.get_dummies(df, drop_first=True)"
   ],
   "metadata": {
    "collapsed": false,
    "ExecuteTime": {
     "end_time": "2023-08-15T04:27:32.691243600Z",
     "start_time": "2023-08-15T04:27:32.513585100Z"
    }
   },
   "id": "35d27ec4a4664ee1"
  },
  {
   "cell_type": "code",
   "execution_count": 25,
   "outputs": [],
   "source": [
    "X = df.drop([targetColumn], axis=1)"
   ],
   "metadata": {
    "collapsed": false,
    "ExecuteTime": {
     "end_time": "2023-08-15T04:27:32.691243600Z",
     "start_time": "2023-08-15T04:27:32.528580600Z"
    }
   },
   "id": "d50d998b3501482d"
  },
  {
   "cell_type": "code",
   "execution_count": 26,
   "outputs": [],
   "source": [
    "y = df[targetColumn] "
   ],
   "metadata": {
    "collapsed": false,
    "ExecuteTime": {
     "end_time": "2023-08-15T04:27:32.692239Z",
     "start_time": "2023-08-15T04:27:32.542052300Z"
    }
   },
   "id": "80d9e47e7be92cc7"
  },
  {
   "cell_type": "code",
   "execution_count": 27,
   "outputs": [],
   "source": [
    "X_train, X_test, y_train, y_test = train_test_split(X, y, test_size=0.2, random_state=123)"
   ],
   "metadata": {
    "collapsed": false,
    "ExecuteTime": {
     "end_time": "2023-08-15T04:27:32.692239Z",
     "start_time": "2023-08-15T04:27:32.558161400Z"
    }
   },
   "id": "f121c54c8586e9d8"
  },
  {
   "cell_type": "code",
   "execution_count": 28,
   "outputs": [],
   "source": [
    "# Function to test each column\n",
    "def test_column(col):\n",
    "    model = DecisionTreeClassifier(max_depth=4, random_state=123)\n",
    "    model.fit(X_train[col].to_frame(), y_train)\n",
    "    y_pred = model.predict(X_test[col].to_frame())\n",
    "    return accuracy_score(y_test, y_pred)"
   ],
   "metadata": {
    "collapsed": false,
    "ExecuteTime": {
     "end_time": "2023-08-15T04:27:32.692239Z",
     "start_time": "2023-08-15T04:27:32.574566800Z"
    }
   },
   "id": "737af08b6ceebefa"
  },
  {
   "cell_type": "code",
   "execution_count": 29,
   "outputs": [],
   "source": [
    "def test_columns(cols):\n",
    "    model = DecisionTreeClassifier(max_depth=4, random_state=123)\n",
    "    model.fit(X_train[cols], y_train)\n",
    "    y_pred = model.predict(X_test[cols])\n",
    "    return accuracy_score(y_test, y_pred)"
   ],
   "metadata": {
    "collapsed": false,
    "ExecuteTime": {
     "end_time": "2023-08-15T04:27:32.692239Z",
     "start_time": "2023-08-15T04:27:32.589711100Z"
    }
   },
   "id": "b562b424c288f8ee"
  },
  {
   "cell_type": "code",
   "execution_count": 30,
   "outputs": [],
   "source": [
    "def test_all():\n",
    "    model = DecisionTreeClassifier(max_depth=4, random_state=123)\n",
    "    model.fit(X_train, y_train)\n",
    "    y_pred = model.predict(X_test)\n",
    "    return accuracy_score(y_test, y_pred)"
   ],
   "metadata": {
    "collapsed": false,
    "ExecuteTime": {
     "end_time": "2023-08-15T04:27:32.692239Z",
     "start_time": "2023-08-15T04:27:32.605419100Z"
    }
   },
   "id": "65433c0881f13ff5"
  },
  {
   "cell_type": "code",
   "execution_count": 31,
   "outputs": [],
   "source": [
    "# Test each column\n",
    "# for column in X_train.columns:\n",
    "#     print(column, test_column(column))"
   ],
   "metadata": {
    "collapsed": false,
    "ExecuteTime": {
     "end_time": "2023-08-15T04:27:32.692239Z",
     "start_time": "2023-08-15T04:27:32.620708700Z"
    }
   },
   "id": "306d626a1009dfad"
  },
  {
   "cell_type": "code",
   "execution_count": 32,
   "outputs": [],
   "source": [
    "# Test columns in pairs\n",
    "# for col1 in X_train.columns:\n",
    "#     for col2 in X_train.columns:\n",
    "#         if col1 < col2:\n",
    "#             print(col1, col2, test_columns([col1, col2]))"
   ],
   "metadata": {
    "collapsed": false,
    "ExecuteTime": {
     "end_time": "2023-08-15T04:27:32.692239Z",
     "start_time": "2023-08-15T04:27:32.636204500Z"
    }
   },
   "id": "c82a67a9d4ab512"
  },
  {
   "cell_type": "code",
   "execution_count": 33,
   "outputs": [
    {
     "data": {
      "text/plain": "0.875"
     },
     "execution_count": 33,
     "metadata": {},
     "output_type": "execute_result"
    }
   ],
   "source": [
    "# Accuracy of all columns\n",
    "test_all()"
   ],
   "metadata": {
    "collapsed": false,
    "ExecuteTime": {
     "end_time": "2023-08-15T04:27:32.694247300Z",
     "start_time": "2023-08-15T04:27:32.651686700Z"
    }
   },
   "id": "2a9252a004ec831e"
  },
  {
   "cell_type": "markdown",
   "source": [],
   "metadata": {
    "collapsed": false
   },
   "id": "385475dea153c451"
  }
 ],
 "metadata": {
  "kernelspec": {
   "display_name": "Python 3",
   "language": "python",
   "name": "python3"
  },
  "language_info": {
   "codemirror_mode": {
    "name": "ipython",
    "version": 2
   },
   "file_extension": ".py",
   "mimetype": "text/x-python",
   "name": "python",
   "nbconvert_exporter": "python",
   "pygments_lexer": "ipython2",
   "version": "2.7.6"
  }
 },
 "nbformat": 4,
 "nbformat_minor": 5
}
