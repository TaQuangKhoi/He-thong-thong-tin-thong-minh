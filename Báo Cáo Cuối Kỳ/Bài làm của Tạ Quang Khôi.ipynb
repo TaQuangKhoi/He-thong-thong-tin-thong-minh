{
 "cells": [
  {
   "cell_type": "markdown",
   "id": "510b259c905ecbef",
   "metadata": {
    "collapsed": false
   },
   "source": [
    "# Import libraries"
   ]
  },
  {
   "cell_type": "code",
   "execution_count": null,
   "id": "7c334ba0ef169ac3",
   "metadata": {
    "collapsed": false
   },
   "outputs": [],
   "source": [
    "import pandas as pd\n",
    "import matplotlib.pyplot as plt\n",
    "import seaborn as sns"
   ]
  },
  {
   "cell_type": "markdown",
   "id": "a08486702cc31751",
   "metadata": {
    "collapsed": false
   },
   "source": [
    "# Load data"
   ]
  },
  {
   "cell_type": "code",
   "execution_count": null,
   "id": "845b834803a91996",
   "metadata": {
    "collapsed": false
   },
   "outputs": [],
   "source": [
    "data = pd.read_csv('Dữ liệu 1/in-vehicle-coupon-recommendation.csv')"
   ]
  },
  {
   "cell_type": "markdown",
   "id": "47a36ebfaaedcfa",
   "metadata": {
    "collapsed": false
   },
   "source": [
    "# Explore data"
   ]
  },
  {
   "cell_type": "code",
   "execution_count": null,
   "id": "4b4294b204aa9d79",
   "metadata": {
    "collapsed": false
   },
   "outputs": [],
   "source": [
    "# Khám phá các thuộc tính\n",
    "data.head()"
   ]
  },
  {
   "cell_type": "code",
   "execution_count": null,
   "id": "19b09a4b9643a0bb",
   "metadata": {
    "collapsed": false
   },
   "outputs": [],
   "source": [
    "# Kiểm tra kiểu dữ liệu\n",
    "data.dtypes"
   ]
  },
  {
   "cell_type": "markdown",
   "id": "d57b4e2abafdc472",
   "metadata": {
    "collapsed": false
   },
   "source": [
    "# Clean data"
   ]
  },
  {
   "cell_type": "code",
   "execution_count": null,
   "outputs": [],
   "source": [
    "data['temperature'] = data['temperature'].astype('category')"
   ],
   "metadata": {
    "collapsed": false
   },
   "id": "60733d9eecf33b2"
  },
  {
   "cell_type": "code",
   "execution_count": null,
   "outputs": [],
   "source": [
    "data['temperature'].dtype"
   ],
   "metadata": {
    "collapsed": false
   },
   "id": "66b3f1c8e0738604"
  },
  {
   "cell_type": "code",
   "execution_count": null,
   "id": "41cfe3986ae8bf7a",
   "metadata": {
    "collapsed": false
   },
   "outputs": [],
   "source": [
    "# Kiểm tra giá trị null\n",
    "data.info()"
   ]
  },
  {
   "cell_type": "code",
   "execution_count": null,
   "outputs": [],
   "source": [
    "# There are many null values in 'car' column\n",
    "data.drop('car', inplace=True, axis=1)"
   ],
   "metadata": {
    "collapsed": false
   },
   "id": "9ee0be167eaecda7"
  },
  {
   "cell_type": "code",
   "execution_count": null,
   "outputs": [],
   "source": [
    "#change Object datatypes to Categorical datatypes)\n",
    "\n",
    "df_obj = data.select_dtypes(include=['object']).copy()\n",
    "\n",
    "for col in df_obj.columns:\n",
    "    data[col] = data[col].astype('category')\n",
    "\n",
    "data.dtypes"
   ],
   "metadata": {
    "collapsed": false
   },
   "id": "561f5a70c802f7a0"
  },
  {
   "cell_type": "code",
   "execution_count": null,
   "id": "ebdf6297b43957c",
   "metadata": {
    "collapsed": false
   },
   "outputs": [],
   "source": [
    "data.describe(include='all')"
   ]
  },
  {
   "cell_type": "code",
   "execution_count": null,
   "id": "b0f82abbcbeb9dc",
   "metadata": {
    "collapsed": false
   },
   "outputs": [],
   "source": [
    "# Kiểm tra các cột int64 có giá trị unique là 1 để loại bỏ\n",
    "data.select_dtypes('int64').nunique()"
   ]
  },
  {
   "cell_type": "code",
   "execution_count": null,
   "id": "bfd4bcdea47295a",
   "metadata": {
    "collapsed": false
   },
   "outputs": [],
   "source": [
    "data.drop(columns=['toCoupon_GEQ5min'], inplace=True)"
   ]
  },
  {
   "cell_type": "markdown",
   "id": "1ac74566b0e3d927",
   "metadata": {
    "ExecuteTime": {
     "end_time": "2023-08-16T03:25:20.995299400Z",
     "start_time": "2023-08-16T03:25:17.677289Z"
    },
    "collapsed": false
   },
   "source": [
    "# Data visualization"
   ]
  },
  {
   "cell_type": "code",
   "execution_count": null,
   "id": "2cbf74c73f0df793",
   "metadata": {
    "collapsed": false
   },
   "outputs": [],
   "source": [
    "fig, axes = plt.subplots(9, 2, figsize=(20, 50))\n",
    "axes = axes.flatten()\n",
    "\n",
    "for ax, col in zip(axes, data.select_dtypes('category').columns):\n",
    "    sns.countplot(y=col,\n",
    "                  data=data,\n",
    "                  ax=ax,\n",
    "                  palette=\"ch:.25\",\n",
    "                  order=data[col].value_counts().index)\n",
    "\n",
    "plt.show()"
   ]
  },
  {
   "cell_type": "markdown",
   "id": "20f44e6541ffa6a9",
   "metadata": {
    "ExecuteTime": {
     "end_time": "2023-08-16T03:19:34.589262900Z",
     "start_time": "2023-08-16T03:19:29.921715700Z"
    },
    "collapsed": false
   },
   "source": [
    "# Preprocess data"
   ]
  },
  {
   "cell_type": "code",
   "execution_count": null,
   "id": "aed4a680271cb79c",
   "metadata": {
    "collapsed": false
   },
   "outputs": [],
   "source": [
    "from sklearn.preprocessing import OneHotEncoder\n",
    "\n",
    "enc = OneHotEncoder(dtype='int64')\n",
    "\n",
    "data_cat = data.select_dtypes(include=['category']).copy()\n",
    "df_int = data.select_dtypes(include=['int64']).copy()\n",
    "\n",
    "data_enc = pd.DataFrame()\n",
    "for col in data_cat.columns:\n",
    "    enc_results = enc.fit_transform(data_cat[[col]])\n",
    "    data_0 = pd.DataFrame(enc_results.toarray(), columns=enc.categories_)\n",
    "    data_enc = pd.concat([data_enc, data_0], axis=1)\n",
    "\n",
    "data_final = pd.concat([data_enc, df_int], axis=1)"
   ]
  },
  {
   "cell_type": "code",
   "execution_count": null,
   "outputs": [],
   "source": [
    "data_final"
   ],
   "metadata": {
    "collapsed": false
   },
   "id": "d00328062f00d058"
  },
  {
   "cell_type": "markdown",
   "source": [
    "# Split data"
   ],
   "metadata": {
    "collapsed": false
   },
   "id": "93d7b66129b6261"
  },
  {
   "cell_type": "code",
   "execution_count": null,
   "outputs": [],
   "source": [
    "from sklearn.model_selection import train_test_split"
   ],
   "metadata": {
    "collapsed": false
   },
   "id": "d4cc76141177faec"
  },
  {
   "cell_type": "code",
   "execution_count": null,
   "outputs": [],
   "source": [
    "X = data_final.drop(columns=['Y'])"
   ],
   "metadata": {
    "collapsed": false
   },
   "id": "48050352fcaf8b9d"
  },
  {
   "cell_type": "code",
   "execution_count": null,
   "outputs": [],
   "source": [
    "y = data_final['Y']"
   ],
   "metadata": {
    "collapsed": false
   },
   "id": "19ac1604354ee5b"
  },
  {
   "cell_type": "code",
   "execution_count": null,
   "outputs": [],
   "source": [
    "X_train, X_test, y_train, y_test = train_test_split(X, y, test_size=0.2)"
   ],
   "metadata": {
    "collapsed": false
   },
   "id": "be7f16c5bb15bd20"
  },
  {
   "cell_type": "code",
   "execution_count": null,
   "outputs": [],
   "source": [
    "X_train = X_train.values\n",
    "X_test = X_test.values\n",
    "y_train = y_train.values\n",
    "y_test = y_test.values"
   ],
   "metadata": {
    "collapsed": false
   },
   "id": "51f17f692624c79"
  },
  {
   "cell_type": "markdown",
   "source": [
    "# Train model"
   ],
   "metadata": {
    "collapsed": false
   },
   "id": "9cda99c14ff42a58"
  },
  {
   "cell_type": "code",
   "execution_count": null,
   "outputs": [],
   "source": [
    "from sklearn.metrics import classification_report\n",
    "\n",
    "from sklearn.linear_model import LogisticRegression\n",
    "from sklearn.tree import DecisionTreeClassifier\n",
    "from sklearn.neighbors import KNeighborsClassifier\n",
    "from sklearn.naive_bayes import GaussianNB\n",
    "from sklearn.svm import SVC\n",
    "from time import time\n",
    "from sklearn.metrics import accuracy_score"
   ],
   "metadata": {
    "collapsed": false
   },
   "id": "bd6b2d72849c2e99"
  },
  {
   "cell_type": "markdown",
   "source": [
    "## Logistic Regression"
   ],
   "metadata": {
    "collapsed": false
   },
   "id": "b0c396ddfd5e338c"
  },
  {
   "cell_type": "code",
   "execution_count": null,
   "outputs": [],
   "source": [
    "LR = LogisticRegression(random_state=0, solver='lbfgs', multi_class='ovr')"
   ],
   "metadata": {
    "collapsed": false
   },
   "id": "fb247b2d5c7bbcd5"
  },
  {
   "cell_type": "code",
   "execution_count": null,
   "outputs": [],
   "source": [
    "LR.fit(X_train, y_train)"
   ],
   "metadata": {
    "collapsed": false
   },
   "id": "3352481db0b933d5"
  },
  {
   "cell_type": "code",
   "execution_count": 72,
   "outputs": [
    {
     "name": "stdout",
     "output_type": "stream",
     "text": [
      "Prediction time: 3.34 ms\n"
     ]
    }
   ],
   "source": [
    "t0 = time()\n",
    "y_pred_LR = LR.predict(X_test)\n",
    "t1 = time()\n",
    "print(\"Prediction time: {:.2f} ms\".format((t1 - t0) * 1000))"
   ],
   "metadata": {
    "collapsed": false,
    "ExecuteTime": {
     "end_time": "2023-08-16T18:28:28.595353100Z",
     "start_time": "2023-08-16T18:28:28.550717900Z"
    }
   },
   "id": "be6feedf4c302916"
  },
  {
   "cell_type": "code",
   "execution_count": null,
   "outputs": [],
   "source": [
    "print(classification_report(y_test, y_pred_LR))"
   ],
   "metadata": {
    "collapsed": false
   },
   "id": "e20ad593fc60ad50"
  },
  {
   "cell_type": "code",
   "execution_count": 81,
   "outputs": [
    {
     "name": "stdout",
     "output_type": "stream",
     "text": [
      "Accuracy of Logistic Regression: 0.69\n"
     ]
    }
   ],
   "source": [
    "print('Accuracy of Logistic Regression: {:.2f}'.format(accuracy_score(y_test, y_pred_LR)))"
   ],
   "metadata": {
    "collapsed": false,
    "ExecuteTime": {
     "end_time": "2023-08-16T18:34:30.175362700Z",
     "start_time": "2023-08-16T18:34:30.166393500Z"
    }
   },
   "id": "ec33b17eb7681c9a"
  },
  {
   "cell_type": "markdown",
   "source": [
    "## Decision Tree"
   ],
   "metadata": {
    "collapsed": false
   },
   "id": "32fe5592ee2e20ae"
  },
  {
   "cell_type": "code",
   "execution_count": null,
   "outputs": [],
   "source": [
    "DTC = DecisionTreeClassifier()"
   ],
   "metadata": {
    "collapsed": false
   },
   "id": "db5a1486d0ce100d"
  },
  {
   "cell_type": "code",
   "execution_count": null,
   "outputs": [],
   "source": [
    "DTC.fit(X_train, y_train)"
   ],
   "metadata": {
    "collapsed": false
   },
   "id": "ef24b7e8bc2247a1"
  },
  {
   "cell_type": "code",
   "execution_count": 73,
   "outputs": [
    {
     "name": "stdout",
     "output_type": "stream",
     "text": [
      "Prediction time: 2.50 ms\n"
     ]
    }
   ],
   "source": [
    "t0 = time()\n",
    "y_pred_DTC = DTC.predict(X_test)\n",
    "t1 = time()\n",
    "print(\"Prediction time: {:.2f} ms\".format((t1 - t0) * 1000))"
   ],
   "metadata": {
    "collapsed": false,
    "ExecuteTime": {
     "end_time": "2023-08-16T18:29:27.748538300Z",
     "start_time": "2023-08-16T18:29:27.723010200Z"
    }
   },
   "id": "d77475fd4413b092"
  },
  {
   "cell_type": "code",
   "execution_count": 82,
   "outputs": [
    {
     "name": "stdout",
     "output_type": "stream",
     "text": [
      "              precision    recall  f1-score   support\n",
      "\n",
      "           0       0.66      0.65      0.66      1088\n",
      "           1       0.74      0.75      0.75      1449\n",
      "\n",
      "    accuracy                           0.71      2537\n",
      "   macro avg       0.70      0.70      0.70      2537\n",
      "weighted avg       0.71      0.71      0.71      2537\n"
     ]
    }
   ],
   "source": [
    "print(classification_report(y_test, y_pred_DTC))"
   ],
   "metadata": {
    "collapsed": false,
    "ExecuteTime": {
     "end_time": "2023-08-16T18:34:35.518767900Z",
     "start_time": "2023-08-16T18:34:35.460810200Z"
    }
   },
   "id": "ddbc525cc7d888a0"
  },
  {
   "cell_type": "code",
   "execution_count": 83,
   "outputs": [
    {
     "name": "stdout",
     "output_type": "stream",
     "text": [
      "Accuracy of Decision Tree: 0.71\n"
     ]
    }
   ],
   "source": [
    "print('Accuracy of Decision Tree: {:.2f}'.format(accuracy_score(y_test, y_pred_DTC)))"
   ],
   "metadata": {
    "collapsed": false,
    "ExecuteTime": {
     "end_time": "2023-08-16T18:34:38.568476Z",
     "start_time": "2023-08-16T18:34:38.489411500Z"
    }
   },
   "id": "507ab16a2f775e62"
  },
  {
   "cell_type": "markdown",
   "source": [
    "## K-Nearest Neighbors"
   ],
   "metadata": {
    "collapsed": false
   },
   "id": "9bc463843915db3f"
  },
  {
   "cell_type": "code",
   "execution_count": null,
   "outputs": [],
   "source": [
    "KNN = KNeighborsClassifier()"
   ],
   "metadata": {
    "collapsed": false
   },
   "id": "1e09e315100f1c7a"
  },
  {
   "cell_type": "code",
   "execution_count": null,
   "outputs": [],
   "source": [
    "KNN.fit(X_train, y_train)"
   ],
   "metadata": {
    "collapsed": false
   },
   "id": "d9a4d044f0b8e478"
  },
  {
   "cell_type": "code",
   "execution_count": 74,
   "outputs": [
    {
     "name": "stdout",
     "output_type": "stream",
     "text": [
      "Prediction time: 589.50 ms\n"
     ]
    }
   ],
   "source": [
    "t0 = time()\n",
    "y_pred_KNN = KNN.predict(X_test)\n",
    "t1 = time()\n",
    "print(\"Prediction time: {:.2f} ms\".format((t1 - t0) * 1000))"
   ],
   "metadata": {
    "collapsed": false,
    "ExecuteTime": {
     "end_time": "2023-08-16T18:30:01.398272100Z",
     "start_time": "2023-08-16T18:30:00.794446500Z"
    }
   },
   "id": "d472e2b48fe75f9b"
  },
  {
   "cell_type": "code",
   "execution_count": 80,
   "outputs": [
    {
     "name": "stdout",
     "output_type": "stream",
     "text": [
      "              precision    recall  f1-score   support\n",
      "\n",
      "           0       0.64      0.59      0.61      1088\n",
      "           1       0.71      0.75      0.73      1449\n",
      "\n",
      "    accuracy                           0.68      2537\n",
      "   macro avg       0.67      0.67      0.67      2537\n",
      "weighted avg       0.68      0.68      0.68      2537\n"
     ]
    }
   ],
   "source": [
    "print(classification_report(y_test, y_pred_KNN))"
   ],
   "metadata": {
    "collapsed": false,
    "ExecuteTime": {
     "end_time": "2023-08-16T18:33:53.141844400Z",
     "start_time": "2023-08-16T18:33:53.125465900Z"
    }
   },
   "id": "19ec312f8ec0879e"
  },
  {
   "cell_type": "code",
   "execution_count": null,
   "outputs": [],
   "source": [],
   "metadata": {
    "collapsed": false
   },
   "id": "8d7a5c2dc0b66903"
  },
  {
   "cell_type": "markdown",
   "source": [
    "## Gaussian Naive Bayes"
   ],
   "metadata": {
    "collapsed": false
   },
   "id": "d6b895bc8af92959"
  },
  {
   "cell_type": "code",
   "execution_count": null,
   "outputs": [],
   "source": [
    "GNB = GaussianNB()"
   ],
   "metadata": {
    "collapsed": false
   },
   "id": "404ed662d5e44951"
  },
  {
   "cell_type": "code",
   "execution_count": null,
   "outputs": [],
   "source": [
    "GNB.fit(X_train, y_train)"
   ],
   "metadata": {
    "collapsed": false
   },
   "id": "b96f5b4eee8c3b59"
  },
  {
   "cell_type": "code",
   "execution_count": 75,
   "outputs": [
    {
     "name": "stdout",
     "output_type": "stream",
     "text": [
      "Prediction time: 8.66 ms\n"
     ]
    }
   ],
   "source": [
    "t0 = time()\n",
    "y_pred_GNB = GNB.predict(X_test)\n",
    "t1 = time()\n",
    "print(\"Prediction time: {:.2f} ms\".format((t1 - t0) * 1000))"
   ],
   "metadata": {
    "collapsed": false,
    "ExecuteTime": {
     "end_time": "2023-08-16T18:30:43.535311900Z",
     "start_time": "2023-08-16T18:30:43.484579700Z"
    }
   },
   "id": "23efb42ddb732358"
  },
  {
   "cell_type": "code",
   "execution_count": null,
   "outputs": [],
   "source": [
    "print(classification_report(y_test, y_pred_GNB))"
   ],
   "metadata": {
    "collapsed": false
   },
   "id": "1c5db3aafe364394"
  },
  {
   "cell_type": "markdown",
   "source": [
    "## Support Vector Machine"
   ],
   "metadata": {
    "collapsed": false
   },
   "id": "26bd0aec0b6cd7e1"
  },
  {
   "cell_type": "code",
   "execution_count": null,
   "outputs": [],
   "source": [
    "SVM = SVC(kernel=\"rbf\", random_state=None, probability=True, cache_size=500, gamma=0.1)"
   ],
   "metadata": {
    "collapsed": false
   },
   "id": "e277621dbab7bae1"
  },
  {
   "cell_type": "code",
   "execution_count": null,
   "outputs": [],
   "source": [
    "SVM.fit(X_train, y_train)"
   ],
   "metadata": {
    "collapsed": false
   },
   "id": "da1a2eea6951d443"
  },
  {
   "cell_type": "code",
   "execution_count": 76,
   "outputs": [
    {
     "name": "stdout",
     "output_type": "stream",
     "text": [
      "Prediction time: 2914.60 ms\n"
     ]
    }
   ],
   "source": [
    "t0 = time()\n",
    "y_pred_SVM = SVM.predict(X_test)\n",
    "t1 = time()\n",
    "print(\"Prediction time: {:.2f} ms\".format((t1 - t0) * 1000))"
   ],
   "metadata": {
    "collapsed": false,
    "ExecuteTime": {
     "end_time": "2023-08-16T18:30:49.632472300Z",
     "start_time": "2023-08-16T18:30:46.698287100Z"
    }
   },
   "id": "81d28d80c26c4c98"
  },
  {
   "cell_type": "code",
   "execution_count": 77,
   "outputs": [
    {
     "name": "stdout",
     "output_type": "stream",
     "text": [
      "              precision    recall  f1-score   support\n",
      "\n",
      "           0       0.76      0.67      0.71      1088\n",
      "           1       0.77      0.84      0.81      1449\n",
      "\n",
      "    accuracy                           0.77      2537\n",
      "   macro avg       0.77      0.76      0.76      2537\n",
      "weighted avg       0.77      0.77      0.77      2537\n"
     ]
    }
   ],
   "source": [
    "print(classification_report(y_test, y_pred_SVM))"
   ],
   "metadata": {
    "collapsed": false,
    "ExecuteTime": {
     "end_time": "2023-08-16T18:32:53.615937800Z",
     "start_time": "2023-08-16T18:32:53.551193700Z"
    }
   },
   "id": "2d41ab76717db4b8"
  },
  {
   "cell_type": "code",
   "execution_count": 79,
   "outputs": [
    {
     "name": "stdout",
     "output_type": "stream",
     "text": [
      "Accuracy of Logistic Regression: 0.77\n"
     ]
    }
   ],
   "source": [],
   "metadata": {
    "collapsed": false,
    "ExecuteTime": {
     "end_time": "2023-08-16T18:33:35.283745800Z",
     "start_time": "2023-08-16T18:33:35.276742700Z"
    }
   },
   "id": "ca0deb5d23ace732"
  }
 ],
 "metadata": {
  "kernelspec": {
   "display_name": "Python 3",
   "language": "python",
   "name": "python3"
  },
  "language_info": {
   "codemirror_mode": {
    "name": "ipython",
    "version": 2
   },
   "file_extension": ".py",
   "mimetype": "text/x-python",
   "name": "python",
   "nbconvert_exporter": "python",
   "pygments_lexer": "ipython2",
   "version": "2.7.6"
  }
 },
 "nbformat": 4,
 "nbformat_minor": 5
}
