{
 "cells": [
  {
   "cell_type": "code",
   "execution_count": 8,
   "metadata": {
    "collapsed": true,
    "ExecuteTime": {
     "end_time": "2023-06-16T09:17:42.687863900Z",
     "start_time": "2023-06-16T09:17:40.202602500Z"
    }
   },
   "outputs": [],
   "source": [
    "import pandas as pd\n",
    "import matplotlib.pyplot as plt\n",
    "from sklearn import neighbors\n",
    "from sklearn.model_selection import train_test_split\n",
    "from sklearn.metrics import accuracy_score\n",
    "from sklearn.metrics import classification_report"
   ]
  },
  {
   "cell_type": "code",
   "execution_count": 3,
   "outputs": [
    {
     "data": {
      "text/plain": "    Age  EstimatedSalary  Purchased\n0    19            19000          0\n1    35            20000          0\n2    26            43000          0\n3    27            57000          0\n4    19            76000          0\n5    27            58000          0\n6    27            84000          0\n7    32           150000          1\n8    25            33000          0\n9    35            65000          0\n10   26            80000          0\n11   26            52000          0\n12   20            86000          0\n13   32            18000          0\n14   18            82000          0\n15   29            80000          0\n16   47            25000          1\n17   45            26000          1\n18   46            28000          1\n19   48            29000          1\n20   45            22000          1\n21   47            49000          1",
      "text/html": "<div>\n<style scoped>\n    .dataframe tbody tr th:only-of-type {\n        vertical-align: middle;\n    }\n\n    .dataframe tbody tr th {\n        vertical-align: top;\n    }\n\n    .dataframe thead th {\n        text-align: right;\n    }\n</style>\n<table border=\"1\" class=\"dataframe\">\n  <thead>\n    <tr style=\"text-align: right;\">\n      <th></th>\n      <th>Age</th>\n      <th>EstimatedSalary</th>\n      <th>Purchased</th>\n    </tr>\n  </thead>\n  <tbody>\n    <tr>\n      <th>0</th>\n      <td>19</td>\n      <td>19000</td>\n      <td>0</td>\n    </tr>\n    <tr>\n      <th>1</th>\n      <td>35</td>\n      <td>20000</td>\n      <td>0</td>\n    </tr>\n    <tr>\n      <th>2</th>\n      <td>26</td>\n      <td>43000</td>\n      <td>0</td>\n    </tr>\n    <tr>\n      <th>3</th>\n      <td>27</td>\n      <td>57000</td>\n      <td>0</td>\n    </tr>\n    <tr>\n      <th>4</th>\n      <td>19</td>\n      <td>76000</td>\n      <td>0</td>\n    </tr>\n    <tr>\n      <th>5</th>\n      <td>27</td>\n      <td>58000</td>\n      <td>0</td>\n    </tr>\n    <tr>\n      <th>6</th>\n      <td>27</td>\n      <td>84000</td>\n      <td>0</td>\n    </tr>\n    <tr>\n      <th>7</th>\n      <td>32</td>\n      <td>150000</td>\n      <td>1</td>\n    </tr>\n    <tr>\n      <th>8</th>\n      <td>25</td>\n      <td>33000</td>\n      <td>0</td>\n    </tr>\n    <tr>\n      <th>9</th>\n      <td>35</td>\n      <td>65000</td>\n      <td>0</td>\n    </tr>\n    <tr>\n      <th>10</th>\n      <td>26</td>\n      <td>80000</td>\n      <td>0</td>\n    </tr>\n    <tr>\n      <th>11</th>\n      <td>26</td>\n      <td>52000</td>\n      <td>0</td>\n    </tr>\n    <tr>\n      <th>12</th>\n      <td>20</td>\n      <td>86000</td>\n      <td>0</td>\n    </tr>\n    <tr>\n      <th>13</th>\n      <td>32</td>\n      <td>18000</td>\n      <td>0</td>\n    </tr>\n    <tr>\n      <th>14</th>\n      <td>18</td>\n      <td>82000</td>\n      <td>0</td>\n    </tr>\n    <tr>\n      <th>15</th>\n      <td>29</td>\n      <td>80000</td>\n      <td>0</td>\n    </tr>\n    <tr>\n      <th>16</th>\n      <td>47</td>\n      <td>25000</td>\n      <td>1</td>\n    </tr>\n    <tr>\n      <th>17</th>\n      <td>45</td>\n      <td>26000</td>\n      <td>1</td>\n    </tr>\n    <tr>\n      <th>18</th>\n      <td>46</td>\n      <td>28000</td>\n      <td>1</td>\n    </tr>\n    <tr>\n      <th>19</th>\n      <td>48</td>\n      <td>29000</td>\n      <td>1</td>\n    </tr>\n    <tr>\n      <th>20</th>\n      <td>45</td>\n      <td>22000</td>\n      <td>1</td>\n    </tr>\n    <tr>\n      <th>21</th>\n      <td>47</td>\n      <td>49000</td>\n      <td>1</td>\n    </tr>\n  </tbody>\n</table>\n</div>"
     },
     "execution_count": 3,
     "metadata": {},
     "output_type": "execute_result"
    }
   ],
   "source": [
    "df = pd.read_excel('car-man-predict.xlsx')\n",
    "df"
   ],
   "metadata": {
    "collapsed": false,
    "ExecuteTime": {
     "end_time": "2023-06-16T09:09:40.671837500Z",
     "start_time": "2023-06-16T09:09:40.082369500Z"
    }
   }
  },
  {
   "cell_type": "code",
   "execution_count": 4,
   "outputs": [
    {
     "data": {
      "text/plain": "    Age  EstimatedSalary\n0    19            19000\n1    35            20000\n2    26            43000\n3    27            57000\n4    19            76000\n5    27            58000\n6    27            84000\n7    32           150000\n8    25            33000\n9    35            65000\n10   26            80000\n11   26            52000\n12   20            86000\n13   32            18000\n14   18            82000\n15   29            80000\n16   47            25000\n17   45            26000\n18   46            28000\n19   48            29000\n20   45            22000\n21   47            49000",
      "text/html": "<div>\n<style scoped>\n    .dataframe tbody tr th:only-of-type {\n        vertical-align: middle;\n    }\n\n    .dataframe tbody tr th {\n        vertical-align: top;\n    }\n\n    .dataframe thead th {\n        text-align: right;\n    }\n</style>\n<table border=\"1\" class=\"dataframe\">\n  <thead>\n    <tr style=\"text-align: right;\">\n      <th></th>\n      <th>Age</th>\n      <th>EstimatedSalary</th>\n    </tr>\n  </thead>\n  <tbody>\n    <tr>\n      <th>0</th>\n      <td>19</td>\n      <td>19000</td>\n    </tr>\n    <tr>\n      <th>1</th>\n      <td>35</td>\n      <td>20000</td>\n    </tr>\n    <tr>\n      <th>2</th>\n      <td>26</td>\n      <td>43000</td>\n    </tr>\n    <tr>\n      <th>3</th>\n      <td>27</td>\n      <td>57000</td>\n    </tr>\n    <tr>\n      <th>4</th>\n      <td>19</td>\n      <td>76000</td>\n    </tr>\n    <tr>\n      <th>5</th>\n      <td>27</td>\n      <td>58000</td>\n    </tr>\n    <tr>\n      <th>6</th>\n      <td>27</td>\n      <td>84000</td>\n    </tr>\n    <tr>\n      <th>7</th>\n      <td>32</td>\n      <td>150000</td>\n    </tr>\n    <tr>\n      <th>8</th>\n      <td>25</td>\n      <td>33000</td>\n    </tr>\n    <tr>\n      <th>9</th>\n      <td>35</td>\n      <td>65000</td>\n    </tr>\n    <tr>\n      <th>10</th>\n      <td>26</td>\n      <td>80000</td>\n    </tr>\n    <tr>\n      <th>11</th>\n      <td>26</td>\n      <td>52000</td>\n    </tr>\n    <tr>\n      <th>12</th>\n      <td>20</td>\n      <td>86000</td>\n    </tr>\n    <tr>\n      <th>13</th>\n      <td>32</td>\n      <td>18000</td>\n    </tr>\n    <tr>\n      <th>14</th>\n      <td>18</td>\n      <td>82000</td>\n    </tr>\n    <tr>\n      <th>15</th>\n      <td>29</td>\n      <td>80000</td>\n    </tr>\n    <tr>\n      <th>16</th>\n      <td>47</td>\n      <td>25000</td>\n    </tr>\n    <tr>\n      <th>17</th>\n      <td>45</td>\n      <td>26000</td>\n    </tr>\n    <tr>\n      <th>18</th>\n      <td>46</td>\n      <td>28000</td>\n    </tr>\n    <tr>\n      <th>19</th>\n      <td>48</td>\n      <td>29000</td>\n    </tr>\n    <tr>\n      <th>20</th>\n      <td>45</td>\n      <td>22000</td>\n    </tr>\n    <tr>\n      <th>21</th>\n      <td>47</td>\n      <td>49000</td>\n    </tr>\n  </tbody>\n</table>\n</div>"
     },
     "execution_count": 4,
     "metadata": {},
     "output_type": "execute_result"
    }
   ],
   "source": [
    "features = df[[\"Age\", \"EstimatedSalary\"]]\n",
    "features"
   ],
   "metadata": {
    "collapsed": false,
    "ExecuteTime": {
     "end_time": "2023-06-16T09:15:34.087890300Z",
     "start_time": "2023-06-16T09:15:34.076971Z"
    }
   }
  },
  {
   "cell_type": "code",
   "execution_count": 6,
   "outputs": [
    {
     "data": {
      "text/plain": "0     0\n1     0\n2     0\n3     0\n4     0\n5     0\n6     0\n7     1\n8     0\n9     0\n10    0\n11    0\n12    0\n13    0\n14    0\n15    0\n16    1\n17    1\n18    1\n19    1\n20    1\n21    1\nName: Purchased, dtype: int64"
     },
     "execution_count": 6,
     "metadata": {},
     "output_type": "execute_result"
    }
   ],
   "source": [
    "target = df[\"Purchased\"]\n",
    "target"
   ],
   "metadata": {
    "collapsed": false,
    "ExecuteTime": {
     "end_time": "2023-06-16T09:15:45.607932300Z",
     "start_time": "2023-06-16T09:15:45.595413900Z"
    }
   }
  },
  {
   "cell_type": "code",
   "execution_count": 9,
   "outputs": [],
   "source": [
    "train_features, test_features, train_target, test_target = train_test_split(features, target, test_size = 2)"
   ],
   "metadata": {
    "collapsed": false,
    "ExecuteTime": {
     "end_time": "2023-06-16T09:17:44.700969100Z",
     "start_time": "2023-06-16T09:17:44.684209500Z"
    }
   }
  },
  {
   "cell_type": "code",
   "execution_count": 10,
   "outputs": [
    {
     "name": "stdout",
     "output_type": "stream",
     "text": [
      "Training features size:  (20, 2)\n",
      "Training target size:  (20,)\n"
     ]
    }
   ],
   "source": [
    "print(\"Training features size: \", train_features.shape)\n",
    "print(\"Training target size: \", train_target.shape)"
   ],
   "metadata": {
    "collapsed": false,
    "ExecuteTime": {
     "end_time": "2023-06-16T09:18:00.965404100Z",
     "start_time": "2023-06-16T09:18:00.954201700Z"
    }
   }
  },
  {
   "cell_type": "code",
   "execution_count": 11,
   "outputs": [
    {
     "name": "stdout",
     "output_type": "stream",
     "text": [
      "Testing features size:  (2, 2)\n",
      "Testing target size:  (2,)\n"
     ]
    }
   ],
   "source": [
    "print(\"Testing features size: \", test_features.shape)\n",
    "print(\"Testing target size: \", test_target.shape)"
   ],
   "metadata": {
    "collapsed": false,
    "ExecuteTime": {
     "end_time": "2023-06-16T09:18:07.683431Z",
     "start_time": "2023-06-16T09:18:07.666835600Z"
    }
   }
  },
  {
   "cell_type": "code",
   "execution_count": null,
   "outputs": [],
   "source": [
    "model = neighbors.KNeighborsClassifier(n_neighbors = 3)"
   ],
   "metadata": {
    "collapsed": false
   }
  }
 ],
 "metadata": {
  "kernelspec": {
   "display_name": "Python 3",
   "language": "python",
   "name": "python3"
  },
  "language_info": {
   "codemirror_mode": {
    "name": "ipython",
    "version": 2
   },
   "file_extension": ".py",
   "mimetype": "text/x-python",
   "name": "python",
   "nbconvert_exporter": "python",
   "pygments_lexer": "ipython2",
   "version": "2.7.6"
  }
 },
 "nbformat": 4,
 "nbformat_minor": 0
}
