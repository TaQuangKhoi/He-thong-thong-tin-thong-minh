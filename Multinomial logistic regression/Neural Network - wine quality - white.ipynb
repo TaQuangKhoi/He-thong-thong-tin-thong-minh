{
 "cells": [
  {
   "cell_type": "code",
   "execution_count": 19,
   "id": "initial_id",
   "metadata": {
    "collapsed": true,
    "ExecuteTime": {
     "end_time": "2023-08-04T06:18:54.590787800Z",
     "start_time": "2023-08-04T06:18:54.355934200Z"
    }
   },
   "outputs": [],
   "source": [
    "import math as m\n",
    "import pandas as pd\n",
    "import numpy as np\n",
    "import matplotlib.pyplot as plt\n",
    "from sklearn.neural_network import MLPClassifier\n",
    "from sklearn.model_selection import train_test_split\n",
    "from sklearn.metrics import accuracy_score\n",
    "from sklearn.metrics import classification_report\n",
    "import seaborn as sns"
   ]
  },
  {
   "cell_type": "code",
   "execution_count": 20,
   "outputs": [],
   "source": [
    "df = pd.read_csv('winequality-white.csv')"
   ],
   "metadata": {
    "collapsed": false,
    "ExecuteTime": {
     "end_time": "2023-08-04T06:18:54.633483300Z",
     "start_time": "2023-08-04T06:18:54.376603700Z"
    }
   },
   "id": "c15a59e1b98bb8d6"
  },
  {
   "cell_type": "code",
   "execution_count": 21,
   "outputs": [
    {
     "data": {
      "text/plain": "      fixed acidity  volatile acidity  citric acid  residual sugar  chlorides  \\\n0               7.0              0.27         0.36            20.7      0.045   \n1               6.3              0.30         0.34             1.6      0.049   \n2               8.1              0.28         0.40             6.9      0.050   \n3               7.2              0.23         0.32             8.5      0.058   \n4               7.2              0.23         0.32             8.5      0.058   \n...             ...               ...          ...             ...        ...   \n4893            6.2              0.21         0.29             1.6      0.039   \n4894            6.6              0.32         0.36             8.0      0.047   \n4895            6.5              0.24         0.19             1.2      0.041   \n4896            5.5              0.29         0.30             1.1      0.022   \n4897            6.0              0.21         0.38             0.8      0.020   \n\n      free sulfur dioxide  total sulfur dioxide  density    pH  sulphates  \\\n0                    45.0                 170.0  1.00100  3.00       0.45   \n1                    14.0                 132.0  0.99400  3.30       0.49   \n2                    30.0                  97.0  0.99510  3.26       0.44   \n3                    47.0                 186.0  0.99560  3.19       0.40   \n4                    47.0                 186.0  0.99560  3.19       0.40   \n...                   ...                   ...      ...   ...        ...   \n4893                 24.0                  92.0  0.99114  3.27       0.50   \n4894                 57.0                 168.0  0.99490  3.15       0.46   \n4895                 30.0                 111.0  0.99254  2.99       0.46   \n4896                 20.0                 110.0  0.98869  3.34       0.38   \n4897                 22.0                  98.0  0.98941  3.26       0.32   \n\n      alcohol  quality  \n0         8.8        6  \n1         9.5        6  \n2        10.1        6  \n3         9.9        6  \n4         9.9        6  \n...       ...      ...  \n4893     11.2        6  \n4894      9.6        5  \n4895      9.4        6  \n4896     12.8        7  \n4897     11.8        6  \n\n[4898 rows x 12 columns]",
      "text/html": "<div>\n<style scoped>\n    .dataframe tbody tr th:only-of-type {\n        vertical-align: middle;\n    }\n\n    .dataframe tbody tr th {\n        vertical-align: top;\n    }\n\n    .dataframe thead th {\n        text-align: right;\n    }\n</style>\n<table border=\"1\" class=\"dataframe\">\n  <thead>\n    <tr style=\"text-align: right;\">\n      <th></th>\n      <th>fixed acidity</th>\n      <th>volatile acidity</th>\n      <th>citric acid</th>\n      <th>residual sugar</th>\n      <th>chlorides</th>\n      <th>free sulfur dioxide</th>\n      <th>total sulfur dioxide</th>\n      <th>density</th>\n      <th>pH</th>\n      <th>sulphates</th>\n      <th>alcohol</th>\n      <th>quality</th>\n    </tr>\n  </thead>\n  <tbody>\n    <tr>\n      <th>0</th>\n      <td>7.0</td>\n      <td>0.27</td>\n      <td>0.36</td>\n      <td>20.7</td>\n      <td>0.045</td>\n      <td>45.0</td>\n      <td>170.0</td>\n      <td>1.00100</td>\n      <td>3.00</td>\n      <td>0.45</td>\n      <td>8.8</td>\n      <td>6</td>\n    </tr>\n    <tr>\n      <th>1</th>\n      <td>6.3</td>\n      <td>0.30</td>\n      <td>0.34</td>\n      <td>1.6</td>\n      <td>0.049</td>\n      <td>14.0</td>\n      <td>132.0</td>\n      <td>0.99400</td>\n      <td>3.30</td>\n      <td>0.49</td>\n      <td>9.5</td>\n      <td>6</td>\n    </tr>\n    <tr>\n      <th>2</th>\n      <td>8.1</td>\n      <td>0.28</td>\n      <td>0.40</td>\n      <td>6.9</td>\n      <td>0.050</td>\n      <td>30.0</td>\n      <td>97.0</td>\n      <td>0.99510</td>\n      <td>3.26</td>\n      <td>0.44</td>\n      <td>10.1</td>\n      <td>6</td>\n    </tr>\n    <tr>\n      <th>3</th>\n      <td>7.2</td>\n      <td>0.23</td>\n      <td>0.32</td>\n      <td>8.5</td>\n      <td>0.058</td>\n      <td>47.0</td>\n      <td>186.0</td>\n      <td>0.99560</td>\n      <td>3.19</td>\n      <td>0.40</td>\n      <td>9.9</td>\n      <td>6</td>\n    </tr>\n    <tr>\n      <th>4</th>\n      <td>7.2</td>\n      <td>0.23</td>\n      <td>0.32</td>\n      <td>8.5</td>\n      <td>0.058</td>\n      <td>47.0</td>\n      <td>186.0</td>\n      <td>0.99560</td>\n      <td>3.19</td>\n      <td>0.40</td>\n      <td>9.9</td>\n      <td>6</td>\n    </tr>\n    <tr>\n      <th>...</th>\n      <td>...</td>\n      <td>...</td>\n      <td>...</td>\n      <td>...</td>\n      <td>...</td>\n      <td>...</td>\n      <td>...</td>\n      <td>...</td>\n      <td>...</td>\n      <td>...</td>\n      <td>...</td>\n      <td>...</td>\n    </tr>\n    <tr>\n      <th>4893</th>\n      <td>6.2</td>\n      <td>0.21</td>\n      <td>0.29</td>\n      <td>1.6</td>\n      <td>0.039</td>\n      <td>24.0</td>\n      <td>92.0</td>\n      <td>0.99114</td>\n      <td>3.27</td>\n      <td>0.50</td>\n      <td>11.2</td>\n      <td>6</td>\n    </tr>\n    <tr>\n      <th>4894</th>\n      <td>6.6</td>\n      <td>0.32</td>\n      <td>0.36</td>\n      <td>8.0</td>\n      <td>0.047</td>\n      <td>57.0</td>\n      <td>168.0</td>\n      <td>0.99490</td>\n      <td>3.15</td>\n      <td>0.46</td>\n      <td>9.6</td>\n      <td>5</td>\n    </tr>\n    <tr>\n      <th>4895</th>\n      <td>6.5</td>\n      <td>0.24</td>\n      <td>0.19</td>\n      <td>1.2</td>\n      <td>0.041</td>\n      <td>30.0</td>\n      <td>111.0</td>\n      <td>0.99254</td>\n      <td>2.99</td>\n      <td>0.46</td>\n      <td>9.4</td>\n      <td>6</td>\n    </tr>\n    <tr>\n      <th>4896</th>\n      <td>5.5</td>\n      <td>0.29</td>\n      <td>0.30</td>\n      <td>1.1</td>\n      <td>0.022</td>\n      <td>20.0</td>\n      <td>110.0</td>\n      <td>0.98869</td>\n      <td>3.34</td>\n      <td>0.38</td>\n      <td>12.8</td>\n      <td>7</td>\n    </tr>\n    <tr>\n      <th>4897</th>\n      <td>6.0</td>\n      <td>0.21</td>\n      <td>0.38</td>\n      <td>0.8</td>\n      <td>0.020</td>\n      <td>22.0</td>\n      <td>98.0</td>\n      <td>0.98941</td>\n      <td>3.26</td>\n      <td>0.32</td>\n      <td>11.8</td>\n      <td>6</td>\n    </tr>\n  </tbody>\n</table>\n<p>4898 rows × 12 columns</p>\n</div>"
     },
     "execution_count": 21,
     "metadata": {},
     "output_type": "execute_result"
    }
   ],
   "source": [
    "df"
   ],
   "metadata": {
    "collapsed": false,
    "ExecuteTime": {
     "end_time": "2023-08-04T06:18:54.701632500Z",
     "start_time": "2023-08-04T06:18:54.401767400Z"
    }
   },
   "id": "c9be23784644081d"
  },
  {
   "cell_type": "markdown",
   "source": [
    "# Vẽ đồ thị phân bổ dữ liệu quality và số lượng mẫu"
   ],
   "metadata": {
    "collapsed": false
   },
   "id": "8eaca16b96f5d182"
  },
  {
   "cell_type": "code",
   "execution_count": null,
   "outputs": [],
   "source": [
    "sns.countplot(x='quality', data=df, palette='hls')\n",
    "plt.show()"
   ],
   "metadata": {
    "collapsed": false,
    "is_executing": true,
    "ExecuteTime": {
     "start_time": "2023-08-04T06:18:54.433259100Z"
    }
   },
   "id": "5ae61c181a505f8f"
  },
  {
   "cell_type": "code",
   "execution_count": null,
   "outputs": [],
   "source": [
    "c = []\n",
    "for q in df['quality'].values:\n",
    "    if q < 6:\n",
    "        c.append(0)\n",
    "    elif q > 6:\n",
    "        c.append(2)\n",
    "    else:\n",
    "        c.append(1)\n",
    "\n",
    "df['category'] = c\n",
    "df.head()"
   ],
   "metadata": {
    "collapsed": false,
    "is_executing": true
   },
   "id": "4fbd3001aed63290"
  },
  {
   "cell_type": "markdown",
   "source": [
    "# Vẽ đồ thị phân bổ dữ liệu category và số lượng mẫu"
   ],
   "metadata": {
    "collapsed": false
   },
   "id": "51327018310ecc3e"
  },
  {
   "cell_type": "code",
   "execution_count": null,
   "outputs": [],
   "source": [
    "sns.countplot(x='category', data=df, palette='hls')\n",
    "plt.show()"
   ],
   "metadata": {
    "collapsed": false,
    "is_executing": true
   },
   "id": "66481613e03bd520"
  },
  {
   "cell_type": "markdown",
   "source": [
    "# Giá trị Đặc trưng, gán data_features giá trị từ các cột dữ liệu"
   ],
   "metadata": {
    "collapsed": false
   },
   "id": "56319ce15d98f7ea"
  },
  {
   "cell_type": "code",
   "execution_count": null,
   "outputs": [],
   "source": [
    "data_features = df.columns.values.tolist()\n",
    "print(data_features)"
   ],
   "metadata": {
    "collapsed": false,
    "is_executing": true
   },
   "id": "6dd6fc52da35ec73"
  },
  {
   "cell_type": "code",
   "execution_count": null,
   "outputs": [],
   "source": [
    "remove_features = ['quality']\n",
    "to_keep_features = [feature for feature in data_features if feature not in remove_features]\n",
    "data_final = df[to_keep_features]\n",
    "data_final.head()"
   ],
   "metadata": {
    "collapsed": false,
    "is_executing": true
   },
   "id": "441cadc49fe0936"
  },
  {
   "cell_type": "markdown",
   "source": [
    "# Chuyển dữ liệu thành mảng"
   ],
   "metadata": {
    "collapsed": false
   },
   "id": "a80f812292226c88"
  },
  {
   "cell_type": "code",
   "execution_count": null,
   "outputs": [],
   "source": [
    "X = np.array(df.loc[:, df.columns != 'category'])\n",
    "print(X)"
   ],
   "metadata": {
    "collapsed": false,
    "is_executing": true
   },
   "id": "5d4fb016f7b785b0"
  },
  {
   "cell_type": "code",
   "execution_count": null,
   "outputs": [],
   "source": [
    "y = np.array(df.loc[:, df.columns == 'category'])\n",
    "print(y)"
   ],
   "metadata": {
    "collapsed": false,
    "is_executing": true
   },
   "id": "e217b82f7e10815e"
  },
  {
   "cell_type": "markdown",
   "source": [
    "# Tách dữ liệu train và test"
   ],
   "metadata": {
    "collapsed": false
   },
   "id": "74a8bff91677ec55"
  },
  {
   "cell_type": "code",
   "execution_count": null,
   "outputs": [],
   "source": [
    "# X = df.drop('quality', axis=1)"
   ],
   "metadata": {
    "collapsed": false,
    "is_executing": true
   },
   "id": "bb6437558e190220"
  },
  {
   "cell_type": "code",
   "execution_count": null,
   "outputs": [],
   "source": [
    "# y = df['quality']"
   ],
   "metadata": {
    "collapsed": false,
    "is_executing": true
   },
   "id": "4a221c4481cda9f3"
  },
  {
   "cell_type": "code",
   "execution_count": null,
   "outputs": [],
   "source": [
    "train_features, test_features, train_targets, test_targets = train_test_split(X, y, test_size=0.3, random_state=0)\n",
    "print('##### Training and test datasets sizes #####')\n",
    "print('Train features shape:', len(train_targets))\n",
    "print(\"Test size:\", len(test_targets))"
   ],
   "metadata": {
    "collapsed": false,
    "is_executing": true
   },
   "id": "ff587cc0cf46ee0f"
  },
  {
   "cell_type": "markdown",
   "source": [
    "# Biến đổi kích thước ma trận dữ liệu huấn luyện, kiểm tra"
   ],
   "metadata": {
    "collapsed": false
   },
   "id": "37f3f211fc0e6bdd"
  },
  {
   "cell_type": "code",
   "execution_count": null,
   "outputs": [],
   "source": [
    "train_targets = train_targets.reshape(train_targets.shape[0])\n",
    "test_targets = test_targets.reshape(test_targets.shape[0])\n",
    "print(train_targets)"
   ],
   "metadata": {
    "collapsed": false,
    "is_executing": true
   },
   "id": "8f3afb6bea6b58b3"
  },
  {
   "cell_type": "markdown",
   "source": [
    "# Tạo mô hình sử dụng thuật toán Softmax Regression, huấn luyện mô hình"
   ],
   "metadata": {
    "collapsed": false
   },
   "id": "799afbb6693c3a56"
  },
  {
   "cell_type": "code",
   "execution_count": null,
   "outputs": [],
   "source": [
    "mlpClassifier50 = MLPClassifier(solver='lbfgs', alpha=1e-5, hidden_layer_sizes=(5,), random_state=1, max_iter=1000000)"
   ],
   "metadata": {
    "collapsed": false,
    "is_executing": true
   },
   "id": "1c813606eb39fa63"
  },
  {
   "cell_type": "code",
   "execution_count": null,
   "outputs": [],
   "source": [
    "mlpClassifier50.fit(train_features, train_targets)"
   ],
   "metadata": {
    "collapsed": false,
    "is_executing": true
   },
   "id": "48138b06ac2e45ef"
  },
  {
   "cell_type": "code",
   "execution_count": null,
   "outputs": [],
   "source": [
    "predictions = mlpClassifier50.predict(test_features)\n",
    "print(mlpClassifier50.coefs_)\n",
    "print(mlpClassifier50.intercepts_)"
   ],
   "metadata": {
    "collapsed": false,
    "is_executing": true
   },
   "id": "65e90d8273c1b079"
  },
  {
   "cell_type": "markdown",
   "source": [
    "# Hiển thị nhãn và độ chính xác của mô hình đối với tập huấn luyện"
   ],
   "metadata": {
    "collapsed": false
   },
   "id": "9c91ca178daf45d9"
  },
  {
   "cell_type": "code",
   "execution_count": null,
   "outputs": [],
   "source": [
    "train_predictions = mlpClassifier50.predict(train_features)\n",
    "print(\"##### Trainding - Predictions result of Softmax Regression #####\")\n",
    "print(\"Target labels:\", train_targets)\n",
    "print(\"Predictions:\", train_predictions)"
   ],
   "metadata": {
    "collapsed": false,
    "is_executing": true
   },
   "id": "6df1bd42f27d0496"
  },
  {
   "cell_type": "code",
   "execution_count": null,
   "outputs": [],
   "source": [
    "print(\"Accuracy:\", accuracy_score(train_targets, train_predictions))"
   ],
   "metadata": {
    "collapsed": false,
    "is_executing": true
   },
   "id": "7ad3fce3bb51490"
  },
  {
   "cell_type": "code",
   "execution_count": null,
   "outputs": [],
   "source": [
    "print(\"Classification report:\\n\", classification_report(train_targets, train_predictions))"
   ],
   "metadata": {
    "collapsed": false,
    "is_executing": true
   },
   "id": "11aac4325dde6556"
  }
 ],
 "metadata": {
  "kernelspec": {
   "display_name": "Python 3",
   "language": "python",
   "name": "python3"
  },
  "language_info": {
   "codemirror_mode": {
    "name": "ipython",
    "version": 2
   },
   "file_extension": ".py",
   "mimetype": "text/x-python",
   "name": "python",
   "nbconvert_exporter": "python",
   "pygments_lexer": "ipython2",
   "version": "2.7.6"
  }
 },
 "nbformat": 4,
 "nbformat_minor": 5
}
