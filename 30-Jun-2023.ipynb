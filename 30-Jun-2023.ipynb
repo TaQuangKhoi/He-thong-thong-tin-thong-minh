{
 "cells": [
  {
   "cell_type": "markdown",
   "source": [
    "# Q1: Create 1D from 0 to 9 => b"
   ],
   "metadata": {
    "collapsed": false
   }
  },
  {
   "cell_type": "code",
   "execution_count": 4,
   "outputs": [
    {
     "data": {
      "text/plain": "array([0, 1, 2, 3, 4, 5, 6, 7, 8, 9])"
     },
     "execution_count": 4,
     "metadata": {},
     "output_type": "execute_result"
    }
   ],
   "source": [
    "import numpy as np\n",
    "a = np.arange(0, 10, 1) # numpy.arange([start, ]stop, [step, ]dtype=None, *, like=None)\n",
    "a"
   ],
   "metadata": {
    "collapsed": false,
    "ExecuteTime": {
     "end_time": "2023-06-30T00:46:10.658970400Z",
     "start_time": "2023-06-30T00:46:10.644788Z"
    }
   }
  },
  {
   "cell_type": "markdown",
   "source": [
    "# Q2: Create 3x3 numpy array with all True values => c"
   ],
   "metadata": {
    "collapsed": false
   }
  },
  {
   "cell_type": "code",
   "execution_count": 5,
   "outputs": [
    {
     "data": {
      "text/plain": "array([[ True,  True,  True],\n       [ True,  True,  True],\n       [ True,  True,  True]])"
     },
     "execution_count": 5,
     "metadata": {},
     "output_type": "execute_result"
    }
   ],
   "source": [
    "import numpy as np\n",
    "a = np.full((3, 3), True, dtype=bool) # numpy.full(shape, fill_value, dtype=None, order='C', *, like=None)\n",
    "a"
   ],
   "metadata": {
    "collapsed": false,
    "ExecuteTime": {
     "end_time": "2023-06-30T00:48:06.353975900Z",
     "start_time": "2023-06-30T00:48:06.296871600Z"
    }
   }
  },
  {
   "cell_type": "markdown",
   "source": [
    "# Q3: Result of the code => a"
   ],
   "metadata": {
    "collapsed": false
   }
  },
  {
   "cell_type": "code",
   "execution_count": 6,
   "outputs": [
    {
     "data": {
      "text/plain": "array([1, 3, 5, 7, 9])"
     },
     "execution_count": 6,
     "metadata": {},
     "output_type": "execute_result"
    }
   ],
   "source": [
    "import numpy as np\n",
    "arr = np.arange(0, 10)\n",
    "arr[arr % 2 == 1] # Lấy các số chia cho 2 mà dư 1"
   ],
   "metadata": {
    "collapsed": false,
    "ExecuteTime": {
     "end_time": "2023-06-30T00:49:05.411951800Z",
     "start_time": "2023-06-30T00:49:05.364952800Z"
    }
   }
  },
  {
   "cell_type": "markdown",
   "source": [
    "# Q4: Replace all odd numbers in arr with -1 => b"
   ],
   "metadata": {
    "collapsed": false
   }
  }
 ],
 "metadata": {
  "kernelspec": {
   "display_name": "Python 3",
   "language": "python",
   "name": "python3"
  },
  "language_info": {
   "codemirror_mode": {
    "name": "ipython",
    "version": 2
   },
   "file_extension": ".py",
   "mimetype": "text/x-python",
   "name": "python",
   "nbconvert_exporter": "python",
   "pygments_lexer": "ipython2",
   "version": "2.7.6"
  }
 },
 "nbformat": 4,
 "nbformat_minor": 0
}
