{
 "cells": [
  {
   "cell_type": "markdown",
   "source": [
    "# Q1: Create 1D from 0 to 9 => b"
   ],
   "metadata": {
    "collapsed": false
   }
  },
  {
   "cell_type": "code",
   "execution_count": 4,
   "outputs": [
    {
     "data": {
      "text/plain": "array([0, 1, 2, 3, 4, 5, 6, 7, 8, 9])"
     },
     "execution_count": 4,
     "metadata": {},
     "output_type": "execute_result"
    }
   ],
   "source": [
    "import numpy as np\n",
    "a = np.arange(0, 10, 1) # numpy.arange([start, ]stop, [step, ]dtype=None, *, like=None)\n",
    "a"
   ],
   "metadata": {
    "collapsed": false,
    "ExecuteTime": {
     "end_time": "2023-06-30T00:46:10.658970400Z",
     "start_time": "2023-06-30T00:46:10.644788Z"
    }
   }
  },
  {
   "cell_type": "markdown",
   "source": [
    "# Q2: Create 3x3 numpy array with all True values => d"
   ],
   "metadata": {
    "collapsed": false
   }
  },
  {
   "cell_type": "code",
   "execution_count": 11,
   "outputs": [
    {
     "data": {
      "text/plain": "array([[ True,  True,  True],\n       [ True,  True,  True],\n       [ True,  True,  True]])"
     },
     "execution_count": 11,
     "metadata": {},
     "output_type": "execute_result"
    }
   ],
   "source": [
    "import numpy as np\n",
    "a = np.full((3, 3), True, dtype=bool) # numpy.full(shape, fill_value, dtype=None, order='C', *, like=None)\n",
    "a1 = np.ones((3, 3), dtype=bool) # numpy.ones(shape, dtype=None, order='C', *, like=None)\n",
    "a2 = np.ones((3, 3)) > 0\n",
    "a2"
   ],
   "metadata": {
    "collapsed": false,
    "ExecuteTime": {
     "end_time": "2023-06-30T00:59:11.844074300Z",
     "start_time": "2023-06-30T00:59:11.822935300Z"
    }
   }
  },
  {
   "cell_type": "markdown",
   "source": [
    "# Q3: Result of the code => a"
   ],
   "metadata": {
    "collapsed": false
   }
  },
  {
   "cell_type": "code",
   "execution_count": 6,
   "outputs": [
    {
     "data": {
      "text/plain": "array([1, 3, 5, 7, 9])"
     },
     "execution_count": 6,
     "metadata": {},
     "output_type": "execute_result"
    }
   ],
   "source": [
    "import numpy as np\n",
    "arr = np.arange(0, 10)\n",
    "arr[arr % 2 == 1] # Lấy các số chia cho 2 mà dư 1"
   ],
   "metadata": {
    "collapsed": false,
    "ExecuteTime": {
     "end_time": "2023-06-30T00:49:05.411951800Z",
     "start_time": "2023-06-30T00:49:05.364952800Z"
    }
   }
  },
  {
   "cell_type": "markdown",
   "source": [
    "# Q4: Result of the code"
   ],
   "metadata": {
    "collapsed": false
   }
  },
  {
   "cell_type": "code",
   "execution_count": 7,
   "outputs": [
    {
     "data": {
      "text/plain": "array([ 0, -1,  2, -1,  4, -1,  6, -1,  8, -1])"
     },
     "execution_count": 7,
     "metadata": {},
     "output_type": "execute_result"
    }
   ],
   "source": [
    "import numpy as np\n",
    "arr = np.arange(0, 10)\n",
    "arr[arr % 2 == 1] = -1 # Lấy các số chia cho 2 mà dư 1 và gán = -1\n",
    "arr"
   ],
   "metadata": {
    "collapsed": false,
    "ExecuteTime": {
     "end_time": "2023-06-30T00:55:12.118193200Z",
     "start_time": "2023-06-30T00:55:12.105068400Z"
    }
   }
  },
  {
   "cell_type": "markdown",
   "source": [
    "# Q5: Result of the code => b"
   ],
   "metadata": {
    "collapsed": false
   }
  },
  {
   "cell_type": "code",
   "execution_count": 8,
   "outputs": [
    {
     "data": {
      "text/plain": "array([[0, 1, 2, 3, 4],\n       [5, 6, 7, 8, 9]])"
     },
     "execution_count": 8,
     "metadata": {},
     "output_type": "execute_result"
    }
   ],
   "source": [
    "import numpy as np\n",
    "arr = np.arange(10)\n",
    "arr_2d = arr.reshape(2, -1) # arr.reshape(2, -1) => arr.reshape(2, 5)\n",
    "arr_2d"
   ],
   "metadata": {
    "collapsed": false,
    "ExecuteTime": {
     "end_time": "2023-06-30T00:56:14.166959Z",
     "start_time": "2023-06-30T00:56:14.154402500Z"
    }
   }
  },
  {
   "cell_type": "markdown",
   "source": [
    "# Q6: Result of the code => c"
   ],
   "metadata": {
    "collapsed": false
   }
  },
  {
   "cell_type": "code",
   "execution_count": 9,
   "outputs": [
    {
     "data": {
      "text/plain": "array([[0, 1, 2, 3, 4],\n       [5, 6, 7, 8, 9],\n       [1, 1, 1, 1, 1],\n       [1, 1, 1, 1, 1]])"
     },
     "execution_count": 9,
     "metadata": {},
     "output_type": "execute_result"
    }
   ],
   "source": [
    "import numpy as np\n",
    "arr1 = np.arange(10).reshape(2, -1) # Lấy mảng từ 0-9 và chuyển thành mảng 2 chiều\n",
    "arr2 = np.repeat(1, 10).reshape(2, -1) # Lấy mảng gồm 10 số 1 và chuyển thành mảng 2 chiều\n",
    "c = np.concatenate([arr1, arr2], axis=0) # axis = 0 => nối theo chiều dọc\n",
    "c"
   ],
   "metadata": {
    "collapsed": false,
    "ExecuteTime": {
     "end_time": "2023-06-30T00:57:17.563119900Z",
     "start_time": "2023-06-30T00:57:17.515795100Z"
    }
   }
  },
  {
   "cell_type": "markdown",
   "source": [
    "# Q7: Result of the code => a"
   ],
   "metadata": {
    "collapsed": false
   }
  },
  {
   "cell_type": "code",
   "execution_count": 12,
   "outputs": [
    {
     "data": {
      "text/plain": "array([[0, 1, 2, 3, 4, 1, 1, 1, 1, 1],\n       [5, 6, 7, 8, 9, 1, 1, 1, 1, 1]])"
     },
     "execution_count": 12,
     "metadata": {},
     "output_type": "execute_result"
    }
   ],
   "source": [
    "import numpy as np\n",
    "arr1 = np.arange(10).reshape(2, -1)\n",
    "arr2 = np.repeat(1, 10).reshape(2, -1)\n",
    "c = np.concatenate([arr1, arr2], axis=1) # axis = 1 => nối theo chiều ngang\n",
    "c"
   ],
   "metadata": {
    "collapsed": false,
    "ExecuteTime": {
     "end_time": "2023-06-30T01:00:19.242436900Z",
     "start_time": "2023-06-30T01:00:19.209684900Z"
    }
   }
  },
  {
   "cell_type": "markdown",
   "source": [
    "# Q8: Result of the code => b"
   ],
   "metadata": {
    "collapsed": false
   }
  },
  {
   "cell_type": "code",
   "execution_count": 15,
   "outputs": [
    {
     "name": "stdout",
     "output_type": "stream",
     "text": [
      "[1 1 1 2 2 2 3 3 3]\n",
      "[1 2 3 1 2 3 1 2 3]\n"
     ]
    }
   ],
   "source": [
    "import numpy as np\n",
    "arr = np.array([1, 2, 3])\n",
    "print(np.repeat(arr, 3))\n",
    "print(np.tile(arr, 3))"
   ],
   "metadata": {
    "collapsed": false,
    "ExecuteTime": {
     "end_time": "2023-06-30T01:01:42.976334200Z",
     "start_time": "2023-06-30T01:01:42.934584200Z"
    }
   }
  },
  {
   "cell_type": "markdown",
   "source": [],
   "metadata": {
    "collapsed": false
   }
  },
  {
   "cell_type": "markdown",
   "source": [],
   "metadata": {
    "collapsed": false
   }
  }
 ],
 "metadata": {
  "kernelspec": {
   "display_name": "Python 3",
   "language": "python",
   "name": "python3"
  },
  "language_info": {
   "codemirror_mode": {
    "name": "ipython",
    "version": 2
   },
   "file_extension": ".py",
   "mimetype": "text/x-python",
   "name": "python",
   "nbconvert_exporter": "python",
   "pygments_lexer": "ipython2",
   "version": "2.7.6"
  }
 },
 "nbformat": 4,
 "nbformat_minor": 0
}
