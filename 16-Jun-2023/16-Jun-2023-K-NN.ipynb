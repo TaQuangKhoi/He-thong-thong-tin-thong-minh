{
 "cells": [
  {
   "cell_type": "code",
   "execution_count": 4,
   "metadata": {
    "collapsed": true,
    "ExecuteTime": {
     "end_time": "2023-07-01T05:30:34.385621400Z",
     "start_time": "2023-07-01T05:30:32.989682600Z"
    }
   },
   "outputs": [],
   "source": [
    "import pandas as pd"
   ]
  },
  {
   "cell_type": "code",
   "execution_count": 6,
   "outputs": [
    {
     "data": {
      "text/plain": "     X     Y  Distance  Rank  Nearest Neighbor Value\n0  1.0  23.0       5.5   5.0                     NaN\n1  1.2  17.0       5.3   4.0                     NaN\n2  3.2  12.0       3.3   3.0                     NaN\n3  4.0  27.0       2.5   2.0                    27.0\n4  5.1   8.0       1.4   1.0                     8.0\n5  6.5  17.5       NaN   NaN                     NaN",
      "text/html": "<div>\n<style scoped>\n    .dataframe tbody tr th:only-of-type {\n        vertical-align: middle;\n    }\n\n    .dataframe tbody tr th {\n        vertical-align: top;\n    }\n\n    .dataframe thead th {\n        text-align: right;\n    }\n</style>\n<table border=\"1\" class=\"dataframe\">\n  <thead>\n    <tr style=\"text-align: right;\">\n      <th></th>\n      <th>X</th>\n      <th>Y</th>\n      <th>Distance</th>\n      <th>Rank</th>\n      <th>Nearest Neighbor Value</th>\n    </tr>\n  </thead>\n  <tbody>\n    <tr>\n      <th>0</th>\n      <td>1.0</td>\n      <td>23.0</td>\n      <td>5.5</td>\n      <td>5.0</td>\n      <td>NaN</td>\n    </tr>\n    <tr>\n      <th>1</th>\n      <td>1.2</td>\n      <td>17.0</td>\n      <td>5.3</td>\n      <td>4.0</td>\n      <td>NaN</td>\n    </tr>\n    <tr>\n      <th>2</th>\n      <td>3.2</td>\n      <td>12.0</td>\n      <td>3.3</td>\n      <td>3.0</td>\n      <td>NaN</td>\n    </tr>\n    <tr>\n      <th>3</th>\n      <td>4.0</td>\n      <td>27.0</td>\n      <td>2.5</td>\n      <td>2.0</td>\n      <td>27.0</td>\n    </tr>\n    <tr>\n      <th>4</th>\n      <td>5.1</td>\n      <td>8.0</td>\n      <td>1.4</td>\n      <td>1.0</td>\n      <td>8.0</td>\n    </tr>\n    <tr>\n      <th>5</th>\n      <td>6.5</td>\n      <td>17.5</td>\n      <td>NaN</td>\n      <td>NaN</td>\n      <td>NaN</td>\n    </tr>\n  </tbody>\n</table>\n</div>"
     },
     "execution_count": 6,
     "metadata": {},
     "output_type": "execute_result"
    }
   ],
   "source": [
    "data = pd.read_excel(\"../data/sample-x-y-for-learn-knn-guest-1D-array.xlsx\")\n",
    "data"
   ],
   "metadata": {
    "collapsed": false,
    "ExecuteTime": {
     "end_time": "2023-07-01T05:30:39.393649Z",
     "start_time": "2023-07-01T05:30:38.629516400Z"
    }
   }
  },
  {
   "cell_type": "code",
   "execution_count": null,
   "outputs": [],
   "source": [
    "# Xác định láng giềng gần nhất k\n",
    "k = 3"
   ],
   "metadata": {
    "collapsed": false
   }
  }
 ],
 "metadata": {
  "kernelspec": {
   "display_name": "Python 3",
   "language": "python",
   "name": "python3"
  },
  "language_info": {
   "codemirror_mode": {
    "name": "ipython",
    "version": 2
   },
   "file_extension": ".py",
   "mimetype": "text/x-python",
   "name": "python",
   "nbconvert_exporter": "python",
   "pygments_lexer": "ipython2",
   "version": "2.7.6"
  }
 },
 "nbformat": 4,
 "nbformat_minor": 0
}
