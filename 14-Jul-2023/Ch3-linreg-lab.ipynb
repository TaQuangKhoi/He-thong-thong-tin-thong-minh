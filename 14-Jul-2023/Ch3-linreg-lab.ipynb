{
 "cells": [
  {
   "cell_type": "markdown",
   "id": "82bce88a",
   "metadata": {},
   "source": [
    "\n",
    "# Chapter 3\n",
    "\n"
   ]
  },
  {
   "cell_type": "markdown",
   "id": "dcffdceb",
   "metadata": {},
   "source": [
    "# Lab: Linear Regression\n",
    "\n",
    "## Importing packages\n",
    "We import our standard libraries at this top\n",
    "level."
   ]
  },
  {
   "cell_type": "code",
   "execution_count": 42,
   "id": "ca5277a6",
   "metadata": {
    "lines_to_next_cell": 2,
    "ExecuteTime": {
     "end_time": "2023-07-14T06:42:58.554272100Z",
     "start_time": "2023-07-14T06:42:58.534658Z"
    }
   },
   "outputs": [],
   "source": [
    "import numpy as np\n",
    "import pandas as pd\n",
    "from matplotlib.pyplot import subplots\n"
   ]
  },
  {
   "cell_type": "markdown",
   "id": "95b0ae8c",
   "metadata": {},
   "source": [
    "### New imports\n",
    "Throughout this lab we will introduce new functions and libraries. However,\n",
    "we will import them here to emphasize these are the new\n",
    "code objects in this lab. Keeping imports near the top\n",
    "of a notebook makes the code more readable, since scanning the first few\n",
    "lines tells us what libraries are used."
   ]
  },
  {
   "cell_type": "code",
   "execution_count": 26,
   "id": "675f24e6",
   "metadata": {
    "lines_to_next_cell": 0,
    "ExecuteTime": {
     "end_time": "2023-07-14T06:42:41.975835800Z",
     "start_time": "2023-07-14T06:42:40.881155300Z"
    }
   },
   "outputs": [],
   "source": [
    "import statsmodels.api as sm\n"
   ]
  },
  {
   "cell_type": "markdown",
   "id": "1fb0799f",
   "metadata": {},
   "source": [
    " We will provide relevant details about the\n",
    "functions below as they are needed.\n",
    "\n",
    "Besides importing whole modules, it is also possible\n",
    "to import only a few items from a given module. This\n",
    "will help keep the  *namespace* clean.\n",
    "We will use a few specific objects from the `statsmodels` package\n",
    "which we import here."
   ]
  },
  {
   "cell_type": "code",
   "execution_count": 27,
   "id": "a0ee23c2",
   "metadata": {
    "ExecuteTime": {
     "end_time": "2023-07-14T06:42:41.976844800Z",
     "start_time": "2023-07-14T06:42:40.898059800Z"
    }
   },
   "outputs": [],
   "source": [
    "from statsmodels.stats.outliers_influence \\\n",
    "     import variance_inflation_factor as VIF\n",
    "from statsmodels.stats.anova import anova_lm\n"
   ]
  },
  {
   "cell_type": "markdown",
   "id": "dbfd346e",
   "metadata": {},
   "source": [
    "As one of the import statements above is quite a long line, we inserted a line break `\\` to\n",
    "ease readability.\n",
    "\n",
    "We will also use some functions written for the labs in this book in the `ISLP`\n",
    "package."
   ]
  },
  {
   "cell_type": "code",
   "execution_count": 44,
   "id": "b35eb887",
   "metadata": {
    "ExecuteTime": {
     "end_time": "2023-07-14T06:43:45.752415100Z",
     "start_time": "2023-07-14T06:43:45.668910300Z"
    }
   },
   "outputs": [
    {
     "ename": "ImportError",
     "evalue": "cannot import name 'load_data' from 'islpy' (C:\\Users\\taqua\\miniconda3\\lib\\site-packages\\islpy\\__init__.py)",
     "output_type": "error",
     "traceback": [
      "\u001B[1;31m---------------------------------------------------------------------------\u001B[0m",
      "\u001B[1;31mImportError\u001B[0m                               Traceback (most recent call last)",
      "Cell \u001B[1;32mIn[44], line 1\u001B[0m\n\u001B[1;32m----> 1\u001B[0m \u001B[38;5;28;01mfrom\u001B[39;00m \u001B[38;5;21;01mislpy\u001B[39;00m \u001B[38;5;28;01mimport\u001B[39;00m load_data\n\u001B[0;32m      2\u001B[0m \u001B[38;5;28;01mfrom\u001B[39;00m \u001B[38;5;21;01mislpy\u001B[39;00m\u001B[38;5;21;01m.\u001B[39;00m\u001B[38;5;21;01mmodels\u001B[39;00m \u001B[38;5;28;01mimport\u001B[39;00m (ModelSpec \u001B[38;5;28;01mas\u001B[39;00m MS,\n\u001B[0;32m      3\u001B[0m                          summarize,\n\u001B[0;32m      4\u001B[0m                          poly)\n",
      "\u001B[1;31mImportError\u001B[0m: cannot import name 'load_data' from 'islpy' (C:\\Users\\taqua\\miniconda3\\lib\\site-packages\\islpy\\__init__.py)"
     ]
    }
   ],
   "source": [
    "from ISLP import load_data\n",
    "from ISLP.models import (ModelSpec as MS,\n",
    "                         summarize,\n",
    "                         poly)\n"
   ]
  },
  {
   "cell_type": "markdown",
   "id": "84a8177e",
   "metadata": {},
   "source": [
    "### Inspecting Objects and Namespaces\n",
    "The\n",
    "function  `dir()`\n",
    "provides a list of\n",
    "objects in a namespace."
   ]
  },
  {
   "cell_type": "code",
   "execution_count": null,
   "id": "961908f7",
   "metadata": {
    "lines_to_next_cell": 0,
    "ExecuteTime": {
     "start_time": "2023-07-14T06:42:40.936741500Z"
    }
   },
   "outputs": [],
   "source": [
    "dir()\n"
   ]
  },
  {
   "cell_type": "markdown",
   "id": "3efc6d99",
   "metadata": {},
   "source": [
    " This shows you everything that `Python` can find at the top level.\n",
    "There are certain objects like `__builtins__` that contain references to built-in\n",
    "functions like `print()`.\n",
    "\n",
    "Every python object has its own notion of\n",
    "namespace, also accessible with `dir()`. This will include\n",
    "both the attributes of the object\n",
    "as well as any methods associated with it. For instance, we see `'sum'` in the listing for an\n",
    "array."
   ]
  },
  {
   "cell_type": "code",
   "execution_count": 29,
   "id": "662caa15",
   "metadata": {
    "lines_to_next_cell": 0,
    "ExecuteTime": {
     "end_time": "2023-07-14T06:42:42.011455100Z",
     "start_time": "2023-07-14T06:42:40.943996600Z"
    }
   },
   "outputs": [
    {
     "data": {
      "text/plain": "['T',\n '__abs__',\n '__add__',\n '__and__',\n '__array__',\n '__array_finalize__',\n '__array_function__',\n '__array_interface__',\n '__array_prepare__',\n '__array_priority__',\n '__array_struct__',\n '__array_ufunc__',\n '__array_wrap__',\n '__bool__',\n '__class__',\n '__class_getitem__',\n '__complex__',\n '__contains__',\n '__copy__',\n '__deepcopy__',\n '__delattr__',\n '__delitem__',\n '__dir__',\n '__divmod__',\n '__dlpack__',\n '__dlpack_device__',\n '__doc__',\n '__eq__',\n '__float__',\n '__floordiv__',\n '__format__',\n '__ge__',\n '__getattribute__',\n '__getitem__',\n '__gt__',\n '__hash__',\n '__iadd__',\n '__iand__',\n '__ifloordiv__',\n '__ilshift__',\n '__imatmul__',\n '__imod__',\n '__imul__',\n '__index__',\n '__init__',\n '__init_subclass__',\n '__int__',\n '__invert__',\n '__ior__',\n '__ipow__',\n '__irshift__',\n '__isub__',\n '__iter__',\n '__itruediv__',\n '__ixor__',\n '__le__',\n '__len__',\n '__lshift__',\n '__lt__',\n '__matmul__',\n '__mod__',\n '__mul__',\n '__ne__',\n '__neg__',\n '__new__',\n '__or__',\n '__pos__',\n '__pow__',\n '__radd__',\n '__rand__',\n '__rdivmod__',\n '__reduce__',\n '__reduce_ex__',\n '__repr__',\n '__rfloordiv__',\n '__rlshift__',\n '__rmatmul__',\n '__rmod__',\n '__rmul__',\n '__ror__',\n '__rpow__',\n '__rrshift__',\n '__rshift__',\n '__rsub__',\n '__rtruediv__',\n '__rxor__',\n '__setattr__',\n '__setitem__',\n '__setstate__',\n '__sizeof__',\n '__str__',\n '__sub__',\n '__subclasshook__',\n '__truediv__',\n '__xor__',\n 'all',\n 'any',\n 'argmax',\n 'argmin',\n 'argpartition',\n 'argsort',\n 'astype',\n 'base',\n 'byteswap',\n 'choose',\n 'clip',\n 'compress',\n 'conj',\n 'conjugate',\n 'copy',\n 'ctypes',\n 'cumprod',\n 'cumsum',\n 'data',\n 'diagonal',\n 'dot',\n 'dtype',\n 'dump',\n 'dumps',\n 'fill',\n 'flags',\n 'flat',\n 'flatten',\n 'getfield',\n 'imag',\n 'item',\n 'itemset',\n 'itemsize',\n 'max',\n 'mean',\n 'min',\n 'nbytes',\n 'ndim',\n 'newbyteorder',\n 'nonzero',\n 'partition',\n 'prod',\n 'ptp',\n 'put',\n 'ravel',\n 'real',\n 'repeat',\n 'reshape',\n 'resize',\n 'round',\n 'searchsorted',\n 'setfield',\n 'setflags',\n 'shape',\n 'size',\n 'sort',\n 'squeeze',\n 'std',\n 'strides',\n 'sum',\n 'swapaxes',\n 'take',\n 'tobytes',\n 'tofile',\n 'tolist',\n 'tostring',\n 'trace',\n 'transpose',\n 'var',\n 'view']"
     },
     "execution_count": 29,
     "metadata": {},
     "output_type": "execute_result"
    }
   ],
   "source": [
    "A = np.array([3,5,11])\n",
    "dir(A)\n"
   ]
  },
  {
   "cell_type": "markdown",
   "id": "49bdd416",
   "metadata": {},
   "source": [
    " This indicates that the object `A.sum` exists. In this case it is a method\n",
    "that can be used to compute the sum of the array `A` as can be seen by typing `A.sum?`."
   ]
  },
  {
   "cell_type": "code",
   "execution_count": 30,
   "id": "ebb7d126",
   "metadata": {
    "lines_to_next_cell": 0,
    "ExecuteTime": {
     "end_time": "2023-07-14T06:42:42.011961900Z",
     "start_time": "2023-07-14T06:42:40.970078500Z"
    }
   },
   "outputs": [
    {
     "data": {
      "text/plain": "19"
     },
     "execution_count": 30,
     "metadata": {},
     "output_type": "execute_result"
    }
   ],
   "source": [
    "A.sum()\n"
   ]
  },
  {
   "cell_type": "markdown",
   "id": "3b9db985",
   "metadata": {},
   "source": [
    "    "
   ]
  },
  {
   "cell_type": "markdown",
   "id": "9fbed3f3",
   "metadata": {},
   "source": [
    "## Simple Linear Regression\n",
    "In this section we will  construct model \n",
    "matrices (also called design matrices) using the `ModelSpec()`  transform from `ISLP.models`.\n",
    "\n",
    "We  will use the `Boston` housing data set, which is contained in the `ISLP` package.  The `Boston` dataset records  `medv`  (median house value) for $506$ neighborhoods\n",
    "around Boston.  We will build a regression model to predict  `medv`  using $13$\n",
    "predictors such as  `rmvar`  (average number of rooms per house),\n",
    " `age`  (proportion of owner-occupied units built prior to 1940), and  `lstat`  (percent of\n",
    "households with low socioeconomic status).  We will use `statsmodels` for this\n",
    "task, a `Python` package that implements several commonly used\n",
    "regression methods.\n",
    "\n",
    "We have included a simple loading function `load_data()` in the\n",
    "`ISLP` package:"
   ]
  },
  {
   "cell_type": "code",
   "execution_count": 31,
   "id": "1ea46cee",
   "metadata": {
    "ExecuteTime": {
     "start_time": "2023-07-14T06:42:41.006134Z"
    }
   },
   "outputs": [
    {
     "ename": "NameError",
     "evalue": "name 'load_data' is not defined",
     "output_type": "error",
     "traceback": [
      "\u001B[1;31m---------------------------------------------------------------------------\u001B[0m",
      "\u001B[1;31mNameError\u001B[0m                                 Traceback (most recent call last)",
      "Cell \u001B[1;32mIn[31], line 1\u001B[0m\n\u001B[1;32m----> 1\u001B[0m Boston \u001B[38;5;241m=\u001B[39m \u001B[43mload_data\u001B[49m(\u001B[38;5;124m\"\u001B[39m\u001B[38;5;124mBoston\u001B[39m\u001B[38;5;124m\"\u001B[39m)\n\u001B[0;32m      2\u001B[0m Boston\u001B[38;5;241m.\u001B[39mcolumns\n",
      "\u001B[1;31mNameError\u001B[0m: name 'load_data' is not defined"
     ]
    }
   ],
   "source": [
    "Boston = load_data(\"Boston\")\n",
    "Boston.columns\n"
   ]
  },
  {
   "cell_type": "markdown",
   "id": "a8cceee6",
   "metadata": {},
   "source": [
    "Type `Boston?` to find out more about these data.\n",
    "\n",
    "We start by using the `sm.OLS()`  function to fit a\n",
    "simple linear regression model.  Our response will be\n",
    " `medv`  and  `lstat`  will be the single predictor.\n",
    "For this model, we can create the model matrix by hand.\n"
   ]
  },
  {
   "cell_type": "code",
   "execution_count": null,
   "id": "26c0ba88",
   "metadata": {
    "ExecuteTime": {
     "start_time": "2023-07-14T06:42:41.031591400Z"
    }
   },
   "outputs": [],
   "source": [
    "X = pd.DataFrame({'intercept': np.ones(Boston.shape[0]),\n",
    "                  'lstat': Boston['lstat']})\n",
    "X[:4]\n"
   ]
  },
  {
   "cell_type": "markdown",
   "id": "5ac7f183",
   "metadata": {},
   "source": [
    "We extract the response, and fit the model."
   ]
  },
  {
   "cell_type": "code",
   "execution_count": 32,
   "id": "d4dd511b",
   "metadata": {
    "lines_to_next_cell": 0,
    "ExecuteTime": {
     "start_time": "2023-07-14T06:42:41.040913400Z"
    }
   },
   "outputs": [
    {
     "ename": "NameError",
     "evalue": "name 'Boston' is not defined",
     "output_type": "error",
     "traceback": [
      "\u001B[1;31m---------------------------------------------------------------------------\u001B[0m",
      "\u001B[1;31mNameError\u001B[0m                                 Traceback (most recent call last)",
      "Cell \u001B[1;32mIn[32], line 1\u001B[0m\n\u001B[1;32m----> 1\u001B[0m y \u001B[38;5;241m=\u001B[39m \u001B[43mBoston\u001B[49m[\u001B[38;5;124m'\u001B[39m\u001B[38;5;124mmedv\u001B[39m\u001B[38;5;124m'\u001B[39m]\n\u001B[0;32m      2\u001B[0m model \u001B[38;5;241m=\u001B[39m sm\u001B[38;5;241m.\u001B[39mOLS(y, X)\n\u001B[0;32m      3\u001B[0m results \u001B[38;5;241m=\u001B[39m model\u001B[38;5;241m.\u001B[39mfit()\n",
      "\u001B[1;31mNameError\u001B[0m: name 'Boston' is not defined"
     ]
    }
   ],
   "source": [
    "y = Boston['medv']\n",
    "model = sm.OLS(y, X)\n",
    "results = model.fit()\n"
   ]
  },
  {
   "cell_type": "markdown",
   "id": "ddf44723",
   "metadata": {},
   "source": [
    "Note that `sm.OLS()` does\n",
    "not fit the model; it specifies the model, and then `model.fit()` does the actual fitting.  \n",
    "\n",
    "Our `ISLP` function `summarize()` produces a simple table of the parameter estimates,\n",
    "their standard errors, t-statistics and p-values.\n",
    "The function takes a single argument, such as the object `results` \n",
    "returned here by the `fit`\n",
    "method, and returns such a summary."
   ]
  },
  {
   "cell_type": "code",
   "execution_count": null,
   "id": "eef9f8e3",
   "metadata": {
    "lines_to_next_cell": 2,
    "ExecuteTime": {
     "start_time": "2023-07-14T06:42:41.078236500Z"
    }
   },
   "outputs": [],
   "source": [
    "summarize(results)\n"
   ]
  },
  {
   "cell_type": "markdown",
   "id": "db916e19",
   "metadata": {},
   "source": [
    "Before we describe other methods for working with fitted models, we outline a more useful and general framework for constructing a model matrix~`X`.\n",
    "### Using Transformations: Fit and Transform\n",
    "Our model above has a single predictor, and constructing `X` was straightforward. \n",
    "In practice  we often fit models with more than one predictor, typically selected from an array or data frame.\n",
    "We may wish to introduce transformations to the variables before fitting the model, specify interactions between variables, and expand some particular variables into sets of variables (e.g. polynomials).\n",
    "The `sklearn`  package has a particular notion\n",
    "for this type of task: a *transform*. A transform is an object\n",
    "that is created with some parameters as arguments. The\n",
    "object has two main methods: `fit()` and `transform()`.\n",
    "\n",
    "We provide a general approach for specifying models and constructing\n",
    "the model matrix through the transform `ModelSpec()` in the `ISLP` library.\n",
    "`ModelSpec()`\n",
    "(renamed `MS()` in the preamble) creates a\n",
    "transform object, and then a pair of methods\n",
    "`transform()` and `fit()` are used to construct a\n",
    "corresponding model matrix.\n",
    "\n",
    "We first describe this process for our simple regression model  using a single predictor `lstat` in\n",
    "the `Boston` data frame, but will use it repeatedly in more\n",
    "complex tasks in this and other labs in this book.\n",
    "In our case the transform is created by the expression\n",
    "`design = MS(['lstat'])`.\n",
    "\n",
    "The `fit()`  method takes the original array and may do some\n",
    "initial computations on it, as specified in the transform object.\n",
    "For example, it may compute means and standard deviations for centering and scaling.\n",
    "The `transform()` \n",
    "method applies the fitted transformation to the array of data, and produces the model matrix.\n"
   ]
  },
  {
   "cell_type": "code",
   "execution_count": null,
   "id": "557170d4",
   "metadata": {
    "lines_to_next_cell": 0,
    "is_executing": true
   },
   "outputs": [],
   "source": [
    "design = MS(['lstat'])\n",
    "design = design.fit(Boston)\n",
    "X = design.transform(Boston)\n",
    "X[:4]"
   ]
  },
  {
   "cell_type": "markdown",
   "id": "86615813",
   "metadata": {},
   "source": [
    "In this simple case, the `fit()`  method does very little; it simply checks that the variable `'lstat'` specified in `design` exists in `Boston`. Then `transform()` constructs the model matrix with two columns: an `intercept` and the variable `lstat`.\n",
    "\n",
    "These two operations can be  combined with the\n",
    "`fit_transform()`  method."
   ]
  },
  {
   "cell_type": "code",
   "execution_count": 34,
   "id": "b83ec097",
   "metadata": {
    "lines_to_next_cell": 0,
    "ExecuteTime": {
     "start_time": "2023-07-14T06:42:41.135400400Z"
    }
   },
   "outputs": [
    {
     "ename": "NameError",
     "evalue": "name 'MS' is not defined",
     "output_type": "error",
     "traceback": [
      "\u001B[1;31m---------------------------------------------------------------------------\u001B[0m",
      "\u001B[1;31mNameError\u001B[0m                                 Traceback (most recent call last)",
      "Cell \u001B[1;32mIn[34], line 1\u001B[0m\n\u001B[1;32m----> 1\u001B[0m design \u001B[38;5;241m=\u001B[39m \u001B[43mMS\u001B[49m([\u001B[38;5;124m'\u001B[39m\u001B[38;5;124mlstat\u001B[39m\u001B[38;5;124m'\u001B[39m])\n\u001B[0;32m      2\u001B[0m X \u001B[38;5;241m=\u001B[39m design\u001B[38;5;241m.\u001B[39mfit_transform(Boston)\n\u001B[0;32m      3\u001B[0m X[:\u001B[38;5;241m4\u001B[39m]\n",
      "\u001B[1;31mNameError\u001B[0m: name 'MS' is not defined"
     ]
    }
   ],
   "source": [
    "design = MS(['lstat'])\n",
    "X = design.fit_transform(Boston)\n",
    "X[:4]"
   ]
  },
  {
   "cell_type": "markdown",
   "id": "c6becbcb",
   "metadata": {},
   "source": [
    "Note that, as in the previous code chunk when the two steps were done separately, the `design` object is changed as a result of the `fit()` operation. The power of this pipeline will become clearer when we fit more complex models that involve interactions and transformations."
   ]
  },
  {
   "cell_type": "markdown",
   "id": "e097120f",
   "metadata": {},
   "source": [
    "Let's return to our fitted regression model.\n",
    "The object\n",
    "`results` has several methods that can be used for inference.\n",
    "We already presented a function `summarize()` for showing the essentials of the fit.\n",
    "For a full and somewhat exhaustive summary of the fit, we can use the `summary()` \n",
    "method."
   ]
  },
  {
   "cell_type": "code",
   "execution_count": null,
   "id": "d4dce5f6",
   "metadata": {
    "ExecuteTime": {
     "start_time": "2023-07-14T06:42:41.160245300Z"
    }
   },
   "outputs": [],
   "source": [
    "results.summary()\n"
   ]
  },
  {
   "cell_type": "markdown",
   "id": "9a367738",
   "metadata": {},
   "source": [
    "The fitted coefficients can also be retrieved as the\n",
    "`params` attribute of `results`."
   ]
  },
  {
   "cell_type": "code",
   "execution_count": null,
   "id": "a0edf555",
   "metadata": {
    "lines_to_next_cell": 2,
    "is_executing": true
   },
   "outputs": [
    {
     "ename": "NameError",
     "evalue": "name 'results' is not defined",
     "output_type": "error",
     "traceback": [
      "\u001B[1;31m---------------------------------------------------------------------------\u001B[0m",
      "\u001B[1;31mNameError\u001B[0m                                 Traceback (most recent call last)",
      "Cell \u001B[1;32mIn[35], line 1\u001B[0m\n\u001B[1;32m----> 1\u001B[0m \u001B[43mresults\u001B[49m\u001B[38;5;241m.\u001B[39mparams\n",
      "\u001B[1;31mNameError\u001B[0m: name 'results' is not defined"
     ]
    }
   ],
   "source": [
    "results.params\n"
   ]
  },
  {
   "cell_type": "markdown",
   "id": "4472913f",
   "metadata": {},
   "source": [
    "The `get_prediction()`  method can be used to obtain predictions, and produce confidence intervals and\n",
    "prediction intervals for the prediction of  `medv`  for  given values of  `lstat`.\n",
    "\n",
    "We first create a new data frame, in this case containing only the variable `lstat`, with the values for this variable at which we wish to make predictions.\n",
    "We then use the `transform()` method of `design` to create the corresponding model matrix."
   ]
  },
  {
   "cell_type": "code",
   "execution_count": null,
   "id": "fdc5a3f3",
   "metadata": {
    "ExecuteTime": {
     "start_time": "2023-07-14T06:42:41.220266300Z"
    }
   },
   "outputs": [],
   "source": [
    "new_df = pd.DataFrame({'lstat':[5, 10, 15]})\n",
    "newX = design.transform(new_df)\n",
    "newX\n"
   ]
  },
  {
   "cell_type": "markdown",
   "id": "590d6b7d",
   "metadata": {},
   "source": [
    "Next we compute the predictions at `newX`, and view them by extracting the `predicted_mean` attribute."
   ]
  },
  {
   "cell_type": "code",
   "execution_count": null,
   "id": "2c6acbf0",
   "metadata": {
    "lines_to_next_cell": 0,
    "ExecuteTime": {
     "start_time": "2023-07-14T06:42:41.222467Z"
    }
   },
   "outputs": [],
   "source": [
    "new_predictions = results.get_prediction(newX);\n",
    "new_predictions.predicted_mean\n"
   ]
  },
  {
   "cell_type": "markdown",
   "id": "f2d7e037",
   "metadata": {},
   "source": [
    "We can produce confidence intervals for the predicted values."
   ]
  },
  {
   "cell_type": "code",
   "execution_count": 36,
   "id": "c472ef33",
   "metadata": {
    "lines_to_next_cell": 0,
    "ExecuteTime": {
     "start_time": "2023-07-14T06:42:41.236904200Z"
    }
   },
   "outputs": [
    {
     "ename": "NameError",
     "evalue": "name 'new_predictions' is not defined",
     "output_type": "error",
     "traceback": [
      "\u001B[1;31m---------------------------------------------------------------------------\u001B[0m",
      "\u001B[1;31mNameError\u001B[0m                                 Traceback (most recent call last)",
      "Cell \u001B[1;32mIn[36], line 1\u001B[0m\n\u001B[1;32m----> 1\u001B[0m \u001B[43mnew_predictions\u001B[49m\u001B[38;5;241m.\u001B[39mconf_int(alpha\u001B[38;5;241m=\u001B[39m\u001B[38;5;241m0.05\u001B[39m)\n",
      "\u001B[1;31mNameError\u001B[0m: name 'new_predictions' is not defined"
     ]
    }
   ],
   "source": [
    "new_predictions.conf_int(alpha=0.05)\n"
   ]
  },
  {
   "cell_type": "markdown",
   "id": "dfabf8a7",
   "metadata": {},
   "source": [
    "Prediction intervals are computing by setting `obs=True`:"
   ]
  },
  {
   "cell_type": "code",
   "execution_count": null,
   "id": "3e2ffc7a",
   "metadata": {
    "lines_to_next_cell": 0,
    "ExecuteTime": {
     "start_time": "2023-07-14T06:42:41.264931100Z"
    }
   },
   "outputs": [],
   "source": [
    "new_predictions.conf_int(obs=True, alpha=0.05)\n"
   ]
  },
  {
   "cell_type": "markdown",
   "id": "65463c75",
   "metadata": {},
   "source": [
    " For instance, the 95% confidence interval associated with an\n",
    " `lstat`  value of 10 is (24.47, 25.63), and the 95% prediction\n",
    "interval is (12.82, 37.28).  As expected, the confidence and\n",
    "prediction intervals are centered around the same point (a predicted\n",
    "value of 25.05 for  `medv`  when  `lstat`  equals\n",
    "10), but the latter are substantially wider.\n",
    "\n",
    "Next we will plot  `medv`  and  `lstat` \n",
    "using `DataFrame.plot.scatter()`, \n",
    "and wish to\n",
    "add the regression line to the resulting plot."
   ]
  },
  {
   "cell_type": "markdown",
   "id": "f699e856",
   "metadata": {},
   "source": [
    "### Defining Functions\n",
    "While there is a function\n",
    "within the `ISLP` package that adds a line to an existing plot, we take this opportunity\n",
    "to define our first function to do so."
   ]
  },
  {
   "cell_type": "code",
   "execution_count": 37,
   "id": "4e56a1d3",
   "metadata": {
    "lines_to_next_cell": 0,
    "ExecuteTime": {
     "end_time": "2023-07-14T06:42:42.088227700Z",
     "start_time": "2023-07-14T06:42:41.283167300Z"
    }
   },
   "outputs": [],
   "source": [
    "def abline(ax, b, m):\n",
    "    \"Add a line with slope m and intercept b to ax\"\n",
    "    xlim = ax.get_xlim()\n",
    "    ylim = [m * xlim[0] + b, m * xlim[1] + b]\n",
    "    ax.plot(xlim, ylim)\n"
   ]
  },
  {
   "cell_type": "markdown",
   "id": "e0a0dce5",
   "metadata": {},
   "source": [
    " A few things are illustrated above. First we see the syntax for defining a function:\n",
    "`def funcname(...)`. The function has arguments `ax, b, m`\n",
    "where `ax` is an axis object for an exisiting plot, `b` is the intercept and\n",
    "`m` is the slope of the desired line. Other plotting  options can be passed on to\n",
    "`ax.plot` by including additional optional arguments as follows:"
   ]
  },
  {
   "cell_type": "code",
   "execution_count": 38,
   "id": "7f43ffe7",
   "metadata": {
    "lines_to_next_cell": 0,
    "ExecuteTime": {
     "end_time": "2023-07-14T06:42:42.088227700Z",
     "start_time": "2023-07-14T06:42:41.299088Z"
    }
   },
   "outputs": [],
   "source": [
    "def abline(ax, b, m, *args, **kwargs):\n",
    "    \"Add a line with slope m and intercept b to ax\"\n",
    "    xlim = ax.get_xlim()\n",
    "    ylim = [m * xlim[0] + b, m * xlim[1] + b]\n",
    "    ax.plot(xlim, ylim, *args, **kwargs)\n"
   ]
  },
  {
   "cell_type": "markdown",
   "id": "4f4981fa",
   "metadata": {},
   "source": [
    "The addition of `*args` allows any number of\n",
    "non-named arguments to `abline`, while `*kwargs` allows any\n",
    "number of named arguments (such as `linewidth=3`) to `abline`.\n",
    "In our function, we pass\n",
    "these arguments verbatim to `ax.plot` above. Readers\n",
    "interested in learning more about\n",
    "functions are referred to the section on\n",
    "defining functions in [docs.python.org/tutorial](https://docs.python.org/3/tutorial/controlflow.html#defining-functions).\n",
    "\n",
    "Let’s use our new function to add this regression line to a plot of\n",
    "`medv` vs. `lstat`."
   ]
  },
  {
   "cell_type": "code",
   "execution_count": 39,
   "id": "3f7b67c9",
   "metadata": {
    "lines_to_next_cell": 0,
    "ExecuteTime": {
     "start_time": "2023-07-14T06:42:41.320684700Z"
    }
   },
   "outputs": [
    {
     "ename": "NameError",
     "evalue": "name 'Boston' is not defined",
     "output_type": "error",
     "traceback": [
      "\u001B[1;31m---------------------------------------------------------------------------\u001B[0m",
      "\u001B[1;31mNameError\u001B[0m                                 Traceback (most recent call last)",
      "Cell \u001B[1;32mIn[39], line 1\u001B[0m\n\u001B[1;32m----> 1\u001B[0m ax \u001B[38;5;241m=\u001B[39m \u001B[43mBoston\u001B[49m\u001B[38;5;241m.\u001B[39mplot\u001B[38;5;241m.\u001B[39mscatter(\u001B[38;5;124m'\u001B[39m\u001B[38;5;124mlstat\u001B[39m\u001B[38;5;124m'\u001B[39m, \u001B[38;5;124m'\u001B[39m\u001B[38;5;124mmedv\u001B[39m\u001B[38;5;124m'\u001B[39m)\n\u001B[0;32m      2\u001B[0m abline(ax,\n\u001B[0;32m      3\u001B[0m        results\u001B[38;5;241m.\u001B[39mparams[\u001B[38;5;241m0\u001B[39m],\n\u001B[0;32m      4\u001B[0m        results\u001B[38;5;241m.\u001B[39mparams[\u001B[38;5;241m1\u001B[39m],\n\u001B[0;32m      5\u001B[0m        \u001B[38;5;124m'\u001B[39m\u001B[38;5;124mr--\u001B[39m\u001B[38;5;124m'\u001B[39m,\n\u001B[0;32m      6\u001B[0m        linewidth\u001B[38;5;241m=\u001B[39m\u001B[38;5;241m3\u001B[39m)\n",
      "\u001B[1;31mNameError\u001B[0m: name 'Boston' is not defined"
     ]
    }
   ],
   "source": [
    "ax = Boston.plot.scatter('lstat', 'medv')\n",
    "abline(ax,\n",
    "       results.params[0],\n",
    "       results.params[1],\n",
    "       'r--',\n",
    "       linewidth=3)\n"
   ]
  },
  {
   "cell_type": "markdown",
   "id": "50d7066f",
   "metadata": {},
   "source": [
    "Thus, the final call to `ax.plot()` is `ax.plot(xlim, ylim, 'r--', linewidth=3)`.\n",
    "We have used the argument `'r--'` to produce a red dashed line, and added\n",
    "an argument to make it of width 3.\n",
    "There is some evidence for non-linearity in the relationship between  `lstat`  and  `medv`. We will explore this issue later in this lab.\n",
    "\n",
    "As mentioned above, there is an existing function to add a line to a plot --- `ax.axline()` --- but knowing how to write such functions empowers us to create more expressive displays.\n",
    "\n"
   ]
  },
  {
   "cell_type": "markdown",
   "id": "82ab1913",
   "metadata": {},
   "source": [
    "Next we examine some diagnostic plots, several of which were discussed\n",
    "in Section 3.3.3.\n",
    "We can find the fitted values and residuals\n",
    "of the fit as attributes of the `results` object.\n",
    "Various influence measures describing the regression model\n",
    "are computed with the `get_influence()` method.\n",
    "As we will not use the `fig` component returned\n",
    "as the first value from `subplots()`, we simply\n",
    "capture the second returned value in `ax` below."
   ]
  },
  {
   "cell_type": "code",
   "execution_count": 40,
   "id": "b35a2fd3",
   "metadata": {
    "lines_to_next_cell": 0,
    "ExecuteTime": {
     "start_time": "2023-07-14T06:42:41.372166600Z"
    }
   },
   "outputs": [
    {
     "ename": "NameError",
     "evalue": "name 'results' is not defined",
     "output_type": "error",
     "traceback": [
      "\u001B[1;31m---------------------------------------------------------------------------\u001B[0m",
      "\u001B[1;31mNameError\u001B[0m                                 Traceback (most recent call last)",
      "Cell \u001B[1;32mIn[40], line 2\u001B[0m\n\u001B[0;32m      1\u001B[0m ax \u001B[38;5;241m=\u001B[39m subplots(figsize\u001B[38;5;241m=\u001B[39m(\u001B[38;5;241m8\u001B[39m,\u001B[38;5;241m8\u001B[39m))[\u001B[38;5;241m1\u001B[39m]\n\u001B[1;32m----> 2\u001B[0m ax\u001B[38;5;241m.\u001B[39mscatter(\u001B[43mresults\u001B[49m\u001B[38;5;241m.\u001B[39mfittedvalues, results\u001B[38;5;241m.\u001B[39mresid)\n\u001B[0;32m      3\u001B[0m ax\u001B[38;5;241m.\u001B[39mset_xlabel(\u001B[38;5;124m'\u001B[39m\u001B[38;5;124mFitted value\u001B[39m\u001B[38;5;124m'\u001B[39m)\n\u001B[0;32m      4\u001B[0m ax\u001B[38;5;241m.\u001B[39mset_ylabel(\u001B[38;5;124m'\u001B[39m\u001B[38;5;124mResidual\u001B[39m\u001B[38;5;124m'\u001B[39m)\n",
      "\u001B[1;31mNameError\u001B[0m: name 'results' is not defined"
     ]
    },
    {
     "data": {
      "text/plain": "<Figure size 800x800 with 1 Axes>",
      "image/png": "[encoded data removed]"
     },
     "metadata": {},
     "output_type": "display_data"
    }
   ],
   "source": [
    "ax = subplots(figsize=(8,8))[1]\n",
    "ax.scatter(results.fittedvalues, results.resid)\n",
    "ax.set_xlabel('Fitted value')\n",
    "ax.set_ylabel('Residual')\n",
    "ax.axhline(0, c='k', ls='--');\n"
   ]
  },
  {
   "cell_type": "markdown",
   "id": "4deb547b",
   "metadata": {},
   "source": [
    " We add a horizontal line at 0 for reference using the\n",
    " `ax.axhline()`   method, indicating\n",
    "it should be black (`c='k'`) and have a dashed linestyle (`ls='--'`).\n",
    "\n",
    "On the basis of the residual plot, there is some evidence of non-linearity.\n",
    "Leverage statistics can be computed for any number of predictors using the\n",
    "`hat_matrix_diag` attribute of the value returned by the\n",
    "`get_influence()`  method."
   ]
  },
  {
   "cell_type": "code",
   "execution_count": null,
   "id": "82673b80",
   "metadata": {
    "lines_to_next_cell": 0,
    "ExecuteTime": {
     "start_time": "2023-07-14T06:42:41.547348900Z"
    }
   },
   "outputs": [],
   "source": [
    "infl = results.get_influence()\n",
    "ax = subplots(figsize=(8,8))[1]\n",
    "ax.scatter(np.arange(X.shape[0]), infl.hat_matrix_diag)\n",
    "ax.set_xlabel('Index')\n",
    "ax.set_ylabel('Leverage')\n",
    "np.argmax(infl.hat_matrix_diag)\n"
   ]
  },
  {
   "cell_type": "markdown",
   "id": "7eb69d75",
   "metadata": {},
   "source": [
    " The `np.argmax()`  function identifies the index of the largest element of an array, optionally computed over an axis of the array.\n",
    "In this case, we maximized over the entire array\n",
    "to determine which observation has the largest leverage statistic."
   ]
  },
  {
   "cell_type": "markdown",
   "id": "94c0a8c1",
   "metadata": {},
   "source": [
    "## Multiple Linear Regression\n",
    "In order to fit a multiple linear regression model using least squares, we again use\n",
    "the `ModelSpec()`  transform to construct the required\n",
    "model matrix and response. The arguments\n",
    "to `ModelSpec()` can be quite general, but in this case\n",
    "a list of column names suffice. We consider a fit here with\n",
    "the two variables `lstat` and `age`."
   ]
  },
  {
   "cell_type": "code",
   "execution_count": null,
   "id": "54596dc4",
   "metadata": {
    "lines_to_next_cell": 0,
    "ExecuteTime": {
     "start_time": "2023-07-14T06:42:41.550381400Z"
    }
   },
   "outputs": [],
   "source": [
    "X = MS(['lstat', 'age']).fit_transform(Boston)\n",
    "model1 = sm.OLS(y, X)\n",
    "results1 = model1.fit()\n",
    "summarize(results1)"
   ]
  },
  {
   "cell_type": "markdown",
   "id": "88450596",
   "metadata": {},
   "source": [
    "Notice how we have compacted the first line into a succinct expression describing the construction of `X`.\n",
    "\n",
    "The  `Boston`   data set contains 12 variables, and so it would be cumbersome\n",
    "to have to type all of these in order to perform a regression using all of the predictors.\n",
    "Instead, we can use the following short-hand:"
   ]
  },
  {
   "cell_type": "code",
   "execution_count": null,
   "id": "75c78238",
   "metadata": {
    "ExecuteTime": {
     "start_time": "2023-07-14T06:42:41.554385700Z"
    }
   },
   "outputs": [],
   "source": [
    "terms = Boston.columns.drop('medv')\n",
    "terms\n"
   ]
  },
  {
   "cell_type": "markdown",
   "id": "653715b5",
   "metadata": {},
   "source": [
    "We can now fit the model with all the variables in `terms` using\n",
    "the same model matrix builder."
   ]
  },
  {
   "cell_type": "code",
   "execution_count": null,
   "id": "f14b9e1a",
   "metadata": {
    "ExecuteTime": {
     "start_time": "2023-07-14T06:42:41.558899100Z"
    }
   },
   "outputs": [],
   "source": [
    "X = MS(terms).fit_transform(Boston)\n",
    "model = sm.OLS(y, X)\n",
    "results = model.fit()\n",
    "summarize(results)\n"
   ]
  },
  {
   "cell_type": "markdown",
   "id": "26acd5ab",
   "metadata": {},
   "source": [
    "What if we would like to perform a regression using all of the variables but one?  For\n",
    "example, in the above regression output,   `age`  has a high $p$-value.\n",
    "So we may wish to run a regression excluding this predictor.\n",
    "The following syntax results in a regression using all predictors except  `age`."
   ]
  },
  {
   "cell_type": "code",
   "execution_count": null,
   "id": "0a2714b1",
   "metadata": {
    "ExecuteTime": {
     "start_time": "2023-07-14T06:42:41.562925600Z"
    }
   },
   "outputs": [],
   "source": [
    "minus_age = Boston.columns.drop(['medv', 'age']) \n",
    "Xma = MS(minus_age).fit_transform(Boston)\n",
    "model1 = sm.OLS(y, Xma)\n",
    "summarize(model1.fit())\n"
   ]
  },
  {
   "cell_type": "markdown",
   "id": "28538920",
   "metadata": {},
   "source": [
    "## Multivariate Goodness of Fit\n",
    "We can access the individual components of `results` by name\n",
    "(`dir(results)` shows us what is available). Hence\n",
    "`results.rsquared` gives us the $R^2$,\n",
    "and\n",
    "`np.sqrt(results.scale)` gives us the RSE.\n",
    "\n",
    "Variance inflation factors (section 3.3.3) are sometimes useful\n",
    "to assess the effect of collinearity in the model matrix of a regression model.\n",
    "We will compute the VIFs in our multiple regression fit, and use the opportunity to introduce the idea of *list comprehension*.\n",
    "\n",
    "### List Comprehension\n",
    "Often we encounter a sequence of objects which we would like to transform\n",
    "for some other task. Below, we compute the VIF for each\n",
    "feature in our `X` matrix and produce a data frame\n",
    "whose index agrees with the columns of `X`.\n",
    "The notion of list comprehension can often make such\n",
    "a task easier.\n",
    "\n",
    "List comprehensions are simple and powerful ways to form\n",
    "lists of `Python` objects. The language also supports\n",
    "dictionary and *generator* comprehension, though these are\n",
    "beyond our scope here. Let's look at an example. We compute the VIF for each of the variables\n",
    "in the model matrix `X`, using the function `variance_inflation_factor()`.\n"
   ]
  },
  {
   "cell_type": "code",
   "execution_count": null,
   "id": "961c9128",
   "metadata": {
    "lines_to_next_cell": 0,
    "ExecuteTime": {
     "start_time": "2023-07-14T06:42:41.565930500Z"
    }
   },
   "outputs": [],
   "source": [
    "vals = [VIF(X, i)\n",
    "        for i in range(1, X.shape[1])]\n",
    "vif = pd.DataFrame({'vif':vals},\n",
    "                   index=X.columns[1:])\n",
    "vif\n"
   ]
  },
  {
   "cell_type": "markdown",
   "id": "d052f0ab",
   "metadata": {},
   "source": [
    "The function `VIF()` takes two arguments: a dataframe or array,\n",
    "and a variable column index. In the code above we call `VIF()` on the fly for all columns in `X`.  \n",
    "We have excluded column 0 above (the intercept), which is not of interest. In this case the VIFs are not that exciting.\n",
    "\n",
    "The object `vals` above could have been constructed with the following for loop:"
   ]
  },
  {
   "cell_type": "code",
   "execution_count": null,
   "id": "4886f9e9",
   "metadata": {
    "lines_to_next_cell": 0,
    "ExecuteTime": {
     "start_time": "2023-07-14T06:42:41.569049400Z"
    }
   },
   "outputs": [],
   "source": [
    "vals = []\n",
    "for i in range(1, X.values.shape[1]):\n",
    "    vals.append(VIF(X.values, i))\n"
   ]
  },
  {
   "cell_type": "markdown",
   "id": "fd3732d5",
   "metadata": {},
   "source": [
    "List comprehension allows us to perform such repetitive operations in a more straightforward way.\n",
    "## Interaction Terms\n",
    "It is easy to include interaction terms in a linear model using `ModelSpec()`.\n",
    "Including a tuple `(\"lstat\",\"age\")` tells the model\n",
    "matrix builder to include an interaction term between\n",
    " `lstat`  and  `age`."
   ]
  },
  {
   "cell_type": "code",
   "execution_count": null,
   "id": "b54d2da1",
   "metadata": {
    "lines_to_next_cell": 2,
    "ExecuteTime": {
     "start_time": "2023-07-14T06:42:41.571976700Z"
    }
   },
   "outputs": [],
   "source": [
    "X = MS(['lstat',\n",
    "        'age',\n",
    "        ('lstat', 'age')]).fit_transform(Boston)\n",
    "model2 = sm.OLS(y, X)\n",
    "summarize(model2.fit())\n"
   ]
  },
  {
   "cell_type": "markdown",
   "id": "c72c4846",
   "metadata": {},
   "source": [
    "## Non-linear Transformations of the Predictors\n",
    "The model matrix builder can include terms beyond\n",
    "just column names and interactions. For instance,\n",
    "the `poly()` function supplied in `ISLP` specifies that\n",
    "columns representing polynomial functions\n",
    "of its first argument are added to the model matrix."
   ]
  },
  {
   "cell_type": "code",
   "execution_count": null,
   "id": "1b71633a",
   "metadata": {
    "lines_to_next_cell": 0,
    "ExecuteTime": {
     "start_time": "2023-07-14T06:42:41.573977200Z"
    }
   },
   "outputs": [],
   "source": [
    "X = MS([poly('lstat', degree=2), 'age']).fit_transform(Boston)\n",
    "model3 = sm.OLS(y, X)\n",
    "results3 = model3.fit()\n",
    "summarize(results3)\n"
   ]
  },
  {
   "cell_type": "markdown",
   "id": "9f32c813",
   "metadata": {},
   "source": [
    "The effectively zero *p*-value associated with the quadratic term\n",
    "(i.e. the third row above) suggests that it leads to an improved model.\n",
    "\n",
    "By default, `poly()` creates a basis matrix for inclusion in the\n",
    "model matrix whose\n",
    "columns are *orthogonal polynomials*, which are designed for stable\n",
    "least squares computations. {Actually, `poly()` is a  wrapper for the workhorse and standalone  function `Poly()` that does the  work in building the model matrix.}\n",
    "Alternatively, had we included an argument\n",
    "`raw=True` in the above call to `poly()`, the basis matrix would consist simply of\n",
    "`lstat` and `lstat**2`. Since either of these bases\n",
    "represent quadratic polynomials, the fitted values  would not\n",
    "change in this case, just the polynomial coefficients.  Also by default, the columns\n",
    "created by `poly()` do not include an intercept column as\n",
    "that is automatically added by `MS()`.\n",
    "\n",
    "We use the `anova_lm()` function to further quantify the extent to which the quadratic fit is\n",
    "superior to the linear fit."
   ]
  },
  {
   "cell_type": "code",
   "execution_count": null,
   "id": "6d30a306",
   "metadata": {
    "lines_to_next_cell": 0,
    "ExecuteTime": {
     "start_time": "2023-07-14T06:42:41.576975600Z"
    }
   },
   "outputs": [],
   "source": [
    "anova_lm(results1, results3)\n"
   ]
  },
  {
   "cell_type": "markdown",
   "id": "bd0155d4",
   "metadata": {},
   "source": [
    "Here `results1` represents the linear submodel containing\n",
    "predictors `lstat` and `age`,\n",
    "while `results3` corresponds to the larger model above  with a quadratic\n",
    "term in `lstat`.\n",
    "The `anova_lm()` function performs a hypothesis test\n",
    "comparing the two models. The null hypothesis is that the quadratic\n",
    "term in the bigger model is not needed, and the alternative hypothesis is that the\n",
    "bigger model is superior. Here the *F*-statistic is 177.28 and\n",
    "the associated *p*-value is zero.\n",
    "In this case the *F*-statistic is the square of the\n",
    "*t*-statistic for the quadratic term in the linear model summary\n",
    "for `results3` --- a consequence of the fact that these nested\n",
    "models differ by one degree of freedom.\n",
    "This provides very clear evidence that the quadratic polynomial in\n",
    "`lstat` improves the linear model.\n",
    "This is not surprising, since earlier we saw evidence for non-linearity in the relationship between `medv`\n",
    "and  `lstat`.\n",
    "\n",
    "The function `anova_lm()` can take more than two nested models\n",
    "as input, in which case it compares every successive pair of models.\n",
    "That also explains why their are `NaN`s in the first row above, since\n",
    "there is no previous model with which to compare the first.\n"
   ]
  },
  {
   "cell_type": "code",
   "execution_count": null,
   "id": "9a5ec13f",
   "metadata": {
    "lines_to_next_cell": 0,
    "ExecuteTime": {
     "start_time": "2023-07-14T06:42:41.581026400Z"
    }
   },
   "outputs": [],
   "source": [
    "ax = subplots(figsize=(8,8))[1]\n",
    "ax.scatter(results3.fittedvalues, results3.resid)\n",
    "ax.set_xlabel('Fitted value')\n",
    "ax.set_ylabel('Residual')\n",
    "ax.axhline(0, c='k', ls='--')\n"
   ]
  },
  {
   "cell_type": "markdown",
   "id": "88272f6f",
   "metadata": {},
   "source": [
    "We see that when the quadratic term is included in the model,\n",
    "there is little discernible pattern in the residuals.\n",
    "In order to create a cubic or higher-degree polynomial fit, we can simply change the degree argument\n",
    "to `poly()`.\n"
   ]
  },
  {
   "cell_type": "markdown",
   "id": "e1a34084",
   "metadata": {},
   "source": [
    "## Qualitative Predictors\n",
    "Here we use the  `Carseats`  data, which is included in the\n",
    "`ISLP` package. We will  attempt to predict `Sales`\n",
    "(child car seat sales) in 400 locations based on a number of\n",
    "predictors."
   ]
  },
  {
   "cell_type": "code",
   "execution_count": 41,
   "id": "09bbc0c6",
   "metadata": {
    "lines_to_next_cell": 0,
    "ExecuteTime": {
     "start_time": "2023-07-14T06:42:41.589964Z"
    }
   },
   "outputs": [
    {
     "ename": "NameError",
     "evalue": "name 'load_data' is not defined",
     "output_type": "error",
     "traceback": [
      "\u001B[1;31m---------------------------------------------------------------------------\u001B[0m",
      "\u001B[1;31mNameError\u001B[0m                                 Traceback (most recent call last)",
      "Cell \u001B[1;32mIn[41], line 1\u001B[0m\n\u001B[1;32m----> 1\u001B[0m Carseats \u001B[38;5;241m=\u001B[39m \u001B[43mload_data\u001B[49m(\u001B[38;5;124m'\u001B[39m\u001B[38;5;124mCarseats\u001B[39m\u001B[38;5;124m'\u001B[39m)\n\u001B[0;32m      2\u001B[0m Carseats\u001B[38;5;241m.\u001B[39mcolumns\n",
      "\u001B[1;31mNameError\u001B[0m: name 'load_data' is not defined"
     ]
    }
   ],
   "source": [
    "Carseats = load_data('Carseats')\n",
    "Carseats.columns\n"
   ]
  },
  {
   "cell_type": "markdown",
   "id": "1a882e65",
   "metadata": {},
   "source": [
    "The `Carseats`  \n",
    " data includes qualitative predictors such as\n",
    " `ShelveLoc`, an indicator of the quality of the shelving\n",
    " location --- that is,\n",
    "the  space within a store in which the car seat is displayed. The predictor\n",
    " `ShelveLoc`  takes on three possible values, `Bad`, `Medium`, and `Good`.\n",
    "Given a qualitative variable such as  `ShelveLoc`, `ModelSpec()` generates dummy\n",
    "variables automatically.\n",
    "These variables are often referred to as a *one-hot encoding* of the categorical\n",
    "feature. Their columns sum to one, so to avoid collinearity with an intercept, the first column is dropped. Below we see\n",
    "the column `ShelveLoc[Bad]` has been dropped, since `Bad` is the first level of `ShelveLoc`.\n",
    "Below we fit a multiple regression model that includes some interaction terms."
   ]
  },
  {
   "cell_type": "code",
   "execution_count": null,
   "id": "2e1da1fa",
   "metadata": {
    "lines_to_next_cell": 0,
    "ExecuteTime": {
     "start_time": "2023-07-14T06:42:41.620008300Z"
    }
   },
   "outputs": [],
   "source": [
    "allvars = list(Carseats.columns.drop('Sales'))\n",
    "y = Carseats['Sales']\n",
    "final = allvars + [('Income', 'Advertising'),\n",
    "                   ('Price', 'Age')]\n",
    "X = MS(final).fit_transform(Carseats)\n",
    "model = sm.OLS(y, X)\n",
    "summarize(model.fit())\n"
   ]
  },
  {
   "cell_type": "markdown",
   "id": "79d9127c",
   "metadata": {},
   "source": [
    "In the first line above, we made `allvars` a list, so that we\n",
    "could add the interaction terms two lines down. \n",
    "Our model-matrix builder has created a `ShelveLoc[Good]`\n",
    "dummy variable that takes on a value of 1 if the\n",
    "shelving location is good, and 0 otherwise. It has also created a `ShelveLoc[Medium]`\n",
    "dummy variable that equals 1 if the shelving location is medium, and 0 otherwise.\n",
    "A bad shelving location corresponds to a zero for each of the two dummy variables.\n",
    "The fact that the coefficient for `ShelveLoc[Good]` in the regression output is\n",
    "positive indicates that a good shelving location is associated with high sales (relative to a bad location).\n",
    "And `ShelveLoc[Medium]` has a smaller positive coefficient,\n",
    "indicating that a medium shelving location leads to higher sales than a bad\n",
    "shelving location, but lower sales than a good shelving location.\n",
    "\n"
   ]
  }
 ],
 "metadata": {
  "jupytext": {
   "cell_metadata_filter": "-all",
   "main_language": "python",
   "notebook_metadata_filter": "-all"
  },
  "kernelspec": {
   "name": "python3",
   "language": "python",
   "display_name": "Python 3 (ipykernel)"
  }
 },
 "nbformat": 4,
 "nbformat_minor": 5
}
