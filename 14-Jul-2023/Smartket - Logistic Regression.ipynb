{
 "cells": [
  {
   "cell_type": "code",
   "execution_count": 4,
   "metadata": {
    "collapsed": true,
    "ExecuteTime": {
     "end_time": "2023-07-14T07:21:23.916321900Z",
     "start_time": "2023-07-14T07:21:23.890748300Z"
    }
   },
   "outputs": [],
   "source": [
    "import matplotlib.pyplot as plt\n",
    "import pandas as pd"
   ]
  },
  {
   "cell_type": "code",
   "execution_count": 5,
   "outputs": [
    {
     "data": {
      "text/plain": "      Year   Lag1   Lag2   Lag3   Lag4   Lag5   Volume  Today Direction\n0     2001  0.381 -0.192 -2.624 -1.055  5.010  1.19130  0.959        Up\n1     2001  0.959  0.381 -0.192 -2.624 -1.055  1.29650  1.032        Up\n2     2001  1.032  0.959  0.381 -0.192 -2.624  1.41120 -0.623      Down\n3     2001 -0.623  1.032  0.959  0.381 -0.192  1.27600  0.614        Up\n4     2001  0.614 -0.623  1.032  0.959  0.381  1.20570  0.213        Up\n...    ...    ...    ...    ...    ...    ...      ...    ...       ...\n1245  2005  0.422  0.252 -0.024 -0.584 -0.285  1.88850  0.043        Up\n1246  2005  0.043  0.422  0.252 -0.024 -0.584  1.28581 -0.955      Down\n1247  2005 -0.955  0.043  0.422  0.252 -0.024  1.54047  0.130        Up\n1248  2005  0.130 -0.955  0.043  0.422  0.252  1.42236 -0.298      Down\n1249  2005 -0.298  0.130 -0.955  0.043  0.422  1.38254 -0.489      Down\n\n[1250 rows x 9 columns]",
      "text/html": "<div>\n<style scoped>\n    .dataframe tbody tr th:only-of-type {\n        vertical-align: middle;\n    }\n\n    .dataframe tbody tr th {\n        vertical-align: top;\n    }\n\n    .dataframe thead th {\n        text-align: right;\n    }\n</style>\n<table border=\"1\" class=\"dataframe\">\n  <thead>\n    <tr style=\"text-align: right;\">\n      <th></th>\n      <th>Year</th>\n      <th>Lag1</th>\n      <th>Lag2</th>\n      <th>Lag3</th>\n      <th>Lag4</th>\n      <th>Lag5</th>\n      <th>Volume</th>\n      <th>Today</th>\n      <th>Direction</th>\n    </tr>\n  </thead>\n  <tbody>\n    <tr>\n      <th>0</th>\n      <td>2001</td>\n      <td>0.381</td>\n      <td>-0.192</td>\n      <td>-2.624</td>\n      <td>-1.055</td>\n      <td>5.010</td>\n      <td>1.19130</td>\n      <td>0.959</td>\n      <td>Up</td>\n    </tr>\n    <tr>\n      <th>1</th>\n      <td>2001</td>\n      <td>0.959</td>\n      <td>0.381</td>\n      <td>-0.192</td>\n      <td>-2.624</td>\n      <td>-1.055</td>\n      <td>1.29650</td>\n      <td>1.032</td>\n      <td>Up</td>\n    </tr>\n    <tr>\n      <th>2</th>\n      <td>2001</td>\n      <td>1.032</td>\n      <td>0.959</td>\n      <td>0.381</td>\n      <td>-0.192</td>\n      <td>-2.624</td>\n      <td>1.41120</td>\n      <td>-0.623</td>\n      <td>Down</td>\n    </tr>\n    <tr>\n      <th>3</th>\n      <td>2001</td>\n      <td>-0.623</td>\n      <td>1.032</td>\n      <td>0.959</td>\n      <td>0.381</td>\n      <td>-0.192</td>\n      <td>1.27600</td>\n      <td>0.614</td>\n      <td>Up</td>\n    </tr>\n    <tr>\n      <th>4</th>\n      <td>2001</td>\n      <td>0.614</td>\n      <td>-0.623</td>\n      <td>1.032</td>\n      <td>0.959</td>\n      <td>0.381</td>\n      <td>1.20570</td>\n      <td>0.213</td>\n      <td>Up</td>\n    </tr>\n    <tr>\n      <th>...</th>\n      <td>...</td>\n      <td>...</td>\n      <td>...</td>\n      <td>...</td>\n      <td>...</td>\n      <td>...</td>\n      <td>...</td>\n      <td>...</td>\n      <td>...</td>\n    </tr>\n    <tr>\n      <th>1245</th>\n      <td>2005</td>\n      <td>0.422</td>\n      <td>0.252</td>\n      <td>-0.024</td>\n      <td>-0.584</td>\n      <td>-0.285</td>\n      <td>1.88850</td>\n      <td>0.043</td>\n      <td>Up</td>\n    </tr>\n    <tr>\n      <th>1246</th>\n      <td>2005</td>\n      <td>0.043</td>\n      <td>0.422</td>\n      <td>0.252</td>\n      <td>-0.024</td>\n      <td>-0.584</td>\n      <td>1.28581</td>\n      <td>-0.955</td>\n      <td>Down</td>\n    </tr>\n    <tr>\n      <th>1247</th>\n      <td>2005</td>\n      <td>-0.955</td>\n      <td>0.043</td>\n      <td>0.422</td>\n      <td>0.252</td>\n      <td>-0.024</td>\n      <td>1.54047</td>\n      <td>0.130</td>\n      <td>Up</td>\n    </tr>\n    <tr>\n      <th>1248</th>\n      <td>2005</td>\n      <td>0.130</td>\n      <td>-0.955</td>\n      <td>0.043</td>\n      <td>0.422</td>\n      <td>0.252</td>\n      <td>1.42236</td>\n      <td>-0.298</td>\n      <td>Down</td>\n    </tr>\n    <tr>\n      <th>1249</th>\n      <td>2005</td>\n      <td>-0.298</td>\n      <td>0.130</td>\n      <td>-0.955</td>\n      <td>0.043</td>\n      <td>0.422</td>\n      <td>1.38254</td>\n      <td>-0.489</td>\n      <td>Down</td>\n    </tr>\n  </tbody>\n</table>\n<p>1250 rows × 9 columns</p>\n</div>"
     },
     "execution_count": 5,
     "metadata": {},
     "output_type": "execute_result"
    }
   ],
   "source": [
    "df = pd.read_csv('Smarket.csv')\n",
    "df"
   ],
   "metadata": {
    "collapsed": false,
    "ExecuteTime": {
     "end_time": "2023-07-14T07:21:23.963759Z",
     "start_time": "2023-07-14T07:21:23.898308400Z"
    }
   }
  },
  {
   "cell_type": "code",
   "execution_count": 7,
   "outputs": [
    {
     "data": {
      "text/plain": "      Year   Lag1   Lag2   Lag3   Lag4   Lag5   Volume  Today Direction  \\\n0     2001  0.381 -0.192 -2.624 -1.055  5.010  1.19130  0.959        Up   \n1     2001  0.959  0.381 -0.192 -2.624 -1.055  1.29650  1.032        Up   \n2     2001  1.032  0.959  0.381 -0.192 -2.624  1.41120 -0.623      Down   \n3     2001 -0.623  1.032  0.959  0.381 -0.192  1.27600  0.614        Up   \n4     2001  0.614 -0.623  1.032  0.959  0.381  1.20570  0.213        Up   \n...    ...    ...    ...    ...    ...    ...      ...    ...       ...   \n1245  2005  0.422  0.252 -0.024 -0.584 -0.285  1.88850  0.043        Up   \n1246  2005  0.043  0.422  0.252 -0.024 -0.584  1.28581 -0.955      Down   \n1247  2005 -0.955  0.043  0.422  0.252 -0.024  1.54047  0.130        Up   \n1248  2005  0.130 -0.955  0.043  0.422  0.252  1.42236 -0.298      Down   \n1249  2005 -0.298  0.130 -0.955  0.043  0.422  1.38254 -0.489      Down   \n\n      Direction2  \n0              1  \n1              1  \n2              0  \n3              1  \n4              1  \n...          ...  \n1245           1  \n1246           0  \n1247           1  \n1248           0  \n1249           0  \n\n[1250 rows x 10 columns]",
      "text/html": "<div>\n<style scoped>\n    .dataframe tbody tr th:only-of-type {\n        vertical-align: middle;\n    }\n\n    .dataframe tbody tr th {\n        vertical-align: top;\n    }\n\n    .dataframe thead th {\n        text-align: right;\n    }\n</style>\n<table border=\"1\" class=\"dataframe\">\n  <thead>\n    <tr style=\"text-align: right;\">\n      <th></th>\n      <th>Year</th>\n      <th>Lag1</th>\n      <th>Lag2</th>\n      <th>Lag3</th>\n      <th>Lag4</th>\n      <th>Lag5</th>\n      <th>Volume</th>\n      <th>Today</th>\n      <th>Direction</th>\n      <th>Direction2</th>\n    </tr>\n  </thead>\n  <tbody>\n    <tr>\n      <th>0</th>\n      <td>2001</td>\n      <td>0.381</td>\n      <td>-0.192</td>\n      <td>-2.624</td>\n      <td>-1.055</td>\n      <td>5.010</td>\n      <td>1.19130</td>\n      <td>0.959</td>\n      <td>Up</td>\n      <td>1</td>\n    </tr>\n    <tr>\n      <th>1</th>\n      <td>2001</td>\n      <td>0.959</td>\n      <td>0.381</td>\n      <td>-0.192</td>\n      <td>-2.624</td>\n      <td>-1.055</td>\n      <td>1.29650</td>\n      <td>1.032</td>\n      <td>Up</td>\n      <td>1</td>\n    </tr>\n    <tr>\n      <th>2</th>\n      <td>2001</td>\n      <td>1.032</td>\n      <td>0.959</td>\n      <td>0.381</td>\n      <td>-0.192</td>\n      <td>-2.624</td>\n      <td>1.41120</td>\n      <td>-0.623</td>\n      <td>Down</td>\n      <td>0</td>\n    </tr>\n    <tr>\n      <th>3</th>\n      <td>2001</td>\n      <td>-0.623</td>\n      <td>1.032</td>\n      <td>0.959</td>\n      <td>0.381</td>\n      <td>-0.192</td>\n      <td>1.27600</td>\n      <td>0.614</td>\n      <td>Up</td>\n      <td>1</td>\n    </tr>\n    <tr>\n      <th>4</th>\n      <td>2001</td>\n      <td>0.614</td>\n      <td>-0.623</td>\n      <td>1.032</td>\n      <td>0.959</td>\n      <td>0.381</td>\n      <td>1.20570</td>\n      <td>0.213</td>\n      <td>Up</td>\n      <td>1</td>\n    </tr>\n    <tr>\n      <th>...</th>\n      <td>...</td>\n      <td>...</td>\n      <td>...</td>\n      <td>...</td>\n      <td>...</td>\n      <td>...</td>\n      <td>...</td>\n      <td>...</td>\n      <td>...</td>\n      <td>...</td>\n    </tr>\n    <tr>\n      <th>1245</th>\n      <td>2005</td>\n      <td>0.422</td>\n      <td>0.252</td>\n      <td>-0.024</td>\n      <td>-0.584</td>\n      <td>-0.285</td>\n      <td>1.88850</td>\n      <td>0.043</td>\n      <td>Up</td>\n      <td>1</td>\n    </tr>\n    <tr>\n      <th>1246</th>\n      <td>2005</td>\n      <td>0.043</td>\n      <td>0.422</td>\n      <td>0.252</td>\n      <td>-0.024</td>\n      <td>-0.584</td>\n      <td>1.28581</td>\n      <td>-0.955</td>\n      <td>Down</td>\n      <td>0</td>\n    </tr>\n    <tr>\n      <th>1247</th>\n      <td>2005</td>\n      <td>-0.955</td>\n      <td>0.043</td>\n      <td>0.422</td>\n      <td>0.252</td>\n      <td>-0.024</td>\n      <td>1.54047</td>\n      <td>0.130</td>\n      <td>Up</td>\n      <td>1</td>\n    </tr>\n    <tr>\n      <th>1248</th>\n      <td>2005</td>\n      <td>0.130</td>\n      <td>-0.955</td>\n      <td>0.043</td>\n      <td>0.422</td>\n      <td>0.252</td>\n      <td>1.42236</td>\n      <td>-0.298</td>\n      <td>Down</td>\n      <td>0</td>\n    </tr>\n    <tr>\n      <th>1249</th>\n      <td>2005</td>\n      <td>-0.298</td>\n      <td>0.130</td>\n      <td>-0.955</td>\n      <td>0.043</td>\n      <td>0.422</td>\n      <td>1.38254</td>\n      <td>-0.489</td>\n      <td>Down</td>\n      <td>0</td>\n    </tr>\n  </tbody>\n</table>\n<p>1250 rows × 10 columns</p>\n</div>"
     },
     "execution_count": 7,
     "metadata": {},
     "output_type": "execute_result"
    }
   ],
   "source": [
    "# Turn Direction into a binary variable\n",
    "df['Direction2'] = df['Direction'].map({'Up':1, 'Down':0})\n",
    "df"
   ],
   "metadata": {
    "collapsed": false,
    "ExecuteTime": {
     "end_time": "2023-07-14T07:21:26.197310200Z",
     "start_time": "2023-07-14T07:21:26.175764400Z"
    }
   }
  },
  {
   "cell_type": "code",
   "execution_count": null,
   "outputs": [],
   "source": [],
   "metadata": {
    "collapsed": false
   }
  }
 ],
 "metadata": {
  "kernelspec": {
   "display_name": "Python 3",
   "language": "python",
   "name": "python3"
  },
  "language_info": {
   "codemirror_mode": {
    "name": "ipython",
    "version": 2
   },
   "file_extension": ".py",
   "mimetype": "text/x-python",
   "name": "python",
   "nbconvert_exporter": "python",
   "pygments_lexer": "ipython2",
   "version": "2.7.6"
  }
 },
 "nbformat": 4,
 "nbformat_minor": 0
}
